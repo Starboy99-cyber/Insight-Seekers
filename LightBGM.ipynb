{
  "nbformat": 4,
  "nbformat_minor": 0,
  "metadata": {
    "colab": {
      "provenance": []
    },
    "kernelspec": {
      "name": "python3",
      "display_name": "Python 3"
    },
    "language_info": {
      "name": "python"
    }
  },
  "cells": [
    {
      "cell_type": "code",
      "execution_count": null,
      "metadata": {
        "colab": {
          "base_uri": "https://localhost:8080/"
        },
        "id": "BonlCACmRw0G",
        "outputId": "2e8b7809-7779-46ba-ebbf-892c424408de"
      },
      "outputs": [
        {
          "output_type": "stream",
          "name": "stdout",
          "text": [
            "Requirement already satisfied: lightgbm in /usr/local/lib/python3.11/dist-packages (4.5.0)\n",
            "Requirement already satisfied: numpy>=1.17.0 in /usr/local/lib/python3.11/dist-packages (from lightgbm) (2.0.2)\n",
            "Requirement already satisfied: scipy in /usr/local/lib/python3.11/dist-packages (from lightgbm) (1.14.1)\n"
          ]
        }
      ],
      "source": [
        "!pip install lightgbm"
      ]
    },
    {
      "cell_type": "code",
      "source": [
        "import numpy as np\n",
        "import pandas as pd\n",
        "import lightgbm as lgb\n",
        "from sklearn.model_selection import train_test_split, RandomizedSearchCV\n",
        "from sklearn.metrics import r2_score, mean_squared_error\n"
      ],
      "metadata": {
        "id": "W4Aizo2fRyyz"
      },
      "execution_count": 1,
      "outputs": []
    },
    {
      "cell_type": "code",
      "source": [
        "# Load train & test feature datasets\n",
        "train_features = pd.read_csv(\"/content/final_train1.csv\")\n",
        "test_features = pd.read_csv(\"/content/final_test1.csv\")\n",
        "\n",
        "# Load target variables\n",
        "train_target = pd.read_excel(\"/content/Target_train.xlsx\")\n",
        "test_target = pd.read_excel(\"/content/Target_test.xlsx\") # Fixed path from // to /\n",
        "\n",
        "\n",
        "# Merge target with feature datasets\n",
        "final_train = train_features.copy()\n",
        "final_train[\"log_TotalExpense\"] = train_target[\"log_TotalExpense\"]\n",
        "\n",
        "final_test = test_features.copy()\n",
        "final_test[\"log_totalexpense\"] = test_target[\"log_totalexpense\"]\n",
        "\n",
        "# Assuming your DataFrame is named 'df'\n",
        "def delete_unnamed_columns(df):\n",
        "  \"\"\"Deletes all columns with 'Unnamed' in their name from a DataFrame.\n",
        "\n",
        "  Args:\n",
        "    df: The pandas DataFrame to modify.\n",
        "\n",
        "  Returns:\n",
        "    The DataFrame with 'Unnamed' columns removed.\n",
        "  \"\"\"\n",
        "  df = df.loc[:, ~df.columns.str.contains('^Unnamed:')]\n",
        "  return df\n",
        "\n",
        "# Example usage:\n",
        "final_train = delete_unnamed_columns(final_train)\n",
        "final_test = delete_unnamed_columns(final_test)\n",
        "\n",
        "\n",
        "# Separate Features (X) and Target Variable (y)\n",
        "X_train = final_train\n",
        "y_train = final_train[\"log_TotalExpense\"]\n",
        "\n",
        "X_test = final_test\n",
        "y_test = final_test[\"log_totalexpense\"]\n",
        "\n",
        "# List of columns to drop\n",
        "columns_to_drop = ['Unnamed: 407', 'Unnamed: 408', 'Unnamed: 409', 'Unnamed: 410', 'Unnamed: 411', 'log_TotalExpense']\n",
        "\n",
        "# Drop from both train and test sets (if they exist)\n",
        "X_train.drop(columns=[col for col in columns_to_drop if col in X_train.columns], inplace=True)\n",
        "X_test.drop(columns=[col for col in columns_to_drop if col in X_test.columns], inplace=True)"
      ],
      "metadata": {
        "id": "kMYDdPpAR6mZ"
      },
      "execution_count": 2,
      "outputs": []
    },
    {
      "cell_type": "code",
      "source": [
        "# Rename columns by replacing special characters with underscores (_)\n",
        "X_train.columns = X_train.columns.str.replace(r\"[^\\w]\", \"_\", regex=True)\n",
        "X_test.columns = X_test.columns.str.replace(r\"[^\\w]\", \"_\", regex=True)\n",
        "\n",
        "print(\"Updated Feature Names:\", X_train.columns.tolist())\n"
      ],
      "metadata": {
        "colab": {
          "base_uri": "https://localhost:8080/"
        },
        "id": "ZvPkd3_hX7AX",
        "outputId": "6dd43452-1a5f-42c9-b082-23c0dfc79dff"
      },
      "execution_count": 3,
      "outputs": [
        {
          "output_type": "stream",
          "name": "stdout",
          "text": [
            "Updated Feature Names: ['HH_Size__For_FDQ_', 'Male_Count', 'Female_Count', 'Other_Count', 'Age_0_18', 'Age_18_60', 'Age_60_above', 'Highest_educational_level_attained_head', 'Total_year_of_education_completed_head', 'Highest_educational_level_attained_median', 'Total_year_of_education_completed_median', 'No__of_days_stayed_away_from_home_during_last_30_days_avg', 'No__of_meals_usually_taken_in_a_day_avg', 'No__of_meals_taken_during_last_30_days_from_school__balwadi_etc__avg', 'No__of_meals_taken_during_last_30_days_from_employer_as_perquisites_or_part_of_wage_avg', 'No__of_meals_taken_during_last_30_days_others_avg', 'No__of_meals_taken_during_last_30_days_on_payment_avg', 'No__of_meals_taken_during_last_30_days_at_home_avg', 'Sector_1', 'Sector_2', 'State_1', 'State_2', 'State_3', 'State_4', 'State_5', 'State_6', 'State_7', 'State_8', 'State_9', 'State_10', 'State_11', 'State_12', 'State_13', 'State_14', 'State_15', 'State_16', 'State_17', 'State_18', 'State_19', 'State_20', 'State_21', 'State_22', 'State_23', 'State_24', 'State_25', 'State_27', 'State_28', 'State_29', 'State_30', 'State_31', 'State_32', 'State_33', 'State_34', 'State_35', 'State_36', 'State_37', 'Household_Type_1', 'Household_Type_2', 'Household_Type_3', 'Household_Type_4', 'Household_Type_5', 'Household_Type_6', 'Household_Type_9', 'NCO_2D_11', 'NCO_2D_12', 'NCO_2D_13', 'NCO_2D_14', 'NCO_2D_21', 'NCO_2D_22', 'NCO_2D_23', 'NCO_2D_24', 'NCO_2D_25', 'NCO_2D_26', 'NCO_2D_31', 'NCO_2D_32', 'NCO_2D_33', 'NCO_2D_34', 'NCO_2D_35', 'NCO_2D_41', 'NCO_2D_42', 'NCO_2D_43', 'NCO_2D_44', 'NCO_2D_51', 'NCO_2D_52', 'NCO_2D_53', 'NCO_2D_54', 'NCO_2D_61', 'NCO_2D_62', 'NCO_2D_63', 'NCO_2D_71', 'NCO_2D_72', 'NCO_2D_73', 'NCO_2D_74', 'NCO_2D_75', 'NCO_2D_81', 'NCO_2D_82', 'NCO_2D_83', 'NCO_2D_91', 'NCO_2D_92', 'NCO_2D_93', 'NCO_2D_94', 'NCO_2D_95', 'NCO_2D_96', 'NIC_2D_10', 'NIC_2D_11', 'NIC_2D_12', 'NIC_2D_13', 'NIC_2D_14', 'NIC_2D_15', 'NIC_2D_16', 'NIC_2D_17', 'NIC_2D_18', 'NIC_2D_19', 'NIC_2D_20', 'NIC_2D_21', 'NIC_2D_22', 'NIC_2D_23', 'NIC_2D_24', 'NIC_2D_25', 'NIC_2D_26', 'NIC_2D_27', 'NIC_2D_28', 'NIC_2D_29', 'NIC_2D_30', 'NIC_2D_31', 'NIC_2D_32', 'NIC_2D_33', 'NIC_2D_35', 'NIC_2D_36', 'NIC_2D_37', 'NIC_2D_38', 'NIC_2D_39', 'NIC_2D_41', 'NIC_2D_42', 'NIC_2D_43', 'NIC_2D_45', 'NIC_2D_46', 'NIC_2D_47', 'NIC_2D_49', 'NIC_2D_50', 'NIC_2D_51', 'NIC_2D_52', 'NIC_2D_53', 'NIC_2D_55', 'NIC_2D_56', 'NIC_2D_58', 'NIC_2D_59', 'NIC_2D_60', 'NIC_2D_61', 'NIC_2D_62', 'NIC_2D_63', 'NIC_2D_64', 'NIC_2D_65', 'NIC_2D_66', 'NIC_2D_68', 'NIC_2D_69', 'NIC_2D_70', 'NIC_2D_71', 'NIC_2D_72', 'NIC_2D_73', 'NIC_2D_74', 'NIC_2D_75', 'NIC_2D_77', 'NIC_2D_78', 'NIC_2D_79', 'NIC_2D_80', 'NIC_2D_81', 'NIC_2D_82', 'NIC_2D_84', 'NIC_2D_85', 'NIC_2D_86', 'NIC_2D_87', 'NIC_2D_88', 'NIC_2D_89', 'NIC_2D_90', 'NIC_2D_91', 'NIC_2D_92', 'NIC_2D_93', 'NIC_2D_94', 'NIC_2D_95', 'NIC_2D_96', 'NIC_2D_97', 'NIC_2D_99', 'Religion_of_the_head_of_the_household_0', 'Religion_of_the_head_of_the_household_1', 'Religion_of_the_head_of_the_household_2', 'Religion_of_the_head_of_the_household_3', 'Religion_of_the_head_of_the_household_4', 'Religion_of_the_head_of_the_household_5', 'Religion_of_the_head_of_the_household_6', 'Religion_of_the_head_of_the_household_7', 'Religion_of_the_head_of_the_household_9', 'Social_Group_of_the_head_of_the_household_0', 'Social_Group_of_the_head_of_the_household_1', 'Social_Group_of_the_head_of_the_household_2', 'Social_Group_of_the_head_of_the_household_3', 'Social_Group_of_the_head_of_the_household_9', 'Is_online_Clothing_Purchased_Last365_0', 'Is_online_Clothing_Purchased_Last365_1', 'Is_online_Footwear_Purchased_Last365_0', 'Is_online_Footwear_Purchased_Last365_1', 'Is_online_Furniture_fixturesPurchased_Last365_0', 'Is_online_Furniture_fixturesPurchased_Last365_1', 'Is_online_Mobile_Handset_Purchased_Last365_0', 'Is_online_Mobile_Handset_Purchased_Last365_1', 'Is_online_Personal_Goods_Purchased_Last365_0', 'Is_online_Personal_Goods_Purchased_Last365_1', 'Is_online_Recreation_Goods_Purchased_Last365_0', 'Is_online_Recreation_Goods_Purchased_Last365_1', 'Is_online_Household_Appliances_Purchased_Last365_0', 'Is_online_Household_Appliances_Purchased_Last365_1', 'Is_online_Crockery_Utensils_Purchased_Last365_0', 'Is_online_Crockery_Utensils_Purchased_Last365_1', 'Is_online_Sports_Goods_Purchased_Last365_0', 'Is_online_Sports_Goods_Purchased_Last365_1', 'Is_online_Medical_Equipment_Purchased_Last365_0', 'Is_online_Medical_Equipment_Purchased_Last365_1', 'Is_online_Bedding_Purchased_Last365_0', 'Is_online_Bedding_Purchased_Last365_1', 'Is_HH_Have_Television_0', 'Is_HH_Have_Television_1', 'Is_HH_Have_Radio_0', 'Is_HH_Have_Radio_1', 'Is_HH_Have_Laptop_PC_0', 'Is_HH_Have_Laptop_PC_1', 'Is_HH_Have_Mobile_handset_0', 'Is_HH_Have_Mobile_handset_1', 'Is_HH_Have_Bicycle_0', 'Is_HH_Have_Bicycle_1', 'Is_HH_Have_Motorcycle_scooter_0', 'Is_HH_Have_Motorcycle_scooter_1', 'Is_HH_Have_Motorcar_jeep_van_0', 'Is_HH_Have_Motorcar_jeep_van_1', 'Is_HH_Have_Trucks_0', 'Is_HH_Have_Trucks_1', 'Is_HH_Have_Animal_cart_0', 'Is_HH_Have_Animal_cart_1', 'Is_HH_Have_Refrigerator_0', 'Is_HH_Have_Refrigerator_1', 'Is_HH_Have_Washing_machine_0', 'Is_HH_Have_Washing_machine_1', 'Is_HH_Have_Airconditioner_aircooler_0', 'Is_HH_Have_Airconditioner_aircooler_1', 'Marital_Status_head_1', 'Marital_Status_head_2', 'Marital_Status_head_3', 'Marital_Status_head_4', 'Whether_used_internet_from_any_location_during_last_30_days_1', 'Whether_used_internet_from_any_location_during_last_30_days_2']\n"
          ]
        }
      ]
    },
    {
      "cell_type": "code",
      "source": [
        "# Ensure both X_train and X_test have the same columns\n",
        "X_train, X_test = X_train.align(X_test, join=\"inner\", axis=1)\n",
        "\n",
        "print(\"X_train shape:\", X_train.shape)\n",
        "print(\"X_test shape:\", X_test.shape)\n",
        "\n",
        "lgb_model = lgb.LGBMRegressor(objective='regression', metric='rmse', random_state=42)\n",
        "lgb_model.fit(X_train, y_train)  # Train with corrected features\n",
        "\n",
        "y_pred = lgb_model.predict(X_test)  # Make predictions with aligned test set\n",
        "\n",
        "print(\"Model trained and tested successfully!\")\n"
      ],
      "metadata": {
        "colab": {
          "base_uri": "https://localhost:8080/"
        },
        "id": "psyExSsDYg3E",
        "outputId": "5d922610-1bd0-4c40-c640-c00b29415cc1"
      },
      "execution_count": 4,
      "outputs": [
        {
          "output_type": "stream",
          "name": "stdout",
          "text": [
            "X_train shape: (209396, 249)\n",
            "X_test shape: (52350, 249)\n",
            "[LightGBM] [Info] Auto-choosing row-wise multi-threading, the overhead of testing was 0.193593 seconds.\n",
            "You can set `force_row_wise=true` to remove the overhead.\n",
            "And if memory is not enough, you can set `force_col_wise=true`.\n",
            "[LightGBM] [Info] Total Bins 988\n",
            "[LightGBM] [Info] Number of data points in the train set: 209396, number of used features: 249\n",
            "[LightGBM] [Info] Start training from score 9.764769\n",
            "Model trained and tested successfully!\n"
          ]
        }
      ]
    },
    {
      "cell_type": "code",
      "source": [
        "# Find extra/missing columns\n",
        "train_cols = set(X_train.columns)\n",
        "test_cols = set(X_test.columns)\n",
        "\n",
        "extra_cols = test_cols - train_cols\n",
        "missing_cols = train_cols - test_cols\n",
        "\n",
        "print(\"Extra columns in X_test:\", extra_cols)\n",
        "print(\"Missing columns in X_test:\", missing_cols)\n"
      ],
      "metadata": {
        "colab": {
          "base_uri": "https://localhost:8080/"
        },
        "id": "_94VezFQY__6",
        "outputId": "9a1098f7-22d8-449e-cd17-cc0169a57949"
      },
      "execution_count": 5,
      "outputs": [
        {
          "output_type": "stream",
          "name": "stdout",
          "text": [
            "Extra columns in X_test: set()\n",
            "Missing columns in X_test: set()\n"
          ]
        }
      ]
    },
    {
      "cell_type": "code",
      "source": [
        "import numpy as np\n",
        "import lightgbm as lgb\n",
        "from sklearn.metrics import r2_score, mean_squared_error\n",
        "\n",
        "# Function to calculate MAPE\n",
        "def mean_absolute_percentage_error(y_true, y_pred):\n",
        "    y_true, y_pred = np.array(y_true), np.array(y_pred)\n",
        "    return np.mean(np.abs((y_true - y_pred) / y_true)) * 100\n"
      ],
      "metadata": {
        "id": "iRDhW1QwZMA1"
      },
      "execution_count": 6,
      "outputs": []
    },
    {
      "cell_type": "code",
      "source": [
        "# Define the model\n",
        "lgb_model = lgb.LGBMRegressor(objective='regression', metric='rmse', random_state=42)\n",
        "\n",
        "# Train the model\n",
        "lgb_model.fit(X_train, y_train)\n",
        "\n",
        "# Make predictions on test data\n",
        "y_pred = lgb_model.predict(X_test)\n"
      ],
      "metadata": {
        "colab": {
          "base_uri": "https://localhost:8080/"
        },
        "id": "gstRKo9vZa0C",
        "outputId": "a41b6a17-e2e2-49c6-fe58-85556478f624"
      },
      "execution_count": 7,
      "outputs": [
        {
          "output_type": "stream",
          "name": "stdout",
          "text": [
            "[LightGBM] [Info] Auto-choosing row-wise multi-threading, the overhead of testing was 0.192336 seconds.\n",
            "You can set `force_row_wise=true` to remove the overhead.\n",
            "And if memory is not enough, you can set `force_col_wise=true`.\n",
            "[LightGBM] [Info] Total Bins 988\n",
            "[LightGBM] [Info] Number of data points in the train set: 209396, number of used features: 249\n",
            "[LightGBM] [Info] Start training from score 9.764769\n"
          ]
        }
      ]
    },
    {
      "cell_type": "code",
      "source": [
        "# Calculate metrics\n",
        "r2 = r2_score(y_test, y_pred)\n",
        "rmse = np.sqrt(mean_squared_error(y_test, y_pred))\n",
        "mape = mean_absolute_percentage_error(y_test, y_pred)\n",
        "\n",
        "# Print results\n",
        "print(f\"✅ LightGBM R² Score: {r2:.4f}\")\n",
        "print(f\"✅ LightGBM RMSE: {rmse:.4f}\")\n",
        "print(f\"✅ LightGBM MAPE: {mape:.2f}\")\n"
      ],
      "metadata": {
        "colab": {
          "base_uri": "https://localhost:8080/"
        },
        "id": "c9zpxoJ-ZdWY",
        "outputId": "15121781-3f05-40bd-f4f5-0df81da11cd9"
      },
      "execution_count": 8,
      "outputs": [
        {
          "output_type": "stream",
          "name": "stdout",
          "text": [
            "✅ LightGBM R² Score: 0.6890\n",
            "✅ LightGBM RMSE: 0.3295\n",
            "✅ LightGBM MAPE: 2.60\n"
          ]
        }
      ]
    },
    {
      "cell_type": "code",
      "source": [
        "# Make predictions on test data\n",
        "y_pred = lgb_model.predict(X_train)\n"
      ],
      "metadata": {
        "id": "xMPyy4snZgW-"
      },
      "execution_count": 9,
      "outputs": []
    },
    {
      "cell_type": "code",
      "source": [
        "# Calculate metrics\n",
        "r2 = r2_score(y_train, y_pred)\n",
        "rmse = np.sqrt(mean_squared_error(y_train, y_pred))\n",
        "mape = mean_absolute_percentage_error(y_train, y_pred)\n",
        "\n",
        "# Print results\n",
        "print(f\"✅ LightGBM R² Score: {r2:.4f}\")\n",
        "print(f\"✅ LightGBM RMSE: {rmse:.4f}\")\n",
        "print(f\"✅ LightGBM MAPE: {mape:.2f}\")\n"
      ],
      "metadata": {
        "colab": {
          "base_uri": "https://localhost:8080/"
        },
        "id": "WgXqG9NKZncq",
        "outputId": "b06cbaf0-c992-49ad-dac6-8e195904670e"
      },
      "execution_count": 10,
      "outputs": [
        {
          "output_type": "stream",
          "name": "stdout",
          "text": [
            "✅ LightGBM R² Score: 0.6953\n",
            "✅ LightGBM RMSE: 0.3248\n",
            "✅ LightGBM MAPE: 2.57\n"
          ]
        }
      ]
    },
    {
      "cell_type": "code",
      "source": [],
      "metadata": {
        "id": "OpUfIpXdZuIl"
      },
      "execution_count": null,
      "outputs": []
    }
  ]
}