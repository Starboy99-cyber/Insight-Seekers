{
 "cells": [
  {
   "cell_type": "code",
   "execution_count": 2,
   "id": "89db21e9-dd8c-4f03-ae1a-111b297b90f7",
   "metadata": {},
   "outputs": [],
   "source": [
    "import pandas as pd"
   ]
  },
  {
   "cell_type": "code",
   "execution_count": 3,
   "id": "064f7d65-d4f7-4d56-a7ba-059dc6b85c5b",
   "metadata": {},
   "outputs": [],
   "source": [
    "df_test=pd.read_csv(r\"C:\\Users\\Aditi\\Downloads\\final_test (1).csv\")"
   ]
  },
  {
   "cell_type": "code",
   "execution_count": 24,
   "id": "9e100d8f-7a37-45c5-9484-5afb75170435",
   "metadata": {},
   "outputs": [
    {
     "data": {
      "text/plain": [
       "(52350, 309)"
      ]
     },
     "execution_count": 24,
     "metadata": {},
     "output_type": "execute_result"
    }
   ],
   "source": [
    "df_test.shape"
   ]
  },
  {
   "cell_type": "code",
   "execution_count": 25,
   "id": "31632132-27e8-4495-9a8e-d44e6b00f877",
   "metadata": {},
   "outputs": [],
   "source": [
    "df_test.to_csv(r\"C:\\Users\\Aditi\\Downloads\\final_testfinal.csv\", index=False)  # Saves without index\n"
   ]
  },
  {
   "cell_type": "code",
   "execution_count": 26,
   "id": "0c480eb6-1655-4a94-b47d-0fda4ef543d3",
   "metadata": {},
   "outputs": [],
   "source": [
    "df_train=pd.read_csv(r\"C:\\Users\\Aditi\\Downloads\\final_train.csv\")"
   ]
  },
  {
   "cell_type": "code",
   "execution_count": 27,
   "id": "eb00c6c0-c619-42ae-84a9-0a050e6600e2",
   "metadata": {},
   "outputs": [
    {
     "data": {
      "text/plain": [
       "(209396, 309)"
      ]
     },
     "execution_count": 27,
     "metadata": {},
     "output_type": "execute_result"
    }
   ],
   "source": [
    "df_train.shape"
   ]
  },
  {
   "cell_type": "code",
   "execution_count": 28,
   "id": "d32d504f-4179-4817-b8b1-9af7239dc10f",
   "metadata": {},
   "outputs": [
    {
     "data": {
      "text/plain": [
       "Index(['Unnamed: 0', 'HH Size (For FDQ)', 'Household_Size', 'Male_Count',\n",
       "       'Female_Count', 'Other_Count', 'Age_0_18', 'Age_18_60', 'Age_60_above',\n",
       "       'Highest educational level attained_head',\n",
       "       ...\n",
       "       'Total year of education completed_head.1',\n",
       "       'Highest educational level attained_median.1',\n",
       "       'Total year of education completed_median.1',\n",
       "       'No. of days stayed away from home during last 30 days_avg.1',\n",
       "       'No. of meals usually taken in a day_avg.1',\n",
       "       'No. of meals taken during last 30 days from school, balwadi etc._avg.1',\n",
       "       'No. of meals taken during last 30 days from employer as perquisites or part of wage_avg.1',\n",
       "       'No. of meals taken during last 30 days others_avg.1',\n",
       "       'No. of meals taken during last 30 days on payment_avg.1',\n",
       "       'No. of meals taken during last 30 days at home_avg.1'],\n",
       "      dtype='object', length=309)"
      ]
     },
     "execution_count": 28,
     "metadata": {},
     "output_type": "execute_result"
    }
   ],
   "source": [
    "df_train.columns"
   ]
  },
  {
   "cell_type": "code",
   "execution_count": 29,
   "id": "8f58231c-e4e3-498e-b3de-a0c3d2fe6062",
   "metadata": {},
   "outputs": [],
   "source": [
    "df_train = df_train.drop(columns=[\"Unnamed: 0\"], errors=\"ignore\")"
   ]
  },
  {
   "cell_type": "code",
   "execution_count": 30,
   "id": "8972a71e-bf7a-494a-a1c8-e5a6fbfe72e3",
   "metadata": {},
   "outputs": [],
   "source": [
    "df_test = df_train.drop(columns=[\"Unnamed: 0\"], errors=\"ignore\")"
   ]
  },
  {
   "cell_type": "code",
   "execution_count": 31,
   "id": "4817dfe9-7333-411c-aa0b-bef42c730275",
   "metadata": {},
   "outputs": [
    {
     "data": {
      "text/html": [
       "<div>\n",
       "<style scoped>\n",
       "    .dataframe tbody tr th:only-of-type {\n",
       "        vertical-align: middle;\n",
       "    }\n",
       "\n",
       "    .dataframe tbody tr th {\n",
       "        vertical-align: top;\n",
       "    }\n",
       "\n",
       "    .dataframe thead th {\n",
       "        text-align: right;\n",
       "    }\n",
       "</style>\n",
       "<table border=\"1\" class=\"dataframe\">\n",
       "  <thead>\n",
       "    <tr style=\"text-align: right;\">\n",
       "      <th></th>\n",
       "      <th>HH Size (For FDQ)</th>\n",
       "      <th>Household_Size</th>\n",
       "      <th>Male_Count</th>\n",
       "      <th>Female_Count</th>\n",
       "      <th>Other_Count</th>\n",
       "      <th>Age_0_18</th>\n",
       "      <th>Age_18_60</th>\n",
       "      <th>Age_60_above</th>\n",
       "      <th>Highest educational level attained_head</th>\n",
       "      <th>Total year of education completed_head</th>\n",
       "      <th>...</th>\n",
       "      <th>Total year of education completed_head.1</th>\n",
       "      <th>Highest educational level attained_median.1</th>\n",
       "      <th>Total year of education completed_median.1</th>\n",
       "      <th>No. of days stayed away from home during last 30 days_avg.1</th>\n",
       "      <th>No. of meals usually taken in a day_avg.1</th>\n",
       "      <th>No. of meals taken during last 30 days from school, balwadi etc._avg.1</th>\n",
       "      <th>No. of meals taken during last 30 days from employer as perquisites or part of wage_avg.1</th>\n",
       "      <th>No. of meals taken during last 30 days others_avg.1</th>\n",
       "      <th>No. of meals taken during last 30 days on payment_avg.1</th>\n",
       "      <th>No. of meals taken during last 30 days at home_avg.1</th>\n",
       "    </tr>\n",
       "  </thead>\n",
       "  <tbody>\n",
       "    <tr>\n",
       "      <th>0</th>\n",
       "      <td>2</td>\n",
       "      <td>2</td>\n",
       "      <td>1</td>\n",
       "      <td>1</td>\n",
       "      <td>0</td>\n",
       "      <td>0</td>\n",
       "      <td>2</td>\n",
       "      <td>0</td>\n",
       "      <td>3</td>\n",
       "      <td>3.0</td>\n",
       "      <td>...</td>\n",
       "      <td>-0.778107</td>\n",
       "      <td>-0.385843</td>\n",
       "      <td>-1.266048</td>\n",
       "      <td>-0.219604</td>\n",
       "      <td>0.893579</td>\n",
       "      <td>-0.357447</td>\n",
       "      <td>-0.076274</td>\n",
       "      <td>-0.21912</td>\n",
       "      <td>-0.166664</td>\n",
       "      <td>1.072784</td>\n",
       "    </tr>\n",
       "    <tr>\n",
       "      <th>1</th>\n",
       "      <td>1</td>\n",
       "      <td>1</td>\n",
       "      <td>0</td>\n",
       "      <td>1</td>\n",
       "      <td>0</td>\n",
       "      <td>0</td>\n",
       "      <td>1</td>\n",
       "      <td>0</td>\n",
       "      <td>5</td>\n",
       "      <td>9.0</td>\n",
       "      <td>...</td>\n",
       "      <td>0.265448</td>\n",
       "      <td>-0.038029</td>\n",
       "      <td>-0.095378</td>\n",
       "      <td>-0.219604</td>\n",
       "      <td>-1.090893</td>\n",
       "      <td>-0.357447</td>\n",
       "      <td>-0.076274</td>\n",
       "      <td>-0.21912</td>\n",
       "      <td>-0.166664</td>\n",
       "      <td>-0.771285</td>\n",
       "    </tr>\n",
       "    <tr>\n",
       "      <th>2</th>\n",
       "      <td>5</td>\n",
       "      <td>5</td>\n",
       "      <td>2</td>\n",
       "      <td>3</td>\n",
       "      <td>0</td>\n",
       "      <td>1</td>\n",
       "      <td>4</td>\n",
       "      <td>0</td>\n",
       "      <td>12</td>\n",
       "      <td>17.0</td>\n",
       "      <td>...</td>\n",
       "      <td>1.656854</td>\n",
       "      <td>2.396668</td>\n",
       "      <td>1.777692</td>\n",
       "      <td>-0.219604</td>\n",
       "      <td>0.893579</td>\n",
       "      <td>-0.357447</td>\n",
       "      <td>-0.076274</td>\n",
       "      <td>-0.21912</td>\n",
       "      <td>0.934268</td>\n",
       "      <td>0.581032</td>\n",
       "    </tr>\n",
       "    <tr>\n",
       "      <th>3</th>\n",
       "      <td>6</td>\n",
       "      <td>6</td>\n",
       "      <td>3</td>\n",
       "      <td>3</td>\n",
       "      <td>0</td>\n",
       "      <td>3</td>\n",
       "      <td>3</td>\n",
       "      <td>0</td>\n",
       "      <td>1</td>\n",
       "      <td>0.0</td>\n",
       "      <td>...</td>\n",
       "      <td>-1.299884</td>\n",
       "      <td>-0.385843</td>\n",
       "      <td>0.372889</td>\n",
       "      <td>-0.219604</td>\n",
       "      <td>0.893579</td>\n",
       "      <td>2.177541</td>\n",
       "      <td>-0.076274</td>\n",
       "      <td>-0.21912</td>\n",
       "      <td>-0.166664</td>\n",
       "      <td>0.642501</td>\n",
       "    </tr>\n",
       "    <tr>\n",
       "      <th>4</th>\n",
       "      <td>2</td>\n",
       "      <td>2</td>\n",
       "      <td>1</td>\n",
       "      <td>1</td>\n",
       "      <td>0</td>\n",
       "      <td>0</td>\n",
       "      <td>1</td>\n",
       "      <td>1</td>\n",
       "      <td>7</td>\n",
       "      <td>12.0</td>\n",
       "      <td>...</td>\n",
       "      <td>0.787225</td>\n",
       "      <td>-0.385843</td>\n",
       "      <td>0.607023</td>\n",
       "      <td>-0.219604</td>\n",
       "      <td>0.893579</td>\n",
       "      <td>-0.357447</td>\n",
       "      <td>-0.076274</td>\n",
       "      <td>-0.21912</td>\n",
       "      <td>0.246186</td>\n",
       "      <td>0.888377</td>\n",
       "    </tr>\n",
       "  </tbody>\n",
       "</table>\n",
       "<p>5 rows × 308 columns</p>\n",
       "</div>"
      ],
      "text/plain": [
       "   HH Size (For FDQ)  Household_Size  Male_Count  Female_Count  Other_Count  \\\n",
       "0                  2               2           1             1            0   \n",
       "1                  1               1           0             1            0   \n",
       "2                  5               5           2             3            0   \n",
       "3                  6               6           3             3            0   \n",
       "4                  2               2           1             1            0   \n",
       "\n",
       "   Age_0_18  Age_18_60  Age_60_above  Highest educational level attained_head  \\\n",
       "0         0          2             0                                        3   \n",
       "1         0          1             0                                        5   \n",
       "2         1          4             0                                       12   \n",
       "3         3          3             0                                        1   \n",
       "4         0          1             1                                        7   \n",
       "\n",
       "   Total year of education completed_head  ...  \\\n",
       "0                                     3.0  ...   \n",
       "1                                     9.0  ...   \n",
       "2                                    17.0  ...   \n",
       "3                                     0.0  ...   \n",
       "4                                    12.0  ...   \n",
       "\n",
       "   Total year of education completed_head.1  \\\n",
       "0                                 -0.778107   \n",
       "1                                  0.265448   \n",
       "2                                  1.656854   \n",
       "3                                 -1.299884   \n",
       "4                                  0.787225   \n",
       "\n",
       "   Highest educational level attained_median.1  \\\n",
       "0                                    -0.385843   \n",
       "1                                    -0.038029   \n",
       "2                                     2.396668   \n",
       "3                                    -0.385843   \n",
       "4                                    -0.385843   \n",
       "\n",
       "   Total year of education completed_median.1  \\\n",
       "0                                   -1.266048   \n",
       "1                                   -0.095378   \n",
       "2                                    1.777692   \n",
       "3                                    0.372889   \n",
       "4                                    0.607023   \n",
       "\n",
       "   No. of days stayed away from home during last 30 days_avg.1  \\\n",
       "0                                          -0.219604             \n",
       "1                                          -0.219604             \n",
       "2                                          -0.219604             \n",
       "3                                          -0.219604             \n",
       "4                                          -0.219604             \n",
       "\n",
       "   No. of meals usually taken in a day_avg.1  \\\n",
       "0                                   0.893579   \n",
       "1                                  -1.090893   \n",
       "2                                   0.893579   \n",
       "3                                   0.893579   \n",
       "4                                   0.893579   \n",
       "\n",
       "   No. of meals taken during last 30 days from school, balwadi etc._avg.1  \\\n",
       "0                                          -0.357447                        \n",
       "1                                          -0.357447                        \n",
       "2                                          -0.357447                        \n",
       "3                                           2.177541                        \n",
       "4                                          -0.357447                        \n",
       "\n",
       "   No. of meals taken during last 30 days from employer as perquisites or part of wage_avg.1  \\\n",
       "0                                          -0.076274                                           \n",
       "1                                          -0.076274                                           \n",
       "2                                          -0.076274                                           \n",
       "3                                          -0.076274                                           \n",
       "4                                          -0.076274                                           \n",
       "\n",
       "   No. of meals taken during last 30 days others_avg.1  \\\n",
       "0                                           -0.21912     \n",
       "1                                           -0.21912     \n",
       "2                                           -0.21912     \n",
       "3                                           -0.21912     \n",
       "4                                           -0.21912     \n",
       "\n",
       "   No. of meals taken during last 30 days on payment_avg.1  \\\n",
       "0                                          -0.166664         \n",
       "1                                          -0.166664         \n",
       "2                                           0.934268         \n",
       "3                                          -0.166664         \n",
       "4                                           0.246186         \n",
       "\n",
       "   No. of meals taken during last 30 days at home_avg.1  \n",
       "0                                           1.072784     \n",
       "1                                          -0.771285     \n",
       "2                                           0.581032     \n",
       "3                                           0.642501     \n",
       "4                                           0.888377     \n",
       "\n",
       "[5 rows x 308 columns]"
      ]
     },
     "execution_count": 31,
     "metadata": {},
     "output_type": "execute_result"
    }
   ],
   "source": [
    "df_train.head()"
   ]
  },
  {
   "cell_type": "code",
   "execution_count": 33,
   "id": "04e0e929-e879-401b-a3c4-8b28cf8ba9c9",
   "metadata": {},
   "outputs": [
    {
     "data": {
      "text/html": [
       "<div>\n",
       "<style scoped>\n",
       "    .dataframe tbody tr th:only-of-type {\n",
       "        vertical-align: middle;\n",
       "    }\n",
       "\n",
       "    .dataframe tbody tr th {\n",
       "        vertical-align: top;\n",
       "    }\n",
       "\n",
       "    .dataframe thead th {\n",
       "        text-align: right;\n",
       "    }\n",
       "</style>\n",
       "<table border=\"1\" class=\"dataframe\">\n",
       "  <thead>\n",
       "    <tr style=\"text-align: right;\">\n",
       "      <th></th>\n",
       "      <th>HH Size (For FDQ)</th>\n",
       "      <th>Household_Size</th>\n",
       "      <th>Male_Count</th>\n",
       "      <th>Female_Count</th>\n",
       "      <th>Other_Count</th>\n",
       "      <th>Age_0_18</th>\n",
       "      <th>Age_18_60</th>\n",
       "      <th>Age_60_above</th>\n",
       "      <th>Highest educational level attained_head</th>\n",
       "      <th>Total year of education completed_head</th>\n",
       "      <th>...</th>\n",
       "      <th>Total year of education completed_head.1</th>\n",
       "      <th>Highest educational level attained_median.1</th>\n",
       "      <th>Total year of education completed_median.1</th>\n",
       "      <th>No. of days stayed away from home during last 30 days_avg.1</th>\n",
       "      <th>No. of meals usually taken in a day_avg.1</th>\n",
       "      <th>No. of meals taken during last 30 days from school, balwadi etc._avg.1</th>\n",
       "      <th>No. of meals taken during last 30 days from employer as perquisites or part of wage_avg.1</th>\n",
       "      <th>No. of meals taken during last 30 days others_avg.1</th>\n",
       "      <th>No. of meals taken during last 30 days on payment_avg.1</th>\n",
       "      <th>No. of meals taken during last 30 days at home_avg.1</th>\n",
       "    </tr>\n",
       "  </thead>\n",
       "  <tbody>\n",
       "    <tr>\n",
       "      <th>0</th>\n",
       "      <td>2</td>\n",
       "      <td>2</td>\n",
       "      <td>1</td>\n",
       "      <td>1</td>\n",
       "      <td>0</td>\n",
       "      <td>0</td>\n",
       "      <td>2</td>\n",
       "      <td>0</td>\n",
       "      <td>3</td>\n",
       "      <td>3.0</td>\n",
       "      <td>...</td>\n",
       "      <td>-0.778107</td>\n",
       "      <td>-0.385843</td>\n",
       "      <td>-1.266048</td>\n",
       "      <td>-0.219604</td>\n",
       "      <td>0.893579</td>\n",
       "      <td>-0.357447</td>\n",
       "      <td>-0.076274</td>\n",
       "      <td>-0.21912</td>\n",
       "      <td>-0.166664</td>\n",
       "      <td>1.072784</td>\n",
       "    </tr>\n",
       "    <tr>\n",
       "      <th>1</th>\n",
       "      <td>1</td>\n",
       "      <td>1</td>\n",
       "      <td>0</td>\n",
       "      <td>1</td>\n",
       "      <td>0</td>\n",
       "      <td>0</td>\n",
       "      <td>1</td>\n",
       "      <td>0</td>\n",
       "      <td>5</td>\n",
       "      <td>9.0</td>\n",
       "      <td>...</td>\n",
       "      <td>0.265448</td>\n",
       "      <td>-0.038029</td>\n",
       "      <td>-0.095378</td>\n",
       "      <td>-0.219604</td>\n",
       "      <td>-1.090893</td>\n",
       "      <td>-0.357447</td>\n",
       "      <td>-0.076274</td>\n",
       "      <td>-0.21912</td>\n",
       "      <td>-0.166664</td>\n",
       "      <td>-0.771285</td>\n",
       "    </tr>\n",
       "    <tr>\n",
       "      <th>2</th>\n",
       "      <td>5</td>\n",
       "      <td>5</td>\n",
       "      <td>2</td>\n",
       "      <td>3</td>\n",
       "      <td>0</td>\n",
       "      <td>1</td>\n",
       "      <td>4</td>\n",
       "      <td>0</td>\n",
       "      <td>12</td>\n",
       "      <td>17.0</td>\n",
       "      <td>...</td>\n",
       "      <td>1.656854</td>\n",
       "      <td>2.396668</td>\n",
       "      <td>1.777692</td>\n",
       "      <td>-0.219604</td>\n",
       "      <td>0.893579</td>\n",
       "      <td>-0.357447</td>\n",
       "      <td>-0.076274</td>\n",
       "      <td>-0.21912</td>\n",
       "      <td>0.934268</td>\n",
       "      <td>0.581032</td>\n",
       "    </tr>\n",
       "    <tr>\n",
       "      <th>3</th>\n",
       "      <td>6</td>\n",
       "      <td>6</td>\n",
       "      <td>3</td>\n",
       "      <td>3</td>\n",
       "      <td>0</td>\n",
       "      <td>3</td>\n",
       "      <td>3</td>\n",
       "      <td>0</td>\n",
       "      <td>1</td>\n",
       "      <td>0.0</td>\n",
       "      <td>...</td>\n",
       "      <td>-1.299884</td>\n",
       "      <td>-0.385843</td>\n",
       "      <td>0.372889</td>\n",
       "      <td>-0.219604</td>\n",
       "      <td>0.893579</td>\n",
       "      <td>2.177541</td>\n",
       "      <td>-0.076274</td>\n",
       "      <td>-0.21912</td>\n",
       "      <td>-0.166664</td>\n",
       "      <td>0.642501</td>\n",
       "    </tr>\n",
       "    <tr>\n",
       "      <th>4</th>\n",
       "      <td>2</td>\n",
       "      <td>2</td>\n",
       "      <td>1</td>\n",
       "      <td>1</td>\n",
       "      <td>0</td>\n",
       "      <td>0</td>\n",
       "      <td>1</td>\n",
       "      <td>1</td>\n",
       "      <td>7</td>\n",
       "      <td>12.0</td>\n",
       "      <td>...</td>\n",
       "      <td>0.787225</td>\n",
       "      <td>-0.385843</td>\n",
       "      <td>0.607023</td>\n",
       "      <td>-0.219604</td>\n",
       "      <td>0.893579</td>\n",
       "      <td>-0.357447</td>\n",
       "      <td>-0.076274</td>\n",
       "      <td>-0.21912</td>\n",
       "      <td>0.246186</td>\n",
       "      <td>0.888377</td>\n",
       "    </tr>\n",
       "  </tbody>\n",
       "</table>\n",
       "<p>5 rows × 308 columns</p>\n",
       "</div>"
      ],
      "text/plain": [
       "   HH Size (For FDQ)  Household_Size  Male_Count  Female_Count  Other_Count  \\\n",
       "0                  2               2           1             1            0   \n",
       "1                  1               1           0             1            0   \n",
       "2                  5               5           2             3            0   \n",
       "3                  6               6           3             3            0   \n",
       "4                  2               2           1             1            0   \n",
       "\n",
       "   Age_0_18  Age_18_60  Age_60_above  Highest educational level attained_head  \\\n",
       "0         0          2             0                                        3   \n",
       "1         0          1             0                                        5   \n",
       "2         1          4             0                                       12   \n",
       "3         3          3             0                                        1   \n",
       "4         0          1             1                                        7   \n",
       "\n",
       "   Total year of education completed_head  ...  \\\n",
       "0                                     3.0  ...   \n",
       "1                                     9.0  ...   \n",
       "2                                    17.0  ...   \n",
       "3                                     0.0  ...   \n",
       "4                                    12.0  ...   \n",
       "\n",
       "   Total year of education completed_head.1  \\\n",
       "0                                 -0.778107   \n",
       "1                                  0.265448   \n",
       "2                                  1.656854   \n",
       "3                                 -1.299884   \n",
       "4                                  0.787225   \n",
       "\n",
       "   Highest educational level attained_median.1  \\\n",
       "0                                    -0.385843   \n",
       "1                                    -0.038029   \n",
       "2                                     2.396668   \n",
       "3                                    -0.385843   \n",
       "4                                    -0.385843   \n",
       "\n",
       "   Total year of education completed_median.1  \\\n",
       "0                                   -1.266048   \n",
       "1                                   -0.095378   \n",
       "2                                    1.777692   \n",
       "3                                    0.372889   \n",
       "4                                    0.607023   \n",
       "\n",
       "   No. of days stayed away from home during last 30 days_avg.1  \\\n",
       "0                                          -0.219604             \n",
       "1                                          -0.219604             \n",
       "2                                          -0.219604             \n",
       "3                                          -0.219604             \n",
       "4                                          -0.219604             \n",
       "\n",
       "   No. of meals usually taken in a day_avg.1  \\\n",
       "0                                   0.893579   \n",
       "1                                  -1.090893   \n",
       "2                                   0.893579   \n",
       "3                                   0.893579   \n",
       "4                                   0.893579   \n",
       "\n",
       "   No. of meals taken during last 30 days from school, balwadi etc._avg.1  \\\n",
       "0                                          -0.357447                        \n",
       "1                                          -0.357447                        \n",
       "2                                          -0.357447                        \n",
       "3                                           2.177541                        \n",
       "4                                          -0.357447                        \n",
       "\n",
       "   No. of meals taken during last 30 days from employer as perquisites or part of wage_avg.1  \\\n",
       "0                                          -0.076274                                           \n",
       "1                                          -0.076274                                           \n",
       "2                                          -0.076274                                           \n",
       "3                                          -0.076274                                           \n",
       "4                                          -0.076274                                           \n",
       "\n",
       "   No. of meals taken during last 30 days others_avg.1  \\\n",
       "0                                           -0.21912     \n",
       "1                                           -0.21912     \n",
       "2                                           -0.21912     \n",
       "3                                           -0.21912     \n",
       "4                                           -0.21912     \n",
       "\n",
       "   No. of meals taken during last 30 days on payment_avg.1  \\\n",
       "0                                          -0.166664         \n",
       "1                                          -0.166664         \n",
       "2                                           0.934268         \n",
       "3                                          -0.166664         \n",
       "4                                           0.246186         \n",
       "\n",
       "   No. of meals taken during last 30 days at home_avg.1  \n",
       "0                                           1.072784     \n",
       "1                                          -0.771285     \n",
       "2                                           0.581032     \n",
       "3                                           0.642501     \n",
       "4                                           0.888377     \n",
       "\n",
       "[5 rows x 308 columns]"
      ]
     },
     "execution_count": 33,
     "metadata": {},
     "output_type": "execute_result"
    }
   ],
   "source": [
    "df_test.head()"
   ]
  },
  {
   "cell_type": "code",
   "execution_count": 21,
   "id": "e79ed18b-5dab-4c00-bf62-f5d4e6dfd2cf",
   "metadata": {},
   "outputs": [
    {
     "name": "stderr",
     "output_type": "stream",
     "text": [
      "C:\\Users\\Aditi\\anaconda3\\Lib\\site-packages\\sklearn\\metrics\\_regression.py:483: FutureWarning: 'squared' is deprecated in version 1.4 and will be removed in 1.6. To calculate the root mean squared error, use the function'root_mean_squared_error'.\n",
      "  warnings.warn(\n"
     ]
    },
    {
     "name": "stdout",
     "output_type": "stream",
     "text": [
      "XGBoost → RMSE: 0.6413, R² Score: 0.5887\n",
      "[LightGBM] [Info] Auto-choosing row-wise multi-threading, the overhead of testing was 0.143982 seconds.\n",
      "You can set `force_row_wise=true` to remove the overhead.\n",
      "And if memory is not enough, you can set `force_col_wise=true`.\n",
      "[LightGBM] [Info] Total Bins 1661\n",
      "[LightGBM] [Info] Number of data points in the train set: 209396, number of used features: 307\n",
      "[LightGBM] [Info] Start training from score -0.000000\n",
      "[LightGBM] [Warning] No further splits with positive gain, best gain: -inf\n"
     ]
    },
    {
     "name": "stderr",
     "output_type": "stream",
     "text": [
      "C:\\Users\\Aditi\\anaconda3\\Lib\\site-packages\\sklearn\\metrics\\_regression.py:483: FutureWarning: 'squared' is deprecated in version 1.4 and will be removed in 1.6. To calculate the root mean squared error, use the function'root_mean_squared_error'.\n",
      "  warnings.warn(\n"
     ]
    },
    {
     "name": "stdout",
     "output_type": "stream",
     "text": [
      "LightGBM → RMSE: 0.6606, R² Score: 0.5637\n"
     ]
    },
    {
     "name": "stderr",
     "output_type": "stream",
     "text": [
      "C:\\Users\\Aditi\\anaconda3\\Lib\\site-packages\\sklearn\\metrics\\_regression.py:483: FutureWarning: 'squared' is deprecated in version 1.4 and will be removed in 1.6. To calculate the root mean squared error, use the function'root_mean_squared_error'.\n",
      "  warnings.warn(\n"
     ]
    },
    {
     "name": "stdout",
     "output_type": "stream",
     "text": [
      "CatBoost → RMSE: 0.6853, R² Score: 0.5303\n"
     ]
    },
    {
     "name": "stderr",
     "output_type": "stream",
     "text": [
      "C:\\Users\\Aditi\\anaconda3\\Lib\\site-packages\\sklearn\\metrics\\_regression.py:483: FutureWarning: 'squared' is deprecated in version 1.4 and will be removed in 1.6. To calculate the root mean squared error, use the function'root_mean_squared_error'.\n",
      "  warnings.warn(\n"
     ]
    },
    {
     "name": "stdout",
     "output_type": "stream",
     "text": [
      "RandomForest → RMSE: 0.7463, R² Score: 0.4430\n",
      "[LightGBM] [Info] Auto-choosing row-wise multi-threading, the overhead of testing was 0.130923 seconds.\n",
      "You can set `force_row_wise=true` to remove the overhead.\n",
      "And if memory is not enough, you can set `force_col_wise=true`.\n",
      "[LightGBM] [Info] Total Bins 1661\n",
      "[LightGBM] [Info] Number of data points in the train set: 209396, number of used features: 307\n",
      "[LightGBM] [Info] Start training from score -0.000000\n",
      "[LightGBM] [Warning] No further splits with positive gain, best gain: -inf\n",
      "[LightGBM] [Info] Auto-choosing row-wise multi-threading, the overhead of testing was 0.144812 seconds.\n",
      "You can set `force_row_wise=true` to remove the overhead.\n",
      "And if memory is not enough, you can set `force_col_wise=true`.\n",
      "[LightGBM] [Info] Total Bins 1637\n",
      "[LightGBM] [Info] Number of data points in the train set: 167516, number of used features: 307\n",
      "[LightGBM] [Info] Start training from score -0.000250\n",
      "[LightGBM] [Warning] No further splits with positive gain, best gain: -inf\n",
      "[LightGBM] [Warning] No further splits with positive gain, best gain: -inf\n",
      "[LightGBM] [Info] Auto-choosing row-wise multi-threading, the overhead of testing was 0.138952 seconds.\n",
      "You can set `force_row_wise=true` to remove the overhead.\n",
      "And if memory is not enough, you can set `force_col_wise=true`.\n",
      "[LightGBM] [Info] Total Bins 1641\n",
      "[LightGBM] [Info] Number of data points in the train set: 167517, number of used features: 306\n",
      "[LightGBM] [Info] Start training from score 0.001484\n",
      "[LightGBM] [Warning] No further splits with positive gain, best gain: -inf\n",
      "[LightGBM] [Warning] No further splits with positive gain, best gain: -inf\n",
      "[LightGBM] [Warning] No further splits with positive gain, best gain: -inf\n",
      "[LightGBM] [Warning] No further splits with positive gain, best gain: -inf\n",
      "[LightGBM] [Warning] No further splits with positive gain, best gain: -inf\n",
      "[LightGBM] [Info] Auto-choosing row-wise multi-threading, the overhead of testing was 0.146187 seconds.\n",
      "You can set `force_row_wise=true` to remove the overhead.\n",
      "And if memory is not enough, you can set `force_col_wise=true`.\n",
      "[LightGBM] [Info] Total Bins 1641\n",
      "[LightGBM] [Info] Number of data points in the train set: 167517, number of used features: 307\n",
      "[LightGBM] [Info] Start training from score -0.001014\n",
      "[LightGBM] [Warning] No further splits with positive gain, best gain: -inf\n",
      "[LightGBM] [Warning] No further splits with positive gain, best gain: -inf\n",
      "[LightGBM] [Info] Auto-choosing row-wise multi-threading, the overhead of testing was 0.146811 seconds.\n",
      "You can set `force_row_wise=true` to remove the overhead.\n",
      "And if memory is not enough, you can set `force_col_wise=true`.\n",
      "[LightGBM] [Info] Total Bins 1645\n",
      "[LightGBM] [Info] Number of data points in the train set: 167517, number of used features: 307\n",
      "[LightGBM] [Info] Start training from score -0.000044\n",
      "[LightGBM] [Warning] No further splits with positive gain, best gain: -inf\n",
      "[LightGBM] [Warning] No further splits with positive gain, best gain: -inf\n",
      "[LightGBM] [Warning] No further splits with positive gain, best gain: -inf\n",
      "[LightGBM] [Info] Auto-choosing row-wise multi-threading, the overhead of testing was 0.129206 seconds.\n",
      "You can set `force_row_wise=true` to remove the overhead.\n",
      "And if memory is not enough, you can set `force_col_wise=true`.\n",
      "[LightGBM] [Info] Total Bins 1627\n",
      "[LightGBM] [Info] Number of data points in the train set: 167517, number of used features: 306\n",
      "[LightGBM] [Info] Start training from score -0.000177\n",
      "[LightGBM] [Warning] No further splits with positive gain, best gain: -inf\n",
      "[LightGBM] [Warning] No further splits with positive gain, best gain: -inf\n",
      "[LightGBM] [Warning] No further splits with positive gain, best gain: -inf\n",
      "[LightGBM] [Warning] No further splits with positive gain, best gain: -inf\n",
      "[LightGBM] [Warning] No further splits with positive gain, best gain: -inf\n"
     ]
    },
    {
     "ename": "KeyboardInterrupt",
     "evalue": "",
     "output_type": "error",
     "traceback": [
      "\u001b[1;31m---------------------------------------------------------------------------\u001b[0m",
      "\u001b[1;31mKeyboardInterrupt\u001b[0m                         Traceback (most recent call last)",
      "Cell \u001b[1;32mIn[21], line 46\u001b[0m\n\u001b[0;32m     41\u001b[0m \u001b[38;5;66;03m# Stacking Model (Combining all models)\u001b[39;00m\n\u001b[0;32m     42\u001b[0m stacking \u001b[38;5;241m=\u001b[39m StackingRegressor(\n\u001b[0;32m     43\u001b[0m     estimators\u001b[38;5;241m=\u001b[39m[(name, models[name]) \u001b[38;5;28;01mfor\u001b[39;00m name \u001b[38;5;129;01min\u001b[39;00m models],\n\u001b[0;32m     44\u001b[0m     final_estimator\u001b[38;5;241m=\u001b[39mRidge(alpha\u001b[38;5;241m=\u001b[39m\u001b[38;5;241m1.0\u001b[39m)\n\u001b[0;32m     45\u001b[0m )\n\u001b[1;32m---> 46\u001b[0m stacking\u001b[38;5;241m.\u001b[39mfit(X_train, y_train)\n\u001b[0;32m     47\u001b[0m y_pred_stacking \u001b[38;5;241m=\u001b[39m stacking\u001b[38;5;241m.\u001b[39mpredict(X_test)\n\u001b[0;32m     48\u001b[0m rmse_stacking \u001b[38;5;241m=\u001b[39m mean_squared_error(y_test, y_pred_stacking, squared\u001b[38;5;241m=\u001b[39m\u001b[38;5;28;01mFalse\u001b[39;00m)\n",
      "File \u001b[1;32m~\\anaconda3\\Lib\\site-packages\\sklearn\\ensemble\\_stacking.py:968\u001b[0m, in \u001b[0;36mStackingRegressor.fit\u001b[1;34m(self, X, y, sample_weight)\u001b[0m\n\u001b[0;32m    966\u001b[0m _raise_for_unsupported_routing(\u001b[38;5;28mself\u001b[39m, \u001b[38;5;124m\"\u001b[39m\u001b[38;5;124mfit\u001b[39m\u001b[38;5;124m\"\u001b[39m, sample_weight\u001b[38;5;241m=\u001b[39msample_weight)\n\u001b[0;32m    967\u001b[0m y \u001b[38;5;241m=\u001b[39m column_or_1d(y, warn\u001b[38;5;241m=\u001b[39m\u001b[38;5;28;01mTrue\u001b[39;00m)\n\u001b[1;32m--> 968\u001b[0m \u001b[38;5;28;01mreturn\u001b[39;00m \u001b[38;5;28msuper\u001b[39m()\u001b[38;5;241m.\u001b[39mfit(X, y, sample_weight)\n",
      "File \u001b[1;32m~\\anaconda3\\Lib\\site-packages\\sklearn\\base.py:1474\u001b[0m, in \u001b[0;36m_fit_context.<locals>.decorator.<locals>.wrapper\u001b[1;34m(estimator, *args, **kwargs)\u001b[0m\n\u001b[0;32m   1467\u001b[0m     estimator\u001b[38;5;241m.\u001b[39m_validate_params()\n\u001b[0;32m   1469\u001b[0m \u001b[38;5;28;01mwith\u001b[39;00m config_context(\n\u001b[0;32m   1470\u001b[0m     skip_parameter_validation\u001b[38;5;241m=\u001b[39m(\n\u001b[0;32m   1471\u001b[0m         prefer_skip_nested_validation \u001b[38;5;129;01mor\u001b[39;00m global_skip_validation\n\u001b[0;32m   1472\u001b[0m     )\n\u001b[0;32m   1473\u001b[0m ):\n\u001b[1;32m-> 1474\u001b[0m     \u001b[38;5;28;01mreturn\u001b[39;00m fit_method(estimator, \u001b[38;5;241m*\u001b[39margs, \u001b[38;5;241m*\u001b[39m\u001b[38;5;241m*\u001b[39mkwargs)\n",
      "File \u001b[1;32m~\\anaconda3\\Lib\\site-packages\\sklearn\\ensemble\\_stacking.py:259\u001b[0m, in \u001b[0;36m_BaseStacking.fit\u001b[1;34m(self, X, y, sample_weight)\u001b[0m\n\u001b[0;32m    254\u001b[0m         cv\u001b[38;5;241m.\u001b[39mrandom_state \u001b[38;5;241m=\u001b[39m np\u001b[38;5;241m.\u001b[39mrandom\u001b[38;5;241m.\u001b[39mRandomState()\n\u001b[0;32m    256\u001b[0m     fit_params \u001b[38;5;241m=\u001b[39m (\n\u001b[0;32m    257\u001b[0m         {\u001b[38;5;124m\"\u001b[39m\u001b[38;5;124msample_weight\u001b[39m\u001b[38;5;124m\"\u001b[39m: sample_weight} \u001b[38;5;28;01mif\u001b[39;00m sample_weight \u001b[38;5;129;01mis\u001b[39;00m \u001b[38;5;129;01mnot\u001b[39;00m \u001b[38;5;28;01mNone\u001b[39;00m \u001b[38;5;28;01melse\u001b[39;00m \u001b[38;5;28;01mNone\u001b[39;00m\n\u001b[0;32m    258\u001b[0m     )\n\u001b[1;32m--> 259\u001b[0m     predictions \u001b[38;5;241m=\u001b[39m Parallel(n_jobs\u001b[38;5;241m=\u001b[39m\u001b[38;5;28mself\u001b[39m\u001b[38;5;241m.\u001b[39mn_jobs)(\n\u001b[0;32m    260\u001b[0m         delayed(cross_val_predict)(\n\u001b[0;32m    261\u001b[0m             clone(est),\n\u001b[0;32m    262\u001b[0m             X,\n\u001b[0;32m    263\u001b[0m             y,\n\u001b[0;32m    264\u001b[0m             cv\u001b[38;5;241m=\u001b[39mdeepcopy(cv),\n\u001b[0;32m    265\u001b[0m             method\u001b[38;5;241m=\u001b[39mmeth,\n\u001b[0;32m    266\u001b[0m             n_jobs\u001b[38;5;241m=\u001b[39m\u001b[38;5;28mself\u001b[39m\u001b[38;5;241m.\u001b[39mn_jobs,\n\u001b[0;32m    267\u001b[0m             params\u001b[38;5;241m=\u001b[39mfit_params,\n\u001b[0;32m    268\u001b[0m             verbose\u001b[38;5;241m=\u001b[39m\u001b[38;5;28mself\u001b[39m\u001b[38;5;241m.\u001b[39mverbose,\n\u001b[0;32m    269\u001b[0m         )\n\u001b[0;32m    270\u001b[0m         \u001b[38;5;28;01mfor\u001b[39;00m est, meth \u001b[38;5;129;01min\u001b[39;00m \u001b[38;5;28mzip\u001b[39m(all_estimators, \u001b[38;5;28mself\u001b[39m\u001b[38;5;241m.\u001b[39mstack_method_)\n\u001b[0;32m    271\u001b[0m         \u001b[38;5;28;01mif\u001b[39;00m est \u001b[38;5;241m!=\u001b[39m \u001b[38;5;124m\"\u001b[39m\u001b[38;5;124mdrop\u001b[39m\u001b[38;5;124m\"\u001b[39m\n\u001b[0;32m    272\u001b[0m     )\n\u001b[0;32m    274\u001b[0m \u001b[38;5;66;03m# Only not None or not 'drop' estimators will be used in transform.\u001b[39;00m\n\u001b[0;32m    275\u001b[0m \u001b[38;5;66;03m# Remove the None from the method as well.\u001b[39;00m\n\u001b[0;32m    276\u001b[0m \u001b[38;5;28mself\u001b[39m\u001b[38;5;241m.\u001b[39mstack_method_ \u001b[38;5;241m=\u001b[39m [\n\u001b[0;32m    277\u001b[0m     meth\n\u001b[0;32m    278\u001b[0m     \u001b[38;5;28;01mfor\u001b[39;00m (meth, est) \u001b[38;5;129;01min\u001b[39;00m \u001b[38;5;28mzip\u001b[39m(\u001b[38;5;28mself\u001b[39m\u001b[38;5;241m.\u001b[39mstack_method_, all_estimators)\n\u001b[0;32m    279\u001b[0m     \u001b[38;5;28;01mif\u001b[39;00m est \u001b[38;5;241m!=\u001b[39m \u001b[38;5;124m\"\u001b[39m\u001b[38;5;124mdrop\u001b[39m\u001b[38;5;124m\"\u001b[39m\n\u001b[0;32m    280\u001b[0m ]\n",
      "File \u001b[1;32m~\\anaconda3\\Lib\\site-packages\\sklearn\\utils\\parallel.py:67\u001b[0m, in \u001b[0;36mParallel.__call__\u001b[1;34m(self, iterable)\u001b[0m\n\u001b[0;32m     62\u001b[0m config \u001b[38;5;241m=\u001b[39m get_config()\n\u001b[0;32m     63\u001b[0m iterable_with_config \u001b[38;5;241m=\u001b[39m (\n\u001b[0;32m     64\u001b[0m     (_with_config(delayed_func, config), args, kwargs)\n\u001b[0;32m     65\u001b[0m     \u001b[38;5;28;01mfor\u001b[39;00m delayed_func, args, kwargs \u001b[38;5;129;01min\u001b[39;00m iterable\n\u001b[0;32m     66\u001b[0m )\n\u001b[1;32m---> 67\u001b[0m \u001b[38;5;28;01mreturn\u001b[39;00m \u001b[38;5;28msuper\u001b[39m()\u001b[38;5;241m.\u001b[39m\u001b[38;5;21m__call__\u001b[39m(iterable_with_config)\n",
      "File \u001b[1;32m~\\anaconda3\\Lib\\site-packages\\joblib\\parallel.py:1918\u001b[0m, in \u001b[0;36mParallel.__call__\u001b[1;34m(self, iterable)\u001b[0m\n\u001b[0;32m   1916\u001b[0m     output \u001b[38;5;241m=\u001b[39m \u001b[38;5;28mself\u001b[39m\u001b[38;5;241m.\u001b[39m_get_sequential_output(iterable)\n\u001b[0;32m   1917\u001b[0m     \u001b[38;5;28mnext\u001b[39m(output)\n\u001b[1;32m-> 1918\u001b[0m     \u001b[38;5;28;01mreturn\u001b[39;00m output \u001b[38;5;28;01mif\u001b[39;00m \u001b[38;5;28mself\u001b[39m\u001b[38;5;241m.\u001b[39mreturn_generator \u001b[38;5;28;01melse\u001b[39;00m \u001b[38;5;28mlist\u001b[39m(output)\n\u001b[0;32m   1920\u001b[0m \u001b[38;5;66;03m# Let's create an ID that uniquely identifies the current call. If the\u001b[39;00m\n\u001b[0;32m   1921\u001b[0m \u001b[38;5;66;03m# call is interrupted early and that the same instance is immediately\u001b[39;00m\n\u001b[0;32m   1922\u001b[0m \u001b[38;5;66;03m# re-used, this id will be used to prevent workers that were\u001b[39;00m\n\u001b[0;32m   1923\u001b[0m \u001b[38;5;66;03m# concurrently finalizing a task from the previous call to run the\u001b[39;00m\n\u001b[0;32m   1924\u001b[0m \u001b[38;5;66;03m# callback.\u001b[39;00m\n\u001b[0;32m   1925\u001b[0m \u001b[38;5;28;01mwith\u001b[39;00m \u001b[38;5;28mself\u001b[39m\u001b[38;5;241m.\u001b[39m_lock:\n",
      "File \u001b[1;32m~\\anaconda3\\Lib\\site-packages\\joblib\\parallel.py:1847\u001b[0m, in \u001b[0;36mParallel._get_sequential_output\u001b[1;34m(self, iterable)\u001b[0m\n\u001b[0;32m   1845\u001b[0m \u001b[38;5;28mself\u001b[39m\u001b[38;5;241m.\u001b[39mn_dispatched_batches \u001b[38;5;241m+\u001b[39m\u001b[38;5;241m=\u001b[39m \u001b[38;5;241m1\u001b[39m\n\u001b[0;32m   1846\u001b[0m \u001b[38;5;28mself\u001b[39m\u001b[38;5;241m.\u001b[39mn_dispatched_tasks \u001b[38;5;241m+\u001b[39m\u001b[38;5;241m=\u001b[39m \u001b[38;5;241m1\u001b[39m\n\u001b[1;32m-> 1847\u001b[0m res \u001b[38;5;241m=\u001b[39m func(\u001b[38;5;241m*\u001b[39margs, \u001b[38;5;241m*\u001b[39m\u001b[38;5;241m*\u001b[39mkwargs)\n\u001b[0;32m   1848\u001b[0m \u001b[38;5;28mself\u001b[39m\u001b[38;5;241m.\u001b[39mn_completed_tasks \u001b[38;5;241m+\u001b[39m\u001b[38;5;241m=\u001b[39m \u001b[38;5;241m1\u001b[39m\n\u001b[0;32m   1849\u001b[0m \u001b[38;5;28mself\u001b[39m\u001b[38;5;241m.\u001b[39mprint_progress()\n",
      "File \u001b[1;32m~\\anaconda3\\Lib\\site-packages\\sklearn\\utils\\parallel.py:129\u001b[0m, in \u001b[0;36m_FuncWrapper.__call__\u001b[1;34m(self, *args, **kwargs)\u001b[0m\n\u001b[0;32m    127\u001b[0m     config \u001b[38;5;241m=\u001b[39m {}\n\u001b[0;32m    128\u001b[0m \u001b[38;5;28;01mwith\u001b[39;00m config_context(\u001b[38;5;241m*\u001b[39m\u001b[38;5;241m*\u001b[39mconfig):\n\u001b[1;32m--> 129\u001b[0m     \u001b[38;5;28;01mreturn\u001b[39;00m \u001b[38;5;28mself\u001b[39m\u001b[38;5;241m.\u001b[39mfunction(\u001b[38;5;241m*\u001b[39margs, \u001b[38;5;241m*\u001b[39m\u001b[38;5;241m*\u001b[39mkwargs)\n",
      "File \u001b[1;32m~\\anaconda3\\Lib\\site-packages\\sklearn\\utils\\_param_validation.py:213\u001b[0m, in \u001b[0;36mvalidate_params.<locals>.decorator.<locals>.wrapper\u001b[1;34m(*args, **kwargs)\u001b[0m\n\u001b[0;32m    207\u001b[0m \u001b[38;5;28;01mtry\u001b[39;00m:\n\u001b[0;32m    208\u001b[0m     \u001b[38;5;28;01mwith\u001b[39;00m config_context(\n\u001b[0;32m    209\u001b[0m         skip_parameter_validation\u001b[38;5;241m=\u001b[39m(\n\u001b[0;32m    210\u001b[0m             prefer_skip_nested_validation \u001b[38;5;129;01mor\u001b[39;00m global_skip_validation\n\u001b[0;32m    211\u001b[0m         )\n\u001b[0;32m    212\u001b[0m     ):\n\u001b[1;32m--> 213\u001b[0m         \u001b[38;5;28;01mreturn\u001b[39;00m func(\u001b[38;5;241m*\u001b[39margs, \u001b[38;5;241m*\u001b[39m\u001b[38;5;241m*\u001b[39mkwargs)\n\u001b[0;32m    214\u001b[0m \u001b[38;5;28;01mexcept\u001b[39;00m InvalidParameterError \u001b[38;5;28;01mas\u001b[39;00m e:\n\u001b[0;32m    215\u001b[0m     \u001b[38;5;66;03m# When the function is just a wrapper around an estimator, we allow\u001b[39;00m\n\u001b[0;32m    216\u001b[0m     \u001b[38;5;66;03m# the function to delegate validation to the estimator, but we replace\u001b[39;00m\n\u001b[0;32m    217\u001b[0m     \u001b[38;5;66;03m# the name of the estimator by the name of the function in the error\u001b[39;00m\n\u001b[0;32m    218\u001b[0m     \u001b[38;5;66;03m# message to avoid confusion.\u001b[39;00m\n\u001b[0;32m    219\u001b[0m     msg \u001b[38;5;241m=\u001b[39m re\u001b[38;5;241m.\u001b[39msub(\n\u001b[0;32m    220\u001b[0m         \u001b[38;5;124mr\u001b[39m\u001b[38;5;124m\"\u001b[39m\u001b[38;5;124mparameter of \u001b[39m\u001b[38;5;124m\\\u001b[39m\u001b[38;5;124mw+ must be\u001b[39m\u001b[38;5;124m\"\u001b[39m,\n\u001b[0;32m    221\u001b[0m         \u001b[38;5;124mf\u001b[39m\u001b[38;5;124m\"\u001b[39m\u001b[38;5;124mparameter of \u001b[39m\u001b[38;5;132;01m{\u001b[39;00mfunc\u001b[38;5;241m.\u001b[39m\u001b[38;5;18m__qualname__\u001b[39m\u001b[38;5;132;01m}\u001b[39;00m\u001b[38;5;124m must be\u001b[39m\u001b[38;5;124m\"\u001b[39m,\n\u001b[0;32m    222\u001b[0m         \u001b[38;5;28mstr\u001b[39m(e),\n\u001b[0;32m    223\u001b[0m     )\n",
      "File \u001b[1;32m~\\anaconda3\\Lib\\site-packages\\sklearn\\model_selection\\_validation.py:1293\u001b[0m, in \u001b[0;36mcross_val_predict\u001b[1;34m(estimator, X, y, groups, cv, n_jobs, verbose, fit_params, params, pre_dispatch, method)\u001b[0m\n\u001b[0;32m   1290\u001b[0m \u001b[38;5;66;03m# We clone the estimator to make sure that all the folds are\u001b[39;00m\n\u001b[0;32m   1291\u001b[0m \u001b[38;5;66;03m# independent, and that it is pickle-able.\u001b[39;00m\n\u001b[0;32m   1292\u001b[0m parallel \u001b[38;5;241m=\u001b[39m Parallel(n_jobs\u001b[38;5;241m=\u001b[39mn_jobs, verbose\u001b[38;5;241m=\u001b[39mverbose, pre_dispatch\u001b[38;5;241m=\u001b[39mpre_dispatch)\n\u001b[1;32m-> 1293\u001b[0m predictions \u001b[38;5;241m=\u001b[39m parallel(\n\u001b[0;32m   1294\u001b[0m     delayed(_fit_and_predict)(\n\u001b[0;32m   1295\u001b[0m         clone(estimator),\n\u001b[0;32m   1296\u001b[0m         X,\n\u001b[0;32m   1297\u001b[0m         y,\n\u001b[0;32m   1298\u001b[0m         train,\n\u001b[0;32m   1299\u001b[0m         test,\n\u001b[0;32m   1300\u001b[0m         routed_params\u001b[38;5;241m.\u001b[39mestimator\u001b[38;5;241m.\u001b[39mfit,\n\u001b[0;32m   1301\u001b[0m         method,\n\u001b[0;32m   1302\u001b[0m     )\n\u001b[0;32m   1303\u001b[0m     \u001b[38;5;28;01mfor\u001b[39;00m train, test \u001b[38;5;129;01min\u001b[39;00m splits\n\u001b[0;32m   1304\u001b[0m )\n\u001b[0;32m   1306\u001b[0m inv_test_indices \u001b[38;5;241m=\u001b[39m np\u001b[38;5;241m.\u001b[39mempty(\u001b[38;5;28mlen\u001b[39m(test_indices), dtype\u001b[38;5;241m=\u001b[39m\u001b[38;5;28mint\u001b[39m)\n\u001b[0;32m   1307\u001b[0m inv_test_indices[test_indices] \u001b[38;5;241m=\u001b[39m np\u001b[38;5;241m.\u001b[39marange(\u001b[38;5;28mlen\u001b[39m(test_indices))\n",
      "File \u001b[1;32m~\\anaconda3\\Lib\\site-packages\\sklearn\\utils\\parallel.py:67\u001b[0m, in \u001b[0;36mParallel.__call__\u001b[1;34m(self, iterable)\u001b[0m\n\u001b[0;32m     62\u001b[0m config \u001b[38;5;241m=\u001b[39m get_config()\n\u001b[0;32m     63\u001b[0m iterable_with_config \u001b[38;5;241m=\u001b[39m (\n\u001b[0;32m     64\u001b[0m     (_with_config(delayed_func, config), args, kwargs)\n\u001b[0;32m     65\u001b[0m     \u001b[38;5;28;01mfor\u001b[39;00m delayed_func, args, kwargs \u001b[38;5;129;01min\u001b[39;00m iterable\n\u001b[0;32m     66\u001b[0m )\n\u001b[1;32m---> 67\u001b[0m \u001b[38;5;28;01mreturn\u001b[39;00m \u001b[38;5;28msuper\u001b[39m()\u001b[38;5;241m.\u001b[39m\u001b[38;5;21m__call__\u001b[39m(iterable_with_config)\n",
      "File \u001b[1;32m~\\anaconda3\\Lib\\site-packages\\joblib\\parallel.py:1918\u001b[0m, in \u001b[0;36mParallel.__call__\u001b[1;34m(self, iterable)\u001b[0m\n\u001b[0;32m   1916\u001b[0m     output \u001b[38;5;241m=\u001b[39m \u001b[38;5;28mself\u001b[39m\u001b[38;5;241m.\u001b[39m_get_sequential_output(iterable)\n\u001b[0;32m   1917\u001b[0m     \u001b[38;5;28mnext\u001b[39m(output)\n\u001b[1;32m-> 1918\u001b[0m     \u001b[38;5;28;01mreturn\u001b[39;00m output \u001b[38;5;28;01mif\u001b[39;00m \u001b[38;5;28mself\u001b[39m\u001b[38;5;241m.\u001b[39mreturn_generator \u001b[38;5;28;01melse\u001b[39;00m \u001b[38;5;28mlist\u001b[39m(output)\n\u001b[0;32m   1920\u001b[0m \u001b[38;5;66;03m# Let's create an ID that uniquely identifies the current call. If the\u001b[39;00m\n\u001b[0;32m   1921\u001b[0m \u001b[38;5;66;03m# call is interrupted early and that the same instance is immediately\u001b[39;00m\n\u001b[0;32m   1922\u001b[0m \u001b[38;5;66;03m# re-used, this id will be used to prevent workers that were\u001b[39;00m\n\u001b[0;32m   1923\u001b[0m \u001b[38;5;66;03m# concurrently finalizing a task from the previous call to run the\u001b[39;00m\n\u001b[0;32m   1924\u001b[0m \u001b[38;5;66;03m# callback.\u001b[39;00m\n\u001b[0;32m   1925\u001b[0m \u001b[38;5;28;01mwith\u001b[39;00m \u001b[38;5;28mself\u001b[39m\u001b[38;5;241m.\u001b[39m_lock:\n",
      "File \u001b[1;32m~\\anaconda3\\Lib\\site-packages\\joblib\\parallel.py:1847\u001b[0m, in \u001b[0;36mParallel._get_sequential_output\u001b[1;34m(self, iterable)\u001b[0m\n\u001b[0;32m   1845\u001b[0m \u001b[38;5;28mself\u001b[39m\u001b[38;5;241m.\u001b[39mn_dispatched_batches \u001b[38;5;241m+\u001b[39m\u001b[38;5;241m=\u001b[39m \u001b[38;5;241m1\u001b[39m\n\u001b[0;32m   1846\u001b[0m \u001b[38;5;28mself\u001b[39m\u001b[38;5;241m.\u001b[39mn_dispatched_tasks \u001b[38;5;241m+\u001b[39m\u001b[38;5;241m=\u001b[39m \u001b[38;5;241m1\u001b[39m\n\u001b[1;32m-> 1847\u001b[0m res \u001b[38;5;241m=\u001b[39m func(\u001b[38;5;241m*\u001b[39margs, \u001b[38;5;241m*\u001b[39m\u001b[38;5;241m*\u001b[39mkwargs)\n\u001b[0;32m   1848\u001b[0m \u001b[38;5;28mself\u001b[39m\u001b[38;5;241m.\u001b[39mn_completed_tasks \u001b[38;5;241m+\u001b[39m\u001b[38;5;241m=\u001b[39m \u001b[38;5;241m1\u001b[39m\n\u001b[0;32m   1849\u001b[0m \u001b[38;5;28mself\u001b[39m\u001b[38;5;241m.\u001b[39mprint_progress()\n",
      "File \u001b[1;32m~\\anaconda3\\Lib\\site-packages\\sklearn\\utils\\parallel.py:129\u001b[0m, in \u001b[0;36m_FuncWrapper.__call__\u001b[1;34m(self, *args, **kwargs)\u001b[0m\n\u001b[0;32m    127\u001b[0m     config \u001b[38;5;241m=\u001b[39m {}\n\u001b[0;32m    128\u001b[0m \u001b[38;5;28;01mwith\u001b[39;00m config_context(\u001b[38;5;241m*\u001b[39m\u001b[38;5;241m*\u001b[39mconfig):\n\u001b[1;32m--> 129\u001b[0m     \u001b[38;5;28;01mreturn\u001b[39;00m \u001b[38;5;28mself\u001b[39m\u001b[38;5;241m.\u001b[39mfunction(\u001b[38;5;241m*\u001b[39margs, \u001b[38;5;241m*\u001b[39m\u001b[38;5;241m*\u001b[39mkwargs)\n",
      "File \u001b[1;32m~\\anaconda3\\Lib\\site-packages\\sklearn\\model_selection\\_validation.py:1378\u001b[0m, in \u001b[0;36m_fit_and_predict\u001b[1;34m(estimator, X, y, train, test, fit_params, method)\u001b[0m\n\u001b[0;32m   1376\u001b[0m     estimator\u001b[38;5;241m.\u001b[39mfit(X_train, \u001b[38;5;241m*\u001b[39m\u001b[38;5;241m*\u001b[39mfit_params)\n\u001b[0;32m   1377\u001b[0m \u001b[38;5;28;01melse\u001b[39;00m:\n\u001b[1;32m-> 1378\u001b[0m     estimator\u001b[38;5;241m.\u001b[39mfit(X_train, y_train, \u001b[38;5;241m*\u001b[39m\u001b[38;5;241m*\u001b[39mfit_params)\n\u001b[0;32m   1379\u001b[0m func \u001b[38;5;241m=\u001b[39m \u001b[38;5;28mgetattr\u001b[39m(estimator, method)\n\u001b[0;32m   1380\u001b[0m predictions \u001b[38;5;241m=\u001b[39m func(X_test)\n",
      "File \u001b[1;32m~\\anaconda3\\Lib\\site-packages\\sklearn\\base.py:1474\u001b[0m, in \u001b[0;36m_fit_context.<locals>.decorator.<locals>.wrapper\u001b[1;34m(estimator, *args, **kwargs)\u001b[0m\n\u001b[0;32m   1467\u001b[0m     estimator\u001b[38;5;241m.\u001b[39m_validate_params()\n\u001b[0;32m   1469\u001b[0m \u001b[38;5;28;01mwith\u001b[39;00m config_context(\n\u001b[0;32m   1470\u001b[0m     skip_parameter_validation\u001b[38;5;241m=\u001b[39m(\n\u001b[0;32m   1471\u001b[0m         prefer_skip_nested_validation \u001b[38;5;129;01mor\u001b[39;00m global_skip_validation\n\u001b[0;32m   1472\u001b[0m     )\n\u001b[0;32m   1473\u001b[0m ):\n\u001b[1;32m-> 1474\u001b[0m     \u001b[38;5;28;01mreturn\u001b[39;00m fit_method(estimator, \u001b[38;5;241m*\u001b[39margs, \u001b[38;5;241m*\u001b[39m\u001b[38;5;241m*\u001b[39mkwargs)\n",
      "File \u001b[1;32m~\\anaconda3\\Lib\\site-packages\\sklearn\\ensemble\\_forest.py:489\u001b[0m, in \u001b[0;36mBaseForest.fit\u001b[1;34m(self, X, y, sample_weight)\u001b[0m\n\u001b[0;32m    478\u001b[0m trees \u001b[38;5;241m=\u001b[39m [\n\u001b[0;32m    479\u001b[0m     \u001b[38;5;28mself\u001b[39m\u001b[38;5;241m.\u001b[39m_make_estimator(append\u001b[38;5;241m=\u001b[39m\u001b[38;5;28;01mFalse\u001b[39;00m, random_state\u001b[38;5;241m=\u001b[39mrandom_state)\n\u001b[0;32m    480\u001b[0m     \u001b[38;5;28;01mfor\u001b[39;00m i \u001b[38;5;129;01min\u001b[39;00m \u001b[38;5;28mrange\u001b[39m(n_more_estimators)\n\u001b[0;32m    481\u001b[0m ]\n\u001b[0;32m    483\u001b[0m \u001b[38;5;66;03m# Parallel loop: we prefer the threading backend as the Cython code\u001b[39;00m\n\u001b[0;32m    484\u001b[0m \u001b[38;5;66;03m# for fitting the trees is internally releasing the Python GIL\u001b[39;00m\n\u001b[0;32m    485\u001b[0m \u001b[38;5;66;03m# making threading more efficient than multiprocessing in\u001b[39;00m\n\u001b[0;32m    486\u001b[0m \u001b[38;5;66;03m# that case. However, for joblib 0.12+ we respect any\u001b[39;00m\n\u001b[0;32m    487\u001b[0m \u001b[38;5;66;03m# parallel_backend contexts set at a higher level,\u001b[39;00m\n\u001b[0;32m    488\u001b[0m \u001b[38;5;66;03m# since correctness does not rely on using threads.\u001b[39;00m\n\u001b[1;32m--> 489\u001b[0m trees \u001b[38;5;241m=\u001b[39m Parallel(\n\u001b[0;32m    490\u001b[0m     n_jobs\u001b[38;5;241m=\u001b[39m\u001b[38;5;28mself\u001b[39m\u001b[38;5;241m.\u001b[39mn_jobs,\n\u001b[0;32m    491\u001b[0m     verbose\u001b[38;5;241m=\u001b[39m\u001b[38;5;28mself\u001b[39m\u001b[38;5;241m.\u001b[39mverbose,\n\u001b[0;32m    492\u001b[0m     prefer\u001b[38;5;241m=\u001b[39m\u001b[38;5;124m\"\u001b[39m\u001b[38;5;124mthreads\u001b[39m\u001b[38;5;124m\"\u001b[39m,\n\u001b[0;32m    493\u001b[0m )(\n\u001b[0;32m    494\u001b[0m     delayed(_parallel_build_trees)(\n\u001b[0;32m    495\u001b[0m         t,\n\u001b[0;32m    496\u001b[0m         \u001b[38;5;28mself\u001b[39m\u001b[38;5;241m.\u001b[39mbootstrap,\n\u001b[0;32m    497\u001b[0m         X,\n\u001b[0;32m    498\u001b[0m         y,\n\u001b[0;32m    499\u001b[0m         sample_weight,\n\u001b[0;32m    500\u001b[0m         i,\n\u001b[0;32m    501\u001b[0m         \u001b[38;5;28mlen\u001b[39m(trees),\n\u001b[0;32m    502\u001b[0m         verbose\u001b[38;5;241m=\u001b[39m\u001b[38;5;28mself\u001b[39m\u001b[38;5;241m.\u001b[39mverbose,\n\u001b[0;32m    503\u001b[0m         class_weight\u001b[38;5;241m=\u001b[39m\u001b[38;5;28mself\u001b[39m\u001b[38;5;241m.\u001b[39mclass_weight,\n\u001b[0;32m    504\u001b[0m         n_samples_bootstrap\u001b[38;5;241m=\u001b[39mn_samples_bootstrap,\n\u001b[0;32m    505\u001b[0m         missing_values_in_feature_mask\u001b[38;5;241m=\u001b[39mmissing_values_in_feature_mask,\n\u001b[0;32m    506\u001b[0m     )\n\u001b[0;32m    507\u001b[0m     \u001b[38;5;28;01mfor\u001b[39;00m i, t \u001b[38;5;129;01min\u001b[39;00m \u001b[38;5;28menumerate\u001b[39m(trees)\n\u001b[0;32m    508\u001b[0m )\n\u001b[0;32m    510\u001b[0m \u001b[38;5;66;03m# Collect newly grown trees\u001b[39;00m\n\u001b[0;32m    511\u001b[0m \u001b[38;5;28mself\u001b[39m\u001b[38;5;241m.\u001b[39mestimators_\u001b[38;5;241m.\u001b[39mextend(trees)\n",
      "File \u001b[1;32m~\\anaconda3\\Lib\\site-packages\\sklearn\\utils\\parallel.py:67\u001b[0m, in \u001b[0;36mParallel.__call__\u001b[1;34m(self, iterable)\u001b[0m\n\u001b[0;32m     62\u001b[0m config \u001b[38;5;241m=\u001b[39m get_config()\n\u001b[0;32m     63\u001b[0m iterable_with_config \u001b[38;5;241m=\u001b[39m (\n\u001b[0;32m     64\u001b[0m     (_with_config(delayed_func, config), args, kwargs)\n\u001b[0;32m     65\u001b[0m     \u001b[38;5;28;01mfor\u001b[39;00m delayed_func, args, kwargs \u001b[38;5;129;01min\u001b[39;00m iterable\n\u001b[0;32m     66\u001b[0m )\n\u001b[1;32m---> 67\u001b[0m \u001b[38;5;28;01mreturn\u001b[39;00m \u001b[38;5;28msuper\u001b[39m()\u001b[38;5;241m.\u001b[39m\u001b[38;5;21m__call__\u001b[39m(iterable_with_config)\n",
      "File \u001b[1;32m~\\anaconda3\\Lib\\site-packages\\joblib\\parallel.py:1918\u001b[0m, in \u001b[0;36mParallel.__call__\u001b[1;34m(self, iterable)\u001b[0m\n\u001b[0;32m   1916\u001b[0m     output \u001b[38;5;241m=\u001b[39m \u001b[38;5;28mself\u001b[39m\u001b[38;5;241m.\u001b[39m_get_sequential_output(iterable)\n\u001b[0;32m   1917\u001b[0m     \u001b[38;5;28mnext\u001b[39m(output)\n\u001b[1;32m-> 1918\u001b[0m     \u001b[38;5;28;01mreturn\u001b[39;00m output \u001b[38;5;28;01mif\u001b[39;00m \u001b[38;5;28mself\u001b[39m\u001b[38;5;241m.\u001b[39mreturn_generator \u001b[38;5;28;01melse\u001b[39;00m \u001b[38;5;28mlist\u001b[39m(output)\n\u001b[0;32m   1920\u001b[0m \u001b[38;5;66;03m# Let's create an ID that uniquely identifies the current call. If the\u001b[39;00m\n\u001b[0;32m   1921\u001b[0m \u001b[38;5;66;03m# call is interrupted early and that the same instance is immediately\u001b[39;00m\n\u001b[0;32m   1922\u001b[0m \u001b[38;5;66;03m# re-used, this id will be used to prevent workers that were\u001b[39;00m\n\u001b[0;32m   1923\u001b[0m \u001b[38;5;66;03m# concurrently finalizing a task from the previous call to run the\u001b[39;00m\n\u001b[0;32m   1924\u001b[0m \u001b[38;5;66;03m# callback.\u001b[39;00m\n\u001b[0;32m   1925\u001b[0m \u001b[38;5;28;01mwith\u001b[39;00m \u001b[38;5;28mself\u001b[39m\u001b[38;5;241m.\u001b[39m_lock:\n",
      "File \u001b[1;32m~\\anaconda3\\Lib\\site-packages\\joblib\\parallel.py:1847\u001b[0m, in \u001b[0;36mParallel._get_sequential_output\u001b[1;34m(self, iterable)\u001b[0m\n\u001b[0;32m   1845\u001b[0m \u001b[38;5;28mself\u001b[39m\u001b[38;5;241m.\u001b[39mn_dispatched_batches \u001b[38;5;241m+\u001b[39m\u001b[38;5;241m=\u001b[39m \u001b[38;5;241m1\u001b[39m\n\u001b[0;32m   1846\u001b[0m \u001b[38;5;28mself\u001b[39m\u001b[38;5;241m.\u001b[39mn_dispatched_tasks \u001b[38;5;241m+\u001b[39m\u001b[38;5;241m=\u001b[39m \u001b[38;5;241m1\u001b[39m\n\u001b[1;32m-> 1847\u001b[0m res \u001b[38;5;241m=\u001b[39m func(\u001b[38;5;241m*\u001b[39margs, \u001b[38;5;241m*\u001b[39m\u001b[38;5;241m*\u001b[39mkwargs)\n\u001b[0;32m   1848\u001b[0m \u001b[38;5;28mself\u001b[39m\u001b[38;5;241m.\u001b[39mn_completed_tasks \u001b[38;5;241m+\u001b[39m\u001b[38;5;241m=\u001b[39m \u001b[38;5;241m1\u001b[39m\n\u001b[0;32m   1849\u001b[0m \u001b[38;5;28mself\u001b[39m\u001b[38;5;241m.\u001b[39mprint_progress()\n",
      "File \u001b[1;32m~\\anaconda3\\Lib\\site-packages\\sklearn\\utils\\parallel.py:129\u001b[0m, in \u001b[0;36m_FuncWrapper.__call__\u001b[1;34m(self, *args, **kwargs)\u001b[0m\n\u001b[0;32m    127\u001b[0m     config \u001b[38;5;241m=\u001b[39m {}\n\u001b[0;32m    128\u001b[0m \u001b[38;5;28;01mwith\u001b[39;00m config_context(\u001b[38;5;241m*\u001b[39m\u001b[38;5;241m*\u001b[39mconfig):\n\u001b[1;32m--> 129\u001b[0m     \u001b[38;5;28;01mreturn\u001b[39;00m \u001b[38;5;28mself\u001b[39m\u001b[38;5;241m.\u001b[39mfunction(\u001b[38;5;241m*\u001b[39margs, \u001b[38;5;241m*\u001b[39m\u001b[38;5;241m*\u001b[39mkwargs)\n",
      "File \u001b[1;32m~\\anaconda3\\Lib\\site-packages\\sklearn\\ensemble\\_forest.py:192\u001b[0m, in \u001b[0;36m_parallel_build_trees\u001b[1;34m(tree, bootstrap, X, y, sample_weight, tree_idx, n_trees, verbose, class_weight, n_samples_bootstrap, missing_values_in_feature_mask)\u001b[0m\n\u001b[0;32m    189\u001b[0m     \u001b[38;5;28;01melif\u001b[39;00m class_weight \u001b[38;5;241m==\u001b[39m \u001b[38;5;124m\"\u001b[39m\u001b[38;5;124mbalanced_subsample\u001b[39m\u001b[38;5;124m\"\u001b[39m:\n\u001b[0;32m    190\u001b[0m         curr_sample_weight \u001b[38;5;241m*\u001b[39m\u001b[38;5;241m=\u001b[39m compute_sample_weight(\u001b[38;5;124m\"\u001b[39m\u001b[38;5;124mbalanced\u001b[39m\u001b[38;5;124m\"\u001b[39m, y, indices\u001b[38;5;241m=\u001b[39mindices)\n\u001b[1;32m--> 192\u001b[0m     tree\u001b[38;5;241m.\u001b[39m_fit(\n\u001b[0;32m    193\u001b[0m         X,\n\u001b[0;32m    194\u001b[0m         y,\n\u001b[0;32m    195\u001b[0m         sample_weight\u001b[38;5;241m=\u001b[39mcurr_sample_weight,\n\u001b[0;32m    196\u001b[0m         check_input\u001b[38;5;241m=\u001b[39m\u001b[38;5;28;01mFalse\u001b[39;00m,\n\u001b[0;32m    197\u001b[0m         missing_values_in_feature_mask\u001b[38;5;241m=\u001b[39mmissing_values_in_feature_mask,\n\u001b[0;32m    198\u001b[0m     )\n\u001b[0;32m    199\u001b[0m \u001b[38;5;28;01melse\u001b[39;00m:\n\u001b[0;32m    200\u001b[0m     tree\u001b[38;5;241m.\u001b[39m_fit(\n\u001b[0;32m    201\u001b[0m         X,\n\u001b[0;32m    202\u001b[0m         y,\n\u001b[1;32m   (...)\u001b[0m\n\u001b[0;32m    205\u001b[0m         missing_values_in_feature_mask\u001b[38;5;241m=\u001b[39mmissing_values_in_feature_mask,\n\u001b[0;32m    206\u001b[0m     )\n",
      "File \u001b[1;32m~\\anaconda3\\Lib\\site-packages\\sklearn\\tree\\_classes.py:472\u001b[0m, in \u001b[0;36mBaseDecisionTree._fit\u001b[1;34m(self, X, y, sample_weight, check_input, missing_values_in_feature_mask)\u001b[0m\n\u001b[0;32m    461\u001b[0m \u001b[38;5;28;01melse\u001b[39;00m:\n\u001b[0;32m    462\u001b[0m     builder \u001b[38;5;241m=\u001b[39m BestFirstTreeBuilder(\n\u001b[0;32m    463\u001b[0m         splitter,\n\u001b[0;32m    464\u001b[0m         min_samples_split,\n\u001b[1;32m   (...)\u001b[0m\n\u001b[0;32m    469\u001b[0m         \u001b[38;5;28mself\u001b[39m\u001b[38;5;241m.\u001b[39mmin_impurity_decrease,\n\u001b[0;32m    470\u001b[0m     )\n\u001b[1;32m--> 472\u001b[0m builder\u001b[38;5;241m.\u001b[39mbuild(\u001b[38;5;28mself\u001b[39m\u001b[38;5;241m.\u001b[39mtree_, X, y, sample_weight, missing_values_in_feature_mask)\n\u001b[0;32m    474\u001b[0m \u001b[38;5;28;01mif\u001b[39;00m \u001b[38;5;28mself\u001b[39m\u001b[38;5;241m.\u001b[39mn_outputs_ \u001b[38;5;241m==\u001b[39m \u001b[38;5;241m1\u001b[39m \u001b[38;5;129;01mand\u001b[39;00m is_classifier(\u001b[38;5;28mself\u001b[39m):\n\u001b[0;32m    475\u001b[0m     \u001b[38;5;28mself\u001b[39m\u001b[38;5;241m.\u001b[39mn_classes_ \u001b[38;5;241m=\u001b[39m \u001b[38;5;28mself\u001b[39m\u001b[38;5;241m.\u001b[39mn_classes_[\u001b[38;5;241m0\u001b[39m]\n",
      "\u001b[1;31mKeyboardInterrupt\u001b[0m: "
     ]
    }
   ],
   "source": [
    "import numpy as np\n",
    "import pandas as pd\n",
    "import xgboost as xgb\n",
    "import lightgbm as lgb\n",
    "import catboost as cb\n",
    "from sklearn.ensemble import RandomForestRegressor, StackingRegressor\n",
    "from sklearn.linear_model import Ridge\n",
    "from sklearn.model_selection import train_test_split\n",
    "from sklearn.metrics import mean_squared_error, r2_score\n",
    "\n",
    "\n",
    "\n",
    "# Define features (X) and target variable (y)\n",
    "target_column = \"TotalExpense\"  # Replace with actual target column name\n",
    "X = df_train.drop(columns=[target_column])\n",
    "y = df_train[target_column]\n",
    "\n",
    "X_train = df_train.drop('TotalExpense', axis=1)\n",
    "y_train = df_train['TotalExpense']\n",
    "X_test = df_test.drop('TotalExpense', axis=1)\n",
    "y_test = df_test['TotalExpense']\n",
    "\n",
    "# Initialize models\n",
    "models = {\n",
    "    \"XGBoost\": xgb.XGBRegressor(n_estimators=100, learning_rate=0.1, max_depth=6, random_state=42),\n",
    "    \"LightGBM\": lgb.LGBMRegressor(n_estimators=100, learning_rate=0.1, max_depth=6, random_state=42),\n",
    "    \"CatBoost\": cb.CatBoostRegressor(n_estimators=100, learning_rate=0.1, depth=6, verbose=0, random_state=42),\n",
    "    \"RandomForest\": RandomForestRegressor(n_estimators=100, max_depth=6, random_state=42),\n",
    "}\n",
    "\n",
    "# Train and evaluate models\n",
    "results = {}\n",
    "for name, model in models.items():\n",
    "    model.fit(X_train, y_train)\n",
    "    y_pred = model.predict(X_test)\n",
    "    rmse = mean_squared_error(y_test, y_pred, squared=False)\n",
    "    r2 = r2_score(y_test, y_pred)\n",
    "    results[name] = {\"RMSE\": rmse, \"R² Score\": r2}\n",
    "    print(f\"{name} → RMSE: {rmse:.4f}, R² Score: {r2:.4f}\")\n",
    "\n",
    "# Stacking Model (Combining all models)\n",
    "stacking = StackingRegressor(\n",
    "    estimators=[(name, models[name]) for name in models],\n",
    "    final_estimator=Ridge(alpha=1.0)\n",
    ")\n",
    "stacking.fit(X_train, y_train)\n",
    "y_pred_stacking = stacking.predict(X_test)\n",
    "rmse_stacking = mean_squared_error(y_test, y_pred_stacking, squared=False)\n",
    "r2_stacking = r2_score(y_test, y_pred_stacking)\n",
    "\n",
    "print(f\"Stacking Model → RMSE: {rmse_stacking:.4f}, R² Score: {r2_stacking:.4f}\")\n"
   ]
  },
  {
   "cell_type": "code",
   "execution_count": 19,
   "id": "ba154ccd-f01b-4988-b6ec-1926c46146fb",
   "metadata": {},
   "outputs": [],
   "source": [
    "# Clean column names by replacing special characters\n",
    "df_train.columns = df_train.columns.str.replace('[^a-zA-Z0-9]', '_', regex=True)\n"
   ]
  },
  {
   "cell_type": "code",
   "execution_count": 20,
   "id": "2b26e531-89f6-44d2-af41-638d17f88479",
   "metadata": {},
   "outputs": [],
   "source": [
    "df_test.columns = df_test.columns.str.replace('[^a-zA-Z0-9]', '_', regex=True)"
   ]
  },
  {
   "cell_type": "code",
   "execution_count": 37,
   "id": "59e7087e-b477-44e4-920e-e7bd78be53e2",
   "metadata": {},
   "outputs": [],
   "source": [
    "# Create log-transformed target variable\n",
    "df_log_train= np.log(df_train['TotalExpense'])\n",
    "df_test['Log_TotalExpense'] = np.log(df_test['TotalExpense'])"
   ]
  },
  {
   "cell_type": "code",
   "execution_count": 36,
   "id": "656245ae-7bcb-4671-9f8d-cda2f7bcc545",
   "metadata": {},
   "outputs": [
    {
     "data": {
      "text/plain": [
       "0              NaN\n",
       "1              NaN\n",
       "2        -0.012042\n",
       "3              NaN\n",
       "4        -1.590570\n",
       "            ...   \n",
       "209391         NaN\n",
       "209392         NaN\n",
       "209393         NaN\n",
       "209394   -2.310693\n",
       "209395   -1.374261\n",
       "Name: Log_TotalExpense, Length: 209396, dtype: float64"
      ]
     },
     "execution_count": 36,
     "metadata": {},
     "output_type": "execute_result"
    }
   ],
   "source": [
    "df_train['Log_TotalExpense']"
   ]
  },
  {
   "cell_type": "code",
   "execution_count": 38,
   "id": "eb0c77e7-bbb7-4595-9f26-abe63f9d6424",
   "metadata": {},
   "outputs": [
    {
     "data": {
      "text/plain": [
       "0              NaN\n",
       "1              NaN\n",
       "2        -0.012042\n",
       "3              NaN\n",
       "4        -1.590570\n",
       "            ...   \n",
       "209391         NaN\n",
       "209392         NaN\n",
       "209393         NaN\n",
       "209394   -2.310693\n",
       "209395   -1.374261\n",
       "Name: TotalExpense, Length: 209396, dtype: float64"
      ]
     },
     "execution_count": 38,
     "metadata": {},
     "output_type": "execute_result"
    }
   ],
   "source": [
    "df_log_train"
   ]
  },
  {
   "cell_type": "code",
   "execution_count": 41,
   "id": "505b820b-9b65-492b-9461-2b42de77d066",
   "metadata": {},
   "outputs": [
    {
     "data": {
      "text/plain": [
       "0"
      ]
     },
     "execution_count": 41,
     "metadata": {},
     "output_type": "execute_result"
    }
   ],
   "source": [
    "df_train['TotalExpense'].isnull().sum()"
   ]
  },
  {
   "cell_type": "code",
   "execution_count": null,
   "id": "40b49399-ac7c-4909-9bc7-f889c07ef847",
   "metadata": {},
   "outputs": [],
   "source": [
    "df"
   ]
  },
  {
   "cell_type": "code",
   "execution_count": null,
   "id": "5bc5fe36-a338-45ba-845c-237164194981",
   "metadata": {},
   "outputs": [],
   "source": [
    "#regression\""
   ]
  },
  {
   "cell_type": "code",
   "execution_count": 4,
   "id": "761ef74b-85bc-4801-8541-4304b5b52cde",
   "metadata": {},
   "outputs": [],
   "source": [
    "import pandas as pd\n",
    "import numpy as np\n",
    "import pandas as pd\n",
    "import xgboost as xgb\n",
    "from sklearn.metrics import mean_squared_error, r2_score\n",
    "import numpy as np\n",
    "import pandas as pd\n",
    "import xgboost as xgb\n",
    "import lightgbm as lgb\n",
    "import catboost as cb\n",
    "from sklearn.ensemble import RandomForestRegressor, StackingRegressor\n",
    "from sklearn.linear_model import Ridge\n",
    "from sklearn.model_selection import train_test_split\n",
    "from sklearn.metrics import mean_squared_error, r2_score\n",
    "import numpy as np\n",
    "import pandas as pd\n",
    "from sklearn.tree import DecisionTreeRegressor\n",
    "from sklearn.metrics import mean_squared_error, r2_score"
   ]
  },
  {
   "cell_type": "code",
   "execution_count": 6,
   "id": "a3d1f307-62f9-4975-a834-473f2a451197",
   "metadata": {},
   "outputs": [
    {
     "data": {
      "text/plain": [
       "Index(['Unnamed: 0', 'HH_ID', 'HH Size (For FDQ)', 'Male_Count',\n",
       "       'Female_Count', 'Other_Count', 'Age_0_18', 'Age_18_60', 'Age_60_above',\n",
       "       'Highest educational level attained_head',\n",
       "       ...\n",
       "       'Is_HH_Have_Washing_machine_0', 'Is_HH_Have_Washing_machine_1',\n",
       "       'Is_HH_Have_Airconditioner_aircooler_0',\n",
       "       'Is_HH_Have_Airconditioner_aircooler_1', 'Marital Status_head_1',\n",
       "       'Marital Status_head_2', 'Marital Status_head_3',\n",
       "       'Marital Status_head_4',\n",
       "       'Whether used internet from any location during last 30 days_1',\n",
       "       'Whether used internet from any location during last 30 days_2'],\n",
       "      dtype='object', length=409)"
      ]
     },
     "execution_count": 6,
     "metadata": {},
     "output_type": "execute_result"
    }
   ],
   "source": [
    "d_train= pd.read_csv(r\"C:\\Users\\Aditi\\Downloads\\final_train_.csv\")\n",
    "d_test=pd.read_csv(r\"C:\\Users\\Aditi\\Downloads\\final_test_.csv\")\n",
    "d_train.columns\n",
    "d_test.columns\n"
   ]
  },
  {
   "cell_type": "code",
   "execution_count": 7,
   "id": "640b092a-1cd3-414f-a1ef-8e3da70ffdb1",
   "metadata": {},
   "outputs": [],
   "source": [
    "d_train=d_train.drop(columns=[\"HH_ID\",\"Unnamed: 0\"],errors=\"ignore\")\n",
    "d_test=d_test.drop(columns=[\"HH_ID\",\"Unnamed: 0\"],errors=\"ignore\")"
   ]
  },
  {
   "cell_type": "code",
   "execution_count": 9,
   "id": "c9ff4e49-7cb1-452d-9dbc-175dc8aead84",
   "metadata": {},
   "outputs": [
    {
     "data": {
      "text/html": [
       "<div>\n",
       "<style scoped>\n",
       "    .dataframe tbody tr th:only-of-type {\n",
       "        vertical-align: middle;\n",
       "    }\n",
       "\n",
       "    .dataframe tbody tr th {\n",
       "        vertical-align: top;\n",
       "    }\n",
       "\n",
       "    .dataframe thead th {\n",
       "        text-align: right;\n",
       "    }\n",
       "</style>\n",
       "<table border=\"1\" class=\"dataframe\">\n",
       "  <thead>\n",
       "    <tr style=\"text-align: right;\">\n",
       "      <th></th>\n",
       "      <th>HH Size (For FDQ)</th>\n",
       "      <th>Male_Count</th>\n",
       "      <th>Female_Count</th>\n",
       "      <th>Other_Count</th>\n",
       "      <th>Age_0_18</th>\n",
       "      <th>Age_18_60</th>\n",
       "      <th>Age_60_above</th>\n",
       "      <th>Highest educational level attained_head</th>\n",
       "      <th>Total year of education completed_head</th>\n",
       "      <th>Highest educational level attained_median</th>\n",
       "      <th>...</th>\n",
       "      <th>Is_HH_Have_Washing_machine_0</th>\n",
       "      <th>Is_HH_Have_Washing_machine_1</th>\n",
       "      <th>Is_HH_Have_Airconditioner_aircooler_0</th>\n",
       "      <th>Is_HH_Have_Airconditioner_aircooler_1</th>\n",
       "      <th>Marital Status_head_1</th>\n",
       "      <th>Marital Status_head_2</th>\n",
       "      <th>Marital Status_head_3</th>\n",
       "      <th>Marital Status_head_4</th>\n",
       "      <th>Whether used internet from any location during last 30 days_1</th>\n",
       "      <th>Whether used internet from any location during last 30 days_2</th>\n",
       "    </tr>\n",
       "  </thead>\n",
       "  <tbody>\n",
       "    <tr>\n",
       "      <th>0</th>\n",
       "      <td>2</td>\n",
       "      <td>1</td>\n",
       "      <td>1</td>\n",
       "      <td>0</td>\n",
       "      <td>0</td>\n",
       "      <td>1</td>\n",
       "      <td>1</td>\n",
       "      <td>4</td>\n",
       "      <td>7</td>\n",
       "      <td>4.0</td>\n",
       "      <td>...</td>\n",
       "      <td>1</td>\n",
       "      <td>0</td>\n",
       "      <td>1</td>\n",
       "      <td>0</td>\n",
       "      <td>0</td>\n",
       "      <td>1</td>\n",
       "      <td>0</td>\n",
       "      <td>0</td>\n",
       "      <td>0</td>\n",
       "      <td>1</td>\n",
       "    </tr>\n",
       "    <tr>\n",
       "      <th>1</th>\n",
       "      <td>4</td>\n",
       "      <td>2</td>\n",
       "      <td>2</td>\n",
       "      <td>0</td>\n",
       "      <td>2</td>\n",
       "      <td>2</td>\n",
       "      <td>0</td>\n",
       "      <td>7</td>\n",
       "      <td>13</td>\n",
       "      <td>4.0</td>\n",
       "      <td>...</td>\n",
       "      <td>1</td>\n",
       "      <td>0</td>\n",
       "      <td>1</td>\n",
       "      <td>0</td>\n",
       "      <td>0</td>\n",
       "      <td>1</td>\n",
       "      <td>0</td>\n",
       "      <td>0</td>\n",
       "      <td>1</td>\n",
       "      <td>0</td>\n",
       "    </tr>\n",
       "    <tr>\n",
       "      <th>2</th>\n",
       "      <td>3</td>\n",
       "      <td>1</td>\n",
       "      <td>2</td>\n",
       "      <td>0</td>\n",
       "      <td>2</td>\n",
       "      <td>1</td>\n",
       "      <td>0</td>\n",
       "      <td>1</td>\n",
       "      <td>0</td>\n",
       "      <td>4.0</td>\n",
       "      <td>...</td>\n",
       "      <td>1</td>\n",
       "      <td>0</td>\n",
       "      <td>1</td>\n",
       "      <td>0</td>\n",
       "      <td>0</td>\n",
       "      <td>0</td>\n",
       "      <td>1</td>\n",
       "      <td>0</td>\n",
       "      <td>0</td>\n",
       "      <td>1</td>\n",
       "    </tr>\n",
       "    <tr>\n",
       "      <th>3</th>\n",
       "      <td>4</td>\n",
       "      <td>1</td>\n",
       "      <td>3</td>\n",
       "      <td>0</td>\n",
       "      <td>1</td>\n",
       "      <td>2</td>\n",
       "      <td>1</td>\n",
       "      <td>11</td>\n",
       "      <td>18</td>\n",
       "      <td>8.5</td>\n",
       "      <td>...</td>\n",
       "      <td>1</td>\n",
       "      <td>0</td>\n",
       "      <td>0</td>\n",
       "      <td>1</td>\n",
       "      <td>0</td>\n",
       "      <td>1</td>\n",
       "      <td>0</td>\n",
       "      <td>0</td>\n",
       "      <td>1</td>\n",
       "      <td>0</td>\n",
       "    </tr>\n",
       "    <tr>\n",
       "      <th>4</th>\n",
       "      <td>3</td>\n",
       "      <td>1</td>\n",
       "      <td>2</td>\n",
       "      <td>0</td>\n",
       "      <td>0</td>\n",
       "      <td>3</td>\n",
       "      <td>0</td>\n",
       "      <td>3</td>\n",
       "      <td>4</td>\n",
       "      <td>7.0</td>\n",
       "      <td>...</td>\n",
       "      <td>1</td>\n",
       "      <td>0</td>\n",
       "      <td>0</td>\n",
       "      <td>1</td>\n",
       "      <td>0</td>\n",
       "      <td>0</td>\n",
       "      <td>1</td>\n",
       "      <td>0</td>\n",
       "      <td>1</td>\n",
       "      <td>0</td>\n",
       "    </tr>\n",
       "  </tbody>\n",
       "</table>\n",
       "<p>5 rows × 407 columns</p>\n",
       "</div>"
      ],
      "text/plain": [
       "   HH Size (For FDQ)  Male_Count  Female_Count  Other_Count  Age_0_18  \\\n",
       "0                  2           1             1            0         0   \n",
       "1                  4           2             2            0         2   \n",
       "2                  3           1             2            0         2   \n",
       "3                  4           1             3            0         1   \n",
       "4                  3           1             2            0         0   \n",
       "\n",
       "   Age_18_60  Age_60_above  Highest educational level attained_head  \\\n",
       "0          1             1                                        4   \n",
       "1          2             0                                        7   \n",
       "2          1             0                                        1   \n",
       "3          2             1                                       11   \n",
       "4          3             0                                        3   \n",
       "\n",
       "   Total year of education completed_head  \\\n",
       "0                                       7   \n",
       "1                                      13   \n",
       "2                                       0   \n",
       "3                                      18   \n",
       "4                                       4   \n",
       "\n",
       "   Highest educational level attained_median  ...  \\\n",
       "0                                        4.0  ...   \n",
       "1                                        4.0  ...   \n",
       "2                                        4.0  ...   \n",
       "3                                        8.5  ...   \n",
       "4                                        7.0  ...   \n",
       "\n",
       "   Is_HH_Have_Washing_machine_0  Is_HH_Have_Washing_machine_1  \\\n",
       "0                             1                             0   \n",
       "1                             1                             0   \n",
       "2                             1                             0   \n",
       "3                             1                             0   \n",
       "4                             1                             0   \n",
       "\n",
       "   Is_HH_Have_Airconditioner_aircooler_0  \\\n",
       "0                                      1   \n",
       "1                                      1   \n",
       "2                                      1   \n",
       "3                                      0   \n",
       "4                                      0   \n",
       "\n",
       "   Is_HH_Have_Airconditioner_aircooler_1  Marital Status_head_1  \\\n",
       "0                                      0                      0   \n",
       "1                                      0                      0   \n",
       "2                                      0                      0   \n",
       "3                                      1                      0   \n",
       "4                                      1                      0   \n",
       "\n",
       "   Marital Status_head_2  Marital Status_head_3  Marital Status_head_4  \\\n",
       "0                      1                      0                      0   \n",
       "1                      1                      0                      0   \n",
       "2                      0                      1                      0   \n",
       "3                      1                      0                      0   \n",
       "4                      0                      1                      0   \n",
       "\n",
       "   Whether used internet from any location during last 30 days_1  \\\n",
       "0                                                  0               \n",
       "1                                                  1               \n",
       "2                                                  0               \n",
       "3                                                  1               \n",
       "4                                                  1               \n",
       "\n",
       "   Whether used internet from any location during last 30 days_2  \n",
       "0                                                  1              \n",
       "1                                                  0              \n",
       "2                                                  1              \n",
       "3                                                  0              \n",
       "4                                                  0              \n",
       "\n",
       "[5 rows x 407 columns]"
      ]
     },
     "execution_count": 9,
     "metadata": {},
     "output_type": "execute_result"
    }
   ],
   "source": [
    "d_test.head()"
   ]
  },
  {
   "cell_type": "code",
   "execution_count": 12,
   "id": "602ae2bf-e235-49bc-aca4-3fbf1b828e05",
   "metadata": {},
   "outputs": [],
   "source": [
    "d_log_test= pd.read_excel(r\"C:\\Users\\Aditi\\Downloads\\Target_test.xlsx\")\n",
    "log_test=d_log_test[\"log_totalexpense\"]\n",
    "d_log_train=pd.read_excel(r\"C:\\Users\\Aditi\\Downloads\\Target_train.xlsx\")\n",
    "log_train=d_log_train[\"log_TotalExpense\"]\n",
    "\n"
   ]
  },
  {
   "cell_type": "code",
   "execution_count": 14,
   "id": "e9891b18-1f4a-4447-9e4d-de88589a18fe",
   "metadata": {},
   "outputs": [],
   "source": [
    "# Define X (features) and y (target)\n",
    "X_train = d_train  # Use all features except TotalExpense\n",
    "y_train = log_train # Log-transformed target\n",
    "\n",
    "X_test = d_test  # Use all features except TotalExpense\n",
    "y_test = log_test  # Log-transformed target\n"
   ]
  },
  {
   "cell_type": "code",
   "execution_count": 15,
   "id": "48b1cd7e-a8b2-42d5-b90f-afd986380443",
   "metadata": {},
   "outputs": [
    {
     "data": {
      "text/plain": [
       "Index(['HH Size (For FDQ)', 'Male_Count', 'Female_Count', 'Other_Count',\n",
       "       'Age_0_18', 'Age_18_60', 'Age_60_above',\n",
       "       'Highest educational level attained_head',\n",
       "       'Total year of education completed_head',\n",
       "       'Highest educational level attained_median',\n",
       "       ...\n",
       "       'Is_HH_Have_Washing_machine_0', 'Is_HH_Have_Washing_machine_1',\n",
       "       'Is_HH_Have_Airconditioner_aircooler_0',\n",
       "       'Is_HH_Have_Airconditioner_aircooler_1', 'Marital Status_head_1',\n",
       "       'Marital Status_head_2', 'Marital Status_head_3',\n",
       "       'Marital Status_head_4',\n",
       "       'Whether used internet from any location during last 30 days_1',\n",
       "       'Whether used internet from any location during last 30 days_2'],\n",
       "      dtype='object', length=407)"
      ]
     },
     "execution_count": 15,
     "metadata": {},
     "output_type": "execute_result"
    }
   ],
   "source": [
    "X_train.columns\n",
    "X_test.columns"
   ]
  },
  {
   "cell_type": "code",
   "execution_count": 16,
   "id": "4a60f85b-8c6b-4170-a281-364e284cbb7e",
   "metadata": {},
   "outputs": [],
   "source": [
    "#Convert categorical columns to category dtype\n",
    "categorical_cols = X_train.select_dtypes(include=['object']).columns\n",
    "X_train[categorical_cols] = X_train[categorical_cols].astype(\"category\")\n",
    "X_test[categorical_cols] = X_test[categorical_cols].astype(\"category\")"
   ]
  },
  {
   "cell_type": "code",
   "execution_count": 17,
   "id": "3def54d2-1814-48fe-8ad9-1e0fbba85632",
   "metadata": {},
   "outputs": [],
   "source": [
    "# Identify object (string) columns\n",
    "categorical_cols = X_train.select_dtypes(include=['object']).columns.tolist()\n",
    "\n",
    "# Convert categorical columns to category dtype\n",
    "for col in categorical_cols:\n",
    "    X_train[col] = X_train[col].astype(\"category\")\n",
    "    X_test[col] = X_test[col].astype(\"category\")"
   ]
  },
  {
   "cell_type": "code",
   "execution_count": null,
   "id": "feedaf2b-b587-4cc3-9bfc-50c603306730",
   "metadata": {},
   "outputs": [],
   "source": [
    "#linearity"
   ]
  },
  {
   "cell_type": "code",
   "execution_count": 20,
   "id": "005c4f06-11f7-4900-ac15-175f921b4d85",
   "metadata": {},
   "outputs": [
    {
     "data": {
      "image/png": "[encoded data removed]",
      "text/plain": [
       "<Figure size 600x400 with 1 Axes>"
      ]
     },
     "metadata": {},
     "output_type": "display_data"
    }
   ],
   "source": [
    "import matplotlib.pyplot as plt\n",
    "import seaborn as sns\n",
    "\n",
    "# Scatter plot of actual vs predicted values\n",
    "y_pred = LinearRegression().fit(X_train, y_train).predict(X_test)\n",
    "\n",
    "plt.figure(figsize=(6, 4))\n",
    "sns.scatterplot(x=y_test, y=y_pred)\n",
    "plt.xlabel(\"Actual Values\")\n",
    "plt.ylabel(\"Predicted Values\")\n",
    "plt.title(\"Actual vs Predicted Values (Linearity Check)\")\n",
    "plt.show()\n"
   ]
  },
  {
   "cell_type": "code",
   "execution_count": null,
   "id": "941dfb55-e83f-4533-800b-348fac1fe09f",
   "metadata": {},
   "outputs": [],
   "source": [
    "# inearity assumption is likely satisfied"
   ]
  },
  {
   "cell_type": "code",
   "execution_count": null,
   "id": "017c3f7d-6395-446c-91a6-03838f46b607",
   "metadata": {},
   "outputs": [],
   "source": [
    "#multicolinearity"
   ]
  },
  {
   "cell_type": "code",
   "execution_count": 21,
   "id": "22f258fc-43c2-4bd8-a63d-d99fe014ec91",
   "metadata": {},
   "outputs": [
    {
     "name": "stderr",
     "output_type": "stream",
     "text": [
      "C:\\Users\\Aditi\\anaconda3\\Lib\\site-packages\\statsmodels\\stats\\outliers_influence.py:197: RuntimeWarning: divide by zero encountered in scalar divide\n",
      "  vif = 1. / (1. - r_squared_i)\n"
     ]
    },
    {
     "ename": "KeyboardInterrupt",
     "evalue": "",
     "output_type": "error",
     "traceback": [
      "\u001b[1;31m---------------------------------------------------------------------------\u001b[0m",
      "\u001b[1;31mKeyboardInterrupt\u001b[0m                         Traceback (most recent call last)",
      "Cell \u001b[1;32mIn[21], line 6\u001b[0m\n\u001b[0;32m      4\u001b[0m vif_data \u001b[38;5;241m=\u001b[39m pd\u001b[38;5;241m.\u001b[39mDataFrame()\n\u001b[0;32m      5\u001b[0m vif_data[\u001b[38;5;124m\"\u001b[39m\u001b[38;5;124mFeature\u001b[39m\u001b[38;5;124m\"\u001b[39m] \u001b[38;5;241m=\u001b[39m X_train\u001b[38;5;241m.\u001b[39mcolumns\n\u001b[1;32m----> 6\u001b[0m vif_data[\u001b[38;5;124m\"\u001b[39m\u001b[38;5;124mVIF\u001b[39m\u001b[38;5;124m\"\u001b[39m] \u001b[38;5;241m=\u001b[39m [variance_inflation_factor(X_train\u001b[38;5;241m.\u001b[39mvalues, i) \u001b[38;5;28;01mfor\u001b[39;00m i \u001b[38;5;129;01min\u001b[39;00m \u001b[38;5;28mrange\u001b[39m(X_train\u001b[38;5;241m.\u001b[39mshape[\u001b[38;5;241m1\u001b[39m])]\n\u001b[0;32m      8\u001b[0m \u001b[38;5;28mprint\u001b[39m(vif_data\u001b[38;5;241m.\u001b[39msort_values(by\u001b[38;5;241m=\u001b[39m\u001b[38;5;124m\"\u001b[39m\u001b[38;5;124mVIF\u001b[39m\u001b[38;5;124m\"\u001b[39m, ascending\u001b[38;5;241m=\u001b[39m\u001b[38;5;28;01mFalse\u001b[39;00m))\n",
      "File \u001b[1;32m~\\anaconda3\\Lib\\site-packages\\statsmodels\\stats\\outliers_influence.py:196\u001b[0m, in \u001b[0;36mvariance_inflation_factor\u001b[1;34m(exog, exog_idx)\u001b[0m\n\u001b[0;32m    194\u001b[0m mask \u001b[38;5;241m=\u001b[39m np\u001b[38;5;241m.\u001b[39marange(k_vars) \u001b[38;5;241m!=\u001b[39m exog_idx\n\u001b[0;32m    195\u001b[0m x_noti \u001b[38;5;241m=\u001b[39m exog[:, mask]\n\u001b[1;32m--> 196\u001b[0m r_squared_i \u001b[38;5;241m=\u001b[39m OLS(x_i, x_noti)\u001b[38;5;241m.\u001b[39mfit()\u001b[38;5;241m.\u001b[39mrsquared\n\u001b[0;32m    197\u001b[0m vif \u001b[38;5;241m=\u001b[39m \u001b[38;5;241m1.\u001b[39m \u001b[38;5;241m/\u001b[39m (\u001b[38;5;241m1.\u001b[39m \u001b[38;5;241m-\u001b[39m r_squared_i)\n\u001b[0;32m    198\u001b[0m \u001b[38;5;28;01mreturn\u001b[39;00m vif\n",
      "File \u001b[1;32m~\\anaconda3\\Lib\\site-packages\\statsmodels\\regression\\linear_model.py:924\u001b[0m, in \u001b[0;36mOLS.__init__\u001b[1;34m(self, endog, exog, missing, hasconst, **kwargs)\u001b[0m\n\u001b[0;32m    921\u001b[0m     msg \u001b[38;5;241m=\u001b[39m (\u001b[38;5;124m\"\u001b[39m\u001b[38;5;124mWeights are not supported in OLS and will be ignored\u001b[39m\u001b[38;5;124m\"\u001b[39m\n\u001b[0;32m    922\u001b[0m            \u001b[38;5;124m\"\u001b[39m\u001b[38;5;124mAn exception will be raised in the next version.\u001b[39m\u001b[38;5;124m\"\u001b[39m)\n\u001b[0;32m    923\u001b[0m     warnings\u001b[38;5;241m.\u001b[39mwarn(msg, ValueWarning)\n\u001b[1;32m--> 924\u001b[0m \u001b[38;5;28msuper\u001b[39m()\u001b[38;5;241m.\u001b[39m\u001b[38;5;21m__init__\u001b[39m(endog, exog, missing\u001b[38;5;241m=\u001b[39mmissing,\n\u001b[0;32m    925\u001b[0m                           hasconst\u001b[38;5;241m=\u001b[39mhasconst, \u001b[38;5;241m*\u001b[39m\u001b[38;5;241m*\u001b[39mkwargs)\n\u001b[0;32m    926\u001b[0m \u001b[38;5;28;01mif\u001b[39;00m \u001b[38;5;124m\"\u001b[39m\u001b[38;5;124mweights\u001b[39m\u001b[38;5;124m\"\u001b[39m \u001b[38;5;129;01min\u001b[39;00m \u001b[38;5;28mself\u001b[39m\u001b[38;5;241m.\u001b[39m_init_keys:\n\u001b[0;32m    927\u001b[0m     \u001b[38;5;28mself\u001b[39m\u001b[38;5;241m.\u001b[39m_init_keys\u001b[38;5;241m.\u001b[39mremove(\u001b[38;5;124m\"\u001b[39m\u001b[38;5;124mweights\u001b[39m\u001b[38;5;124m\"\u001b[39m)\n",
      "File \u001b[1;32m~\\anaconda3\\Lib\\site-packages\\statsmodels\\regression\\linear_model.py:749\u001b[0m, in \u001b[0;36mWLS.__init__\u001b[1;34m(self, endog, exog, weights, missing, hasconst, **kwargs)\u001b[0m\n\u001b[0;32m    747\u001b[0m \u001b[38;5;28;01melse\u001b[39;00m:\n\u001b[0;32m    748\u001b[0m     weights \u001b[38;5;241m=\u001b[39m weights\u001b[38;5;241m.\u001b[39msqueeze()\n\u001b[1;32m--> 749\u001b[0m \u001b[38;5;28msuper\u001b[39m()\u001b[38;5;241m.\u001b[39m\u001b[38;5;21m__init__\u001b[39m(endog, exog, missing\u001b[38;5;241m=\u001b[39mmissing,\n\u001b[0;32m    750\u001b[0m                           weights\u001b[38;5;241m=\u001b[39mweights, hasconst\u001b[38;5;241m=\u001b[39mhasconst, \u001b[38;5;241m*\u001b[39m\u001b[38;5;241m*\u001b[39mkwargs)\n\u001b[0;32m    751\u001b[0m nobs \u001b[38;5;241m=\u001b[39m \u001b[38;5;28mself\u001b[39m\u001b[38;5;241m.\u001b[39mexog\u001b[38;5;241m.\u001b[39mshape[\u001b[38;5;241m0\u001b[39m]\n\u001b[0;32m    752\u001b[0m weights \u001b[38;5;241m=\u001b[39m \u001b[38;5;28mself\u001b[39m\u001b[38;5;241m.\u001b[39mweights\n",
      "File \u001b[1;32m~\\anaconda3\\Lib\\site-packages\\statsmodels\\regression\\linear_model.py:203\u001b[0m, in \u001b[0;36mRegressionModel.__init__\u001b[1;34m(self, endog, exog, **kwargs)\u001b[0m\n\u001b[0;32m    202\u001b[0m \u001b[38;5;28;01mdef\u001b[39;00m \u001b[38;5;21m__init__\u001b[39m(\u001b[38;5;28mself\u001b[39m, endog, exog, \u001b[38;5;241m*\u001b[39m\u001b[38;5;241m*\u001b[39mkwargs):\n\u001b[1;32m--> 203\u001b[0m     \u001b[38;5;28msuper\u001b[39m()\u001b[38;5;241m.\u001b[39m\u001b[38;5;21m__init__\u001b[39m(endog, exog, \u001b[38;5;241m*\u001b[39m\u001b[38;5;241m*\u001b[39mkwargs)\n\u001b[0;32m    204\u001b[0m     \u001b[38;5;28mself\u001b[39m\u001b[38;5;241m.\u001b[39mpinv_wexog: Float64Array \u001b[38;5;241m|\u001b[39m \u001b[38;5;28;01mNone\u001b[39;00m \u001b[38;5;241m=\u001b[39m \u001b[38;5;28;01mNone\u001b[39;00m\n\u001b[0;32m    205\u001b[0m     \u001b[38;5;28mself\u001b[39m\u001b[38;5;241m.\u001b[39m_data_attr\u001b[38;5;241m.\u001b[39mextend([\u001b[38;5;124m'\u001b[39m\u001b[38;5;124mpinv_wexog\u001b[39m\u001b[38;5;124m'\u001b[39m, \u001b[38;5;124m'\u001b[39m\u001b[38;5;124mwendog\u001b[39m\u001b[38;5;124m'\u001b[39m, \u001b[38;5;124m'\u001b[39m\u001b[38;5;124mwexog\u001b[39m\u001b[38;5;124m'\u001b[39m, \u001b[38;5;124m'\u001b[39m\u001b[38;5;124mweights\u001b[39m\u001b[38;5;124m'\u001b[39m])\n",
      "File \u001b[1;32m~\\anaconda3\\Lib\\site-packages\\statsmodels\\base\\model.py:270\u001b[0m, in \u001b[0;36mLikelihoodModel.__init__\u001b[1;34m(self, endog, exog, **kwargs)\u001b[0m\n\u001b[0;32m    269\u001b[0m \u001b[38;5;28;01mdef\u001b[39;00m \u001b[38;5;21m__init__\u001b[39m(\u001b[38;5;28mself\u001b[39m, endog, exog\u001b[38;5;241m=\u001b[39m\u001b[38;5;28;01mNone\u001b[39;00m, \u001b[38;5;241m*\u001b[39m\u001b[38;5;241m*\u001b[39mkwargs):\n\u001b[1;32m--> 270\u001b[0m     \u001b[38;5;28msuper\u001b[39m()\u001b[38;5;241m.\u001b[39m\u001b[38;5;21m__init__\u001b[39m(endog, exog, \u001b[38;5;241m*\u001b[39m\u001b[38;5;241m*\u001b[39mkwargs)\n\u001b[0;32m    271\u001b[0m     \u001b[38;5;28mself\u001b[39m\u001b[38;5;241m.\u001b[39minitialize()\n",
      "File \u001b[1;32m~\\anaconda3\\Lib\\site-packages\\statsmodels\\base\\model.py:95\u001b[0m, in \u001b[0;36mModel.__init__\u001b[1;34m(self, endog, exog, **kwargs)\u001b[0m\n\u001b[0;32m     93\u001b[0m missing \u001b[38;5;241m=\u001b[39m kwargs\u001b[38;5;241m.\u001b[39mpop(\u001b[38;5;124m'\u001b[39m\u001b[38;5;124mmissing\u001b[39m\u001b[38;5;124m'\u001b[39m, \u001b[38;5;124m'\u001b[39m\u001b[38;5;124mnone\u001b[39m\u001b[38;5;124m'\u001b[39m)\n\u001b[0;32m     94\u001b[0m hasconst \u001b[38;5;241m=\u001b[39m kwargs\u001b[38;5;241m.\u001b[39mpop(\u001b[38;5;124m'\u001b[39m\u001b[38;5;124mhasconst\u001b[39m\u001b[38;5;124m'\u001b[39m, \u001b[38;5;28;01mNone\u001b[39;00m)\n\u001b[1;32m---> 95\u001b[0m \u001b[38;5;28mself\u001b[39m\u001b[38;5;241m.\u001b[39mdata \u001b[38;5;241m=\u001b[39m \u001b[38;5;28mself\u001b[39m\u001b[38;5;241m.\u001b[39m_handle_data(endog, exog, missing, hasconst,\n\u001b[0;32m     96\u001b[0m                               \u001b[38;5;241m*\u001b[39m\u001b[38;5;241m*\u001b[39mkwargs)\n\u001b[0;32m     97\u001b[0m \u001b[38;5;28mself\u001b[39m\u001b[38;5;241m.\u001b[39mk_constant \u001b[38;5;241m=\u001b[39m \u001b[38;5;28mself\u001b[39m\u001b[38;5;241m.\u001b[39mdata\u001b[38;5;241m.\u001b[39mk_constant\n\u001b[0;32m     98\u001b[0m \u001b[38;5;28mself\u001b[39m\u001b[38;5;241m.\u001b[39mexog \u001b[38;5;241m=\u001b[39m \u001b[38;5;28mself\u001b[39m\u001b[38;5;241m.\u001b[39mdata\u001b[38;5;241m.\u001b[39mexog\n",
      "File \u001b[1;32m~\\anaconda3\\Lib\\site-packages\\statsmodels\\base\\model.py:135\u001b[0m, in \u001b[0;36mModel._handle_data\u001b[1;34m(self, endog, exog, missing, hasconst, **kwargs)\u001b[0m\n\u001b[0;32m    134\u001b[0m \u001b[38;5;28;01mdef\u001b[39;00m \u001b[38;5;21m_handle_data\u001b[39m(\u001b[38;5;28mself\u001b[39m, endog, exog, missing, hasconst, \u001b[38;5;241m*\u001b[39m\u001b[38;5;241m*\u001b[39mkwargs):\n\u001b[1;32m--> 135\u001b[0m     data \u001b[38;5;241m=\u001b[39m handle_data(endog, exog, missing, hasconst, \u001b[38;5;241m*\u001b[39m\u001b[38;5;241m*\u001b[39mkwargs)\n\u001b[0;32m    136\u001b[0m     \u001b[38;5;66;03m# kwargs arrays could have changed, easier to just attach here\u001b[39;00m\n\u001b[0;32m    137\u001b[0m     \u001b[38;5;28;01mfor\u001b[39;00m key \u001b[38;5;129;01min\u001b[39;00m kwargs:\n",
      "File \u001b[1;32m~\\anaconda3\\Lib\\site-packages\\statsmodels\\base\\data.py:675\u001b[0m, in \u001b[0;36mhandle_data\u001b[1;34m(endog, exog, missing, hasconst, **kwargs)\u001b[0m\n\u001b[0;32m    672\u001b[0m     exog \u001b[38;5;241m=\u001b[39m np\u001b[38;5;241m.\u001b[39masarray(exog)\n\u001b[0;32m    674\u001b[0m klass \u001b[38;5;241m=\u001b[39m handle_data_class_factory(endog, exog)\n\u001b[1;32m--> 675\u001b[0m \u001b[38;5;28;01mreturn\u001b[39;00m klass(endog, exog\u001b[38;5;241m=\u001b[39mexog, missing\u001b[38;5;241m=\u001b[39mmissing, hasconst\u001b[38;5;241m=\u001b[39mhasconst,\n\u001b[0;32m    676\u001b[0m              \u001b[38;5;241m*\u001b[39m\u001b[38;5;241m*\u001b[39mkwargs)\n",
      "File \u001b[1;32m~\\anaconda3\\Lib\\site-packages\\statsmodels\\base\\data.py:88\u001b[0m, in \u001b[0;36mModelData.__init__\u001b[1;34m(self, endog, exog, missing, hasconst, **kwargs)\u001b[0m\n\u001b[0;32m     86\u001b[0m \u001b[38;5;28mself\u001b[39m\u001b[38;5;241m.\u001b[39mconst_idx \u001b[38;5;241m=\u001b[39m \u001b[38;5;28;01mNone\u001b[39;00m\n\u001b[0;32m     87\u001b[0m \u001b[38;5;28mself\u001b[39m\u001b[38;5;241m.\u001b[39mk_constant \u001b[38;5;241m=\u001b[39m \u001b[38;5;241m0\u001b[39m\n\u001b[1;32m---> 88\u001b[0m \u001b[38;5;28mself\u001b[39m\u001b[38;5;241m.\u001b[39m_handle_constant(hasconst)\n\u001b[0;32m     89\u001b[0m \u001b[38;5;28mself\u001b[39m\u001b[38;5;241m.\u001b[39m_check_integrity()\n\u001b[0;32m     90\u001b[0m \u001b[38;5;28mself\u001b[39m\u001b[38;5;241m.\u001b[39m_cache \u001b[38;5;241m=\u001b[39m {}\n",
      "File \u001b[1;32m~\\anaconda3\\Lib\\site-packages\\statsmodels\\base\\data.py:177\u001b[0m, in \u001b[0;36mModelData._handle_constant\u001b[1;34m(self, hasconst)\u001b[0m\n\u001b[0;32m    172\u001b[0m \u001b[38;5;28;01mif\u001b[39;00m check_implicit \u001b[38;5;129;01mand\u001b[39;00m \u001b[38;5;129;01mnot\u001b[39;00m hasconst:\n\u001b[0;32m    173\u001b[0m     \u001b[38;5;66;03m# look for implicit constant\u001b[39;00m\n\u001b[0;32m    174\u001b[0m     \u001b[38;5;66;03m# Compute rank of augmented matrix\u001b[39;00m\n\u001b[0;32m    175\u001b[0m     augmented_exog \u001b[38;5;241m=\u001b[39m np\u001b[38;5;241m.\u001b[39mcolumn_stack(\n\u001b[0;32m    176\u001b[0m                 (np\u001b[38;5;241m.\u001b[39mones(\u001b[38;5;28mself\u001b[39m\u001b[38;5;241m.\u001b[39mexog\u001b[38;5;241m.\u001b[39mshape[\u001b[38;5;241m0\u001b[39m]), \u001b[38;5;28mself\u001b[39m\u001b[38;5;241m.\u001b[39mexog))\n\u001b[1;32m--> 177\u001b[0m     rank_augm \u001b[38;5;241m=\u001b[39m np\u001b[38;5;241m.\u001b[39mlinalg\u001b[38;5;241m.\u001b[39mmatrix_rank(augmented_exog)\n\u001b[0;32m    178\u001b[0m     rank_orig \u001b[38;5;241m=\u001b[39m np\u001b[38;5;241m.\u001b[39mlinalg\u001b[38;5;241m.\u001b[39mmatrix_rank(\u001b[38;5;28mself\u001b[39m\u001b[38;5;241m.\u001b[39mexog)\n\u001b[0;32m    179\u001b[0m     \u001b[38;5;28mself\u001b[39m\u001b[38;5;241m.\u001b[39mk_constant \u001b[38;5;241m=\u001b[39m \u001b[38;5;28mint\u001b[39m(rank_orig \u001b[38;5;241m==\u001b[39m rank_augm)\n",
      "File \u001b[1;32m~\\anaconda3\\Lib\\site-packages\\numpy\\linalg\\linalg.py:1922\u001b[0m, in \u001b[0;36mmatrix_rank\u001b[1;34m(A, tol, hermitian)\u001b[0m\n\u001b[0;32m   1920\u001b[0m \u001b[38;5;28;01mif\u001b[39;00m A\u001b[38;5;241m.\u001b[39mndim \u001b[38;5;241m<\u001b[39m \u001b[38;5;241m2\u001b[39m:\n\u001b[0;32m   1921\u001b[0m     \u001b[38;5;28;01mreturn\u001b[39;00m \u001b[38;5;28mint\u001b[39m(\u001b[38;5;129;01mnot\u001b[39;00m \u001b[38;5;28mall\u001b[39m(A\u001b[38;5;241m==\u001b[39m\u001b[38;5;241m0\u001b[39m))\n\u001b[1;32m-> 1922\u001b[0m S \u001b[38;5;241m=\u001b[39m svd(A, compute_uv\u001b[38;5;241m=\u001b[39m\u001b[38;5;28;01mFalse\u001b[39;00m, hermitian\u001b[38;5;241m=\u001b[39mhermitian)\n\u001b[0;32m   1923\u001b[0m \u001b[38;5;28;01mif\u001b[39;00m tol \u001b[38;5;129;01mis\u001b[39;00m \u001b[38;5;28;01mNone\u001b[39;00m:\n\u001b[0;32m   1924\u001b[0m     tol \u001b[38;5;241m=\u001b[39m S\u001b[38;5;241m.\u001b[39mmax(axis\u001b[38;5;241m=\u001b[39m\u001b[38;5;241m-\u001b[39m\u001b[38;5;241m1\u001b[39m, keepdims\u001b[38;5;241m=\u001b[39m\u001b[38;5;28;01mTrue\u001b[39;00m) \u001b[38;5;241m*\u001b[39m \u001b[38;5;28mmax\u001b[39m(A\u001b[38;5;241m.\u001b[39mshape[\u001b[38;5;241m-\u001b[39m\u001b[38;5;241m2\u001b[39m:]) \u001b[38;5;241m*\u001b[39m finfo(S\u001b[38;5;241m.\u001b[39mdtype)\u001b[38;5;241m.\u001b[39meps\n",
      "File \u001b[1;32m~\\anaconda3\\Lib\\site-packages\\numpy\\linalg\\linalg.py:1694\u001b[0m, in \u001b[0;36msvd\u001b[1;34m(a, full_matrices, compute_uv, hermitian)\u001b[0m\n\u001b[0;32m   1692\u001b[0m signature \u001b[38;5;241m=\u001b[39m \u001b[38;5;124m'\u001b[39m\u001b[38;5;124mD->d\u001b[39m\u001b[38;5;124m'\u001b[39m \u001b[38;5;28;01mif\u001b[39;00m isComplexType(t) \u001b[38;5;28;01melse\u001b[39;00m \u001b[38;5;124m'\u001b[39m\u001b[38;5;124md->d\u001b[39m\u001b[38;5;124m'\u001b[39m\n\u001b[0;32m   1693\u001b[0m s \u001b[38;5;241m=\u001b[39m gufunc(a, signature\u001b[38;5;241m=\u001b[39msignature, extobj\u001b[38;5;241m=\u001b[39mextobj)\n\u001b[1;32m-> 1694\u001b[0m s \u001b[38;5;241m=\u001b[39m s\u001b[38;5;241m.\u001b[39mastype(_realType(result_t), copy\u001b[38;5;241m=\u001b[39m\u001b[38;5;28;01mFalse\u001b[39;00m)\n\u001b[0;32m   1695\u001b[0m \u001b[38;5;28;01mreturn\u001b[39;00m s\n",
      "File \u001b[1;32m~\\anaconda3\\Lib\\site-packages\\numpy\\linalg\\linalg.py:153\u001b[0m, in \u001b[0;36m_realType\u001b[1;34m(t, default)\u001b[0m\n\u001b[0;32m    143\u001b[0m _real_types_map \u001b[38;5;241m=\u001b[39m {single : single,\n\u001b[0;32m    144\u001b[0m                    double : double,\n\u001b[0;32m    145\u001b[0m                    csingle : single,\n\u001b[0;32m    146\u001b[0m                    cdouble : double}\n\u001b[0;32m    148\u001b[0m _complex_types_map \u001b[38;5;241m=\u001b[39m {single : csingle,\n\u001b[0;32m    149\u001b[0m                       double : cdouble,\n\u001b[0;32m    150\u001b[0m                       csingle : csingle,\n\u001b[0;32m    151\u001b[0m                       cdouble : cdouble}\n\u001b[1;32m--> 153\u001b[0m \u001b[38;5;28;01mdef\u001b[39;00m \u001b[38;5;21m_realType\u001b[39m(t, default\u001b[38;5;241m=\u001b[39mdouble):\n\u001b[0;32m    154\u001b[0m     \u001b[38;5;28;01mreturn\u001b[39;00m _real_types_map\u001b[38;5;241m.\u001b[39mget(t, default)\n\u001b[0;32m    156\u001b[0m \u001b[38;5;28;01mdef\u001b[39;00m \u001b[38;5;21m_complexType\u001b[39m(t, default\u001b[38;5;241m=\u001b[39mcdouble):\n",
      "\u001b[1;31mKeyboardInterrupt\u001b[0m: "
     ]
    }
   ],
   "source": [
    "from statsmodels.stats.outliers_influence import variance_inflation_factor\n",
    "import pandas as pd\n",
    "\n",
    "vif_data = pd.DataFrame()\n",
    "vif_data[\"Feature\"] = X_train.columns\n",
    "vif_data[\"VIF\"] = [variance_inflation_factor(X_train.values, i) for i in range(X_train.shape[1])]\n",
    "\n",
    "print(vif_data.sort_values(by=\"VIF\", ascending=False))\n"
   ]
  },
  {
   "cell_type": "code",
   "execution_count": 22,
   "id": "7638e4e7-c14c-472d-bb82-a0e189c7377a",
   "metadata": {},
   "outputs": [
    {
     "name": "stdout",
     "output_type": "stream",
     "text": [
      "Durbin-Watson Test Statistic: 2.004595048816358\n"
     ]
    }
   ],
   "source": [
    "#auto coree\n",
    "from statsmodels.stats.stattools import durbin_watson\n",
    "import numpy as np\n",
    "\n",
    "residuals = y_test - y_pred\n",
    "print(\"Durbin-Watson Test Statistic:\", durbin_watson(residuals))\n"
   ]
  },
  {
   "cell_type": "markdown",
   "id": "bc739654-0002-44ff-9c5a-db7b1130b781",
   "metadata": {},
   "source": [
    "Your model's residuals show almost no autocorrelation since the value is very close to 2. This means the assumption of independent residuals is met, and there are no major concerns about autocorrelation affecting the regression results"
   ]
  },
  {
   "cell_type": "code",
   "execution_count": 23,
   "id": "391d8882-396d-4ff7-a7f3-aadaf7efeb14",
   "metadata": {},
   "outputs": [],
   "source": [
    "#Homoscedasticity"
   ]
  },
  {
   "cell_type": "code",
   "execution_count": 24,
   "id": "67a98083-321f-4aff-b3e2-189c054c2a21",
   "metadata": {},
   "outputs": [
    {
     "data": {
      "image/png": "[encoded data removed]",
      "text/plain": [
       "<Figure size 600x400 with 1 Axes>"
      ]
     },
     "metadata": {},
     "output_type": "display_data"
    }
   ],
   "source": [
    "plt.figure(figsize=(6, 4))\n",
    "sns.scatterplot(x=y_pred, y=residuals)\n",
    "plt.axhline(y=0, color=\"red\", linestyle=\"--\")\n",
    "plt.xlabel(\"Predicted Values\")\n",
    "plt.ylabel(\"Residuals\")\n",
    "plt.title(\"Residual Plot (Homoscedasticity Check)\")\n",
    "plt.show()\n"
   ]
  },
  {
   "cell_type": "markdown",
   "id": "6052338b-9c86-4a39-b33e-1739181568b5",
   "metadata": {},
   "source": [
    "Since the residuals are relatively small and do not show a clear pattern of increasing or decreasing variance across the predicted values, this suggests that the assumption of homoscedasticity might be satisfied."
   ]
  },
  {
   "cell_type": "code",
   "execution_count": 25,
   "id": "b1b843c3-d574-4a98-95ad-bcc09c9d3786",
   "metadata": {},
   "outputs": [],
   "source": [
    "#normality of residual"
   ]
  },
  {
   "cell_type": "code",
   "execution_count": 26,
   "id": "69f68718-e5c8-4bd5-80ed-595a89acb899",
   "metadata": {},
   "outputs": [
    {
     "data": {
      "image/png": "[encoded data removed]",
      "text/plain": [
       "<Figure size 600x400 with 1 Axes>"
      ]
     },
     "metadata": {},
     "output_type": "display_data"
    },
    {
     "data": {
      "image/png": "[encoded data removed]",
      "text/plain": [
       "<Figure size 640x480 with 1 Axes>"
      ]
     },
     "metadata": {},
     "output_type": "display_data"
    }
   ],
   "source": [
    "import scipy.stats as stats\n",
    "\n",
    "# Histogram\n",
    "plt.figure(figsize=(6, 4))\n",
    "sns.histplot(residuals, kde=True, bins=30)\n",
    "plt.title(\"Histogram of Residuals\")\n",
    "plt.show()\n",
    "\n",
    "# QQ plot\n",
    "stats.probplot(residuals, dist=\"norm\", plot=plt)\n",
    "plt.title(\"QQ Plot (Normality of Residuals)\")\n",
    "plt.show()\n"
   ]
  },
  {
   "cell_type": "code",
   "execution_count": 27,
   "id": "01630276-78bd-4476-aa41-59ebc5a2c9d2",
   "metadata": {},
   "outputs": [
    {
     "name": "stderr",
     "output_type": "stream",
     "text": [
      "C:\\Users\\Aditi\\anaconda3\\Lib\\site-packages\\statsmodels\\stats\\outliers_influence.py:197: RuntimeWarning: divide by zero encountered in scalar divide\n",
      "  vif = 1. / (1. - r_squared_i)\n"
     ]
    },
    {
     "ename": "KeyboardInterrupt",
     "evalue": "",
     "output_type": "error",
     "traceback": [
      "\u001b[1;31m---------------------------------------------------------------------------\u001b[0m",
      "\u001b[1;31mKeyboardInterrupt\u001b[0m                         Traceback (most recent call last)",
      "Cell \u001b[1;32mIn[27], line 6\u001b[0m\n\u001b[0;32m      4\u001b[0m vif_data \u001b[38;5;241m=\u001b[39m pd\u001b[38;5;241m.\u001b[39mDataFrame()\n\u001b[0;32m      5\u001b[0m vif_data[\u001b[38;5;124m\"\u001b[39m\u001b[38;5;124mFeature\u001b[39m\u001b[38;5;124m\"\u001b[39m] \u001b[38;5;241m=\u001b[39m X_train\u001b[38;5;241m.\u001b[39mcolumns\n\u001b[1;32m----> 6\u001b[0m vif_data[\u001b[38;5;124m\"\u001b[39m\u001b[38;5;124mVIF\u001b[39m\u001b[38;5;124m\"\u001b[39m] \u001b[38;5;241m=\u001b[39m [variance_inflation_factor(X_train\u001b[38;5;241m.\u001b[39mvalues, i) \u001b[38;5;28;01mfor\u001b[39;00m i \u001b[38;5;129;01min\u001b[39;00m \u001b[38;5;28mrange\u001b[39m(X_train\u001b[38;5;241m.\u001b[39mshape[\u001b[38;5;241m1\u001b[39m])]\n\u001b[0;32m      8\u001b[0m \u001b[38;5;28mprint\u001b[39m(vif_data\u001b[38;5;241m.\u001b[39msort_values(by\u001b[38;5;241m=\u001b[39m\u001b[38;5;124m\"\u001b[39m\u001b[38;5;124mVIF\u001b[39m\u001b[38;5;124m\"\u001b[39m, ascending\u001b[38;5;241m=\u001b[39m\u001b[38;5;28;01mFalse\u001b[39;00m))\n",
      "File \u001b[1;32m~\\anaconda3\\Lib\\site-packages\\statsmodels\\stats\\outliers_influence.py:196\u001b[0m, in \u001b[0;36mvariance_inflation_factor\u001b[1;34m(exog, exog_idx)\u001b[0m\n\u001b[0;32m    194\u001b[0m mask \u001b[38;5;241m=\u001b[39m np\u001b[38;5;241m.\u001b[39marange(k_vars) \u001b[38;5;241m!=\u001b[39m exog_idx\n\u001b[0;32m    195\u001b[0m x_noti \u001b[38;5;241m=\u001b[39m exog[:, mask]\n\u001b[1;32m--> 196\u001b[0m r_squared_i \u001b[38;5;241m=\u001b[39m OLS(x_i, x_noti)\u001b[38;5;241m.\u001b[39mfit()\u001b[38;5;241m.\u001b[39mrsquared\n\u001b[0;32m    197\u001b[0m vif \u001b[38;5;241m=\u001b[39m \u001b[38;5;241m1.\u001b[39m \u001b[38;5;241m/\u001b[39m (\u001b[38;5;241m1.\u001b[39m \u001b[38;5;241m-\u001b[39m r_squared_i)\n\u001b[0;32m    198\u001b[0m \u001b[38;5;28;01mreturn\u001b[39;00m vif\n",
      "File \u001b[1;32m~\\anaconda3\\Lib\\site-packages\\statsmodels\\regression\\linear_model.py:336\u001b[0m, in \u001b[0;36mRegressionModel.fit\u001b[1;34m(self, method, cov_type, cov_kwds, use_t, **kwargs)\u001b[0m\n\u001b[0;32m    331\u001b[0m \u001b[38;5;28;01mif\u001b[39;00m method \u001b[38;5;241m==\u001b[39m \u001b[38;5;124m\"\u001b[39m\u001b[38;5;124mpinv\u001b[39m\u001b[38;5;124m\"\u001b[39m:\n\u001b[0;32m    332\u001b[0m     \u001b[38;5;28;01mif\u001b[39;00m \u001b[38;5;129;01mnot\u001b[39;00m (\u001b[38;5;28mhasattr\u001b[39m(\u001b[38;5;28mself\u001b[39m, \u001b[38;5;124m'\u001b[39m\u001b[38;5;124mpinv_wexog\u001b[39m\u001b[38;5;124m'\u001b[39m) \u001b[38;5;129;01mand\u001b[39;00m\n\u001b[0;32m    333\u001b[0m             \u001b[38;5;28mhasattr\u001b[39m(\u001b[38;5;28mself\u001b[39m, \u001b[38;5;124m'\u001b[39m\u001b[38;5;124mnormalized_cov_params\u001b[39m\u001b[38;5;124m'\u001b[39m) \u001b[38;5;129;01mand\u001b[39;00m\n\u001b[0;32m    334\u001b[0m             \u001b[38;5;28mhasattr\u001b[39m(\u001b[38;5;28mself\u001b[39m, \u001b[38;5;124m'\u001b[39m\u001b[38;5;124mrank\u001b[39m\u001b[38;5;124m'\u001b[39m)):\n\u001b[1;32m--> 336\u001b[0m         \u001b[38;5;28mself\u001b[39m\u001b[38;5;241m.\u001b[39mpinv_wexog, singular_values \u001b[38;5;241m=\u001b[39m pinv_extended(\u001b[38;5;28mself\u001b[39m\u001b[38;5;241m.\u001b[39mwexog)\n\u001b[0;32m    337\u001b[0m         \u001b[38;5;28mself\u001b[39m\u001b[38;5;241m.\u001b[39mnormalized_cov_params \u001b[38;5;241m=\u001b[39m np\u001b[38;5;241m.\u001b[39mdot(\n\u001b[0;32m    338\u001b[0m             \u001b[38;5;28mself\u001b[39m\u001b[38;5;241m.\u001b[39mpinv_wexog, np\u001b[38;5;241m.\u001b[39mtranspose(\u001b[38;5;28mself\u001b[39m\u001b[38;5;241m.\u001b[39mpinv_wexog))\n\u001b[0;32m    340\u001b[0m         \u001b[38;5;66;03m# Cache these singular values for use later.\u001b[39;00m\n",
      "File \u001b[1;32m~\\anaconda3\\Lib\\site-packages\\statsmodels\\tools\\tools.py:274\u001b[0m, in \u001b[0;36mpinv_extended\u001b[1;34m(x, rcond)\u001b[0m\n\u001b[0;32m    272\u001b[0m     \u001b[38;5;28;01melse\u001b[39;00m:\n\u001b[0;32m    273\u001b[0m         s[i] \u001b[38;5;241m=\u001b[39m \u001b[38;5;241m0.\u001b[39m\n\u001b[1;32m--> 274\u001b[0m res \u001b[38;5;241m=\u001b[39m np\u001b[38;5;241m.\u001b[39mdot(np\u001b[38;5;241m.\u001b[39mtranspose(vt), np\u001b[38;5;241m.\u001b[39mmultiply(s[:, np\u001b[38;5;241m.\u001b[39mnewaxis],\n\u001b[0;32m    275\u001b[0m                                            np\u001b[38;5;241m.\u001b[39mtranspose(u)))\n\u001b[0;32m    276\u001b[0m \u001b[38;5;28;01mreturn\u001b[39;00m res, s_orig\n",
      "\u001b[1;31mKeyboardInterrupt\u001b[0m: "
     ]
    }
   ],
   "source": [
    "from statsmodels.stats.outliers_influence import variance_inflation_factor\n",
    "import pandas as pd\n",
    "\n",
    "vif_data = pd.DataFrame()\n",
    "vif_data[\"Feature\"] = X_train.columns\n",
    "vif_data[\"VIF\"] = [variance_inflation_factor(X_train.values, i) for i in range(X_train.shape[1])]\n",
    "\n",
    "print(vif_data.sort_values(by=\"VIF\", ascending=False))\n"
   ]
  },
  {
   "cell_type": "code",
   "execution_count": null,
   "id": "0ce9b8b4-6a0a-4989-9b24-1c960bc99f0b",
   "metadata": {},
   "outputs": [],
   "source": [
    "#usning feature selection:\n"
   ]
  },
  {
   "cell_type": "code",
   "execution_count": 28,
   "id": "9a31c1dc-061b-4081-9c6c-f36c29c74712",
   "metadata": {},
   "outputs": [
    {
     "name": "stdout",
     "output_type": "stream",
     "text": [
      "X_train_selected shape: (209396, 113)\n",
      "X_test_selected shape: (52350, 113)\n"
     ]
    }
   ],
   "source": [
    "# List of selected columns\n",
    "selected_columns = [\n",
    "    'HH Size (For FDQ)', 'Male_Count', 'Age_0_18', 'Age_60_above',\n",
    "    'Highest educational level attained_head', 'Total year of education completed_head',\n",
    "    'Highest educational level attained_median', 'Total year of education completed_median',\n",
    "    'No. of days stayed away from home during last 30 days_avg',\n",
    "    'No. of meals taken during last 30 days from school, balwadi etc._avg',\n",
    "    'No. of meals taken during last 30 days from employer as perquisites or part of wage_avg',\n",
    "    'No. of meals taken during last 30 days others_avg',\n",
    "    'No. of meals taken during last 30 days on payment_avg',\n",
    "    'No. of meals taken during last 30 days at home_avg', 'Sector_1', 'Sector_2', 'State_6',\n",
    "    'State_9', 'State_11', 'State_12', 'State_13', 'State_14', 'State_15', 'State_16',\n",
    "    'State_17', 'State_18', 'State_19', 'State_20', 'State_21', 'State_22', 'State_23',\n",
    "    'State_27', 'State_29', 'NSS-Region_82', 'NSS-Region_93', 'NSS-Region_101',\n",
    "    'NSS-Region_111', 'NSS-Region_121', 'NSS-Region_131', 'NSS-Region_151',\n",
    "    'NSS-Region_161', 'NSS-Region_171', 'NSS-Region_192', 'NSS-Region_222',\n",
    "    'NSS-Region_233', 'NSS-Region_235', 'NSS-Region_241', 'NSS-Region_271',\n",
    "    'NSS-Region_272', 'NSS-Region_273', 'NSS-Region_275', 'NSS-Region_293',\n",
    "    'NSS-Region_321', 'NSS-Region_334', 'District_1', 'District_2', 'District_11',\n",
    "    'District_18', 'District_22', 'District_23', 'District_27', 'District_33',\n",
    "    'District_34', 'Household Type_1', 'Household Type_2', 'Household Type_4',\n",
    "    'Household Type_9', 'NCO_2D_92', 'NCO_2D_93', 'NIC_2D_11', 'NIC_2D_47',\n",
    "    'NIC_2D_84', 'Religion of the head of the household_1',\n",
    "    'Religion of the head of the household_3', 'Social Group of the head of the household_1',\n",
    "    'Social Group of the head of the household_2', 'Social Group of the head of the household_9',\n",
    "    'Is_online_Clothing_Purchased_Last365_0', 'Is_online_Clothing_Purchased_Last365_1',\n",
    "    'Is_online_Footwear_Purchased_Last365_0', 'Is_online_Footwear_Purchased_Last365_1',\n",
    "    'Is_online_Mobile_Handset_Purchased_Last365_0', 'Is_online_Mobile_Handset_Purchased_Last365_1',\n",
    "    'Is_online_Personal_Goods_Purchased_Last365_0', 'Is_online_Personal_Goods_Purchased_Last365_1',\n",
    "    'Is_online_Household_Appliances_Purchased_Last365_0', 'Is_online_Household_Appliances_Purchased_Last365_1',\n",
    "    'Is_online_Crockery_Utensils_Purchased_Last365_0', 'Is_online_Crockery_Utensils_Purchased_Last365_1',\n",
    "    'Is_online_Bedding_Purchased_Last365_0', 'Is_online_Bedding_Purchased_Last365_1',\n",
    "    'Is_HH_Have_Television_0', 'Is_HH_Have_Television_1', 'Is_HH_Have_Radio_0',\n",
    "    'Is_HH_Have_Radio_1', 'Is_HH_Have_Laptop_PC_0', 'Is_HH_Have_Laptop_PC_1',\n",
    "    'Is_HH_Have_Mobile_handset_0', 'Is_HH_Have_Mobile_handset_1', 'Is_HH_Have_Bicycle_0',\n",
    "    'Is_HH_Have_Bicycle_1', 'Is_HH_Have_Motorcycle_scooter_0', 'Is_HH_Have_Motorcycle_scooter_1',\n",
    "    'Is_HH_Have_Motorcar_jeep_van_0', 'Is_HH_Have_Motorcar_jeep_van_1', 'Is_HH_Have_Refrigerator_0',\n",
    "    'Is_HH_Have_Refrigerator_1', 'Is_HH_Have_Washing_machine_0', 'Is_HH_Have_Washing_machine_1',\n",
    "    'Is_HH_Have_Airconditioner_aircooler_0', 'Marital Status_head_2',\n",
    "    'Whether used internet from any location during last 30 days_1',\n",
    "    'Whether used internet from any location during last 30 days_2'\n",
    "]\n",
    "\n",
    "# Create a new variable with selected columns\n",
    "X_train_selected = X_train[selected_columns]\n",
    "X_test_selected = X_test[selected_columns]\n",
    "\n",
    "# Print shape of new datasets\n",
    "print(\"X_train_selected shape:\", X_train_selected.shape)\n",
    "print(\"X_test_selected shape:\", X_test_selected.shape)\n"
   ]
  },
  {
   "cell_type": "code",
   "execution_count": 29,
   "id": "293cc0d7-9cbf-47bb-9ad7-bb0fe81db110",
   "metadata": {},
   "outputs": [],
   "source": [
    "# Define X (features) and y (target)\n",
    "X_train = X_train[selected_columns]  # Use all features except TotalExpense\n",
    "y_train = log_train # Log-transformed target\n",
    "\n",
    "X_test = X_test[selected_columns]  # Use all features except TotalExpense\n",
    "y_test = log_test  # Log-transformed target"
   ]
  },
  {
   "cell_type": "code",
   "execution_count": 30,
   "id": "5d165eb3-e6cd-46e1-9253-3ebb3a5735fb",
   "metadata": {},
   "outputs": [
    {
     "name": "stdout",
     "output_type": "stream",
     "text": [
      "XGBoost on Log-Transformed Target → RMSE: 9250.9497, R² Score: 0.5403\n"
     ]
    },
    {
     "name": "stderr",
     "output_type": "stream",
     "text": [
      "C:\\Users\\Aditi\\anaconda3\\Lib\\site-packages\\sklearn\\metrics\\_regression.py:483: FutureWarning: 'squared' is deprecated in version 1.4 and will be removed in 1.6. To calculate the root mean squared error, use the function'root_mean_squared_error'.\n",
      "  warnings.warn(\n"
     ]
    }
   ],
   "source": [
    "# Initialize XGBoost model\n",
    "xgb_model = xgb.XGBRegressor(n_estimators=100, learning_rate=0.1, max_depth=6, random_state=42)\n",
    "\n",
    "# Train the model\n",
    "xgb_model.fit(X_train, y_train)\n",
    "\n",
    "# Predict on test set\n",
    "y_pred_log = xgb_model.predict(X_test)\n",
    "\n",
    "# Convert log-transformed predictions back to original scale\n",
    "y_pred_original = np.expm1(y_pred_log)\n",
    "y_test_original = np.expm1(y_test)\n",
    "\n",
    "# Evaluate model performance\n",
    "rmse = mean_squared_error(y_test_original, y_pred_original, squared=False)\n",
    "r2 = r2_score(y_test_original, y_pred_original)\n",
    "\n",
    "print(f\"XGBoost on Log-Transformed Target → RMSE: {rmse:.4f}, R² Score: {r2:.4f}\")"
   ]
  },
  {
   "cell_type": "code",
   "execution_count": 31,
   "id": "49941518-ccab-4358-b135-551b1219fa6e",
   "metadata": {},
   "outputs": [],
   "source": [
    "#Convert categorical columns to category dtype\n",
    "categorical_cols = X_train.select_dtypes(include=['object']).columns\n",
    "X_train[categorical_cols] = X_train[categorical_cols].astype(\"category\")\n",
    "X_test[categorical_cols] = X_test[categorical_cols].astype(\"category\")\n"
   ]
  },
  {
   "cell_type": "code",
   "execution_count": 32,
   "id": "143bb019-5bc3-4389-8b14-c0cc2a65cd59",
   "metadata": {},
   "outputs": [],
   "source": [
    "# Identify object (string) columns\n",
    "categorical_cols = X_train.select_dtypes(include=['object']).columns.tolist()\n",
    "\n",
    "# Convert categorical columns to category dtype\n",
    "for col in categorical_cols:\n",
    "    X_train[col] = X_train[col].astype(\"category\")\n",
    "    X_test[col] = X_test[col].astype(\"category\")\n"
   ]
  },
  {
   "cell_type": "code",
   "execution_count": 38,
   "id": "42f05682-c38a-4705-a5ac-a748f94e6543",
   "metadata": {},
   "outputs": [
    {
     "ename": "KeyError",
     "evalue": "\"['HH Size (For FDQ)', 'Highest educational level attained_head', 'Total year of education completed_head', 'Highest educational level attained_median', 'Total year of education completed_median', 'No. of days stayed away from home during last 30 days_avg', 'No. of meals taken during last 30 days from school, balwadi etc._avg', 'No. of meals taken during last 30 days from employer as perquisites or part of wage_avg', 'No. of meals taken during last 30 days others_avg', 'No. of meals taken during last 30 days on payment_avg', 'No. of meals taken during last 30 days at home_avg', 'NSS-Region_82', 'NSS-Region_93', 'NSS-Region_101', 'NSS-Region_111', 'NSS-Region_121', 'NSS-Region_131', 'NSS-Region_151', 'NSS-Region_161', 'NSS-Region_171', 'NSS-Region_192', 'NSS-Region_222', 'NSS-Region_233', 'NSS-Region_235', 'NSS-Region_241', 'NSS-Region_271', 'NSS-Region_272', 'NSS-Region_273', 'NSS-Region_275', 'NSS-Region_293', 'NSS-Region_321', 'NSS-Region_334', 'Household Type_1', 'Household Type_2', 'Household Type_4', 'Household Type_9', 'Religion of the head of the household_1', 'Religion of the head of the household_3', 'Social Group of the head of the household_1', 'Social Group of the head of the household_2', 'Social Group of the head of the household_9', 'Marital Status_head_2', 'Whether used internet from any location during last 30 days_1', 'Whether used internet from any location during last 30 days_2'] not in index\"",
     "output_type": "error",
     "traceback": [
      "\u001b[1;31m---------------------------------------------------------------------------\u001b[0m",
      "\u001b[1;31mKeyError\u001b[0m                                  Traceback (most recent call last)",
      "Cell \u001b[1;32mIn[38], line 7\u001b[0m\n\u001b[0;32m      1\u001b[0m \u001b[38;5;66;03m# Define features (X) and target variable (y)\u001b[39;00m\n\u001b[0;32m      2\u001b[0m \u001b[38;5;66;03m# target_column = \"TotalExpense\"  # Replace with actual target column name\u001b[39;00m\n\u001b[0;32m      3\u001b[0m \u001b[38;5;66;03m# X = d_train.drop(columns=[target_column])\u001b[39;00m\n\u001b[0;32m      4\u001b[0m \u001b[38;5;66;03m# y =log_test\u001b[39;00m\n\u001b[0;32m      5\u001b[0m \n\u001b[0;32m      6\u001b[0m \u001b[38;5;66;03m# Define X (features) and y (target)\u001b[39;00m\n\u001b[1;32m----> 7\u001b[0m X_train \u001b[38;5;241m=\u001b[39m X_train[selected_columns]  \u001b[38;5;66;03m# Use all features except TotalExpense\u001b[39;00m\n\u001b[0;32m      8\u001b[0m y_train \u001b[38;5;241m=\u001b[39m log_train \u001b[38;5;66;03m# Log-transformed target\u001b[39;00m\n\u001b[0;32m     10\u001b[0m X_test \u001b[38;5;241m=\u001b[39m X_test[selected_columns]  \u001b[38;5;66;03m# Use all features except TotalExpense\u001b[39;00m\n",
      "File \u001b[1;32m~\\anaconda3\\Lib\\site-packages\\pandas\\core\\frame.py:4108\u001b[0m, in \u001b[0;36mDataFrame.__getitem__\u001b[1;34m(self, key)\u001b[0m\n\u001b[0;32m   4106\u001b[0m     \u001b[38;5;28;01mif\u001b[39;00m is_iterator(key):\n\u001b[0;32m   4107\u001b[0m         key \u001b[38;5;241m=\u001b[39m \u001b[38;5;28mlist\u001b[39m(key)\n\u001b[1;32m-> 4108\u001b[0m     indexer \u001b[38;5;241m=\u001b[39m \u001b[38;5;28mself\u001b[39m\u001b[38;5;241m.\u001b[39mcolumns\u001b[38;5;241m.\u001b[39m_get_indexer_strict(key, \u001b[38;5;124m\"\u001b[39m\u001b[38;5;124mcolumns\u001b[39m\u001b[38;5;124m\"\u001b[39m)[\u001b[38;5;241m1\u001b[39m]\n\u001b[0;32m   4110\u001b[0m \u001b[38;5;66;03m# take() does not accept boolean indexers\u001b[39;00m\n\u001b[0;32m   4111\u001b[0m \u001b[38;5;28;01mif\u001b[39;00m \u001b[38;5;28mgetattr\u001b[39m(indexer, \u001b[38;5;124m\"\u001b[39m\u001b[38;5;124mdtype\u001b[39m\u001b[38;5;124m\"\u001b[39m, \u001b[38;5;28;01mNone\u001b[39;00m) \u001b[38;5;241m==\u001b[39m \u001b[38;5;28mbool\u001b[39m:\n",
      "File \u001b[1;32m~\\anaconda3\\Lib\\site-packages\\pandas\\core\\indexes\\base.py:6200\u001b[0m, in \u001b[0;36mIndex._get_indexer_strict\u001b[1;34m(self, key, axis_name)\u001b[0m\n\u001b[0;32m   6197\u001b[0m \u001b[38;5;28;01melse\u001b[39;00m:\n\u001b[0;32m   6198\u001b[0m     keyarr, indexer, new_indexer \u001b[38;5;241m=\u001b[39m \u001b[38;5;28mself\u001b[39m\u001b[38;5;241m.\u001b[39m_reindex_non_unique(keyarr)\n\u001b[1;32m-> 6200\u001b[0m \u001b[38;5;28mself\u001b[39m\u001b[38;5;241m.\u001b[39m_raise_if_missing(keyarr, indexer, axis_name)\n\u001b[0;32m   6202\u001b[0m keyarr \u001b[38;5;241m=\u001b[39m \u001b[38;5;28mself\u001b[39m\u001b[38;5;241m.\u001b[39mtake(indexer)\n\u001b[0;32m   6203\u001b[0m \u001b[38;5;28;01mif\u001b[39;00m \u001b[38;5;28misinstance\u001b[39m(key, Index):\n\u001b[0;32m   6204\u001b[0m     \u001b[38;5;66;03m# GH 42790 - Preserve name from an Index\u001b[39;00m\n",
      "File \u001b[1;32m~\\anaconda3\\Lib\\site-packages\\pandas\\core\\indexes\\base.py:6252\u001b[0m, in \u001b[0;36mIndex._raise_if_missing\u001b[1;34m(self, key, indexer, axis_name)\u001b[0m\n\u001b[0;32m   6249\u001b[0m     \u001b[38;5;28;01mraise\u001b[39;00m \u001b[38;5;167;01mKeyError\u001b[39;00m(\u001b[38;5;124mf\u001b[39m\u001b[38;5;124m\"\u001b[39m\u001b[38;5;124mNone of [\u001b[39m\u001b[38;5;132;01m{\u001b[39;00mkey\u001b[38;5;132;01m}\u001b[39;00m\u001b[38;5;124m] are in the [\u001b[39m\u001b[38;5;132;01m{\u001b[39;00maxis_name\u001b[38;5;132;01m}\u001b[39;00m\u001b[38;5;124m]\u001b[39m\u001b[38;5;124m\"\u001b[39m)\n\u001b[0;32m   6251\u001b[0m not_found \u001b[38;5;241m=\u001b[39m \u001b[38;5;28mlist\u001b[39m(ensure_index(key)[missing_mask\u001b[38;5;241m.\u001b[39mnonzero()[\u001b[38;5;241m0\u001b[39m]]\u001b[38;5;241m.\u001b[39munique())\n\u001b[1;32m-> 6252\u001b[0m \u001b[38;5;28;01mraise\u001b[39;00m \u001b[38;5;167;01mKeyError\u001b[39;00m(\u001b[38;5;124mf\u001b[39m\u001b[38;5;124m\"\u001b[39m\u001b[38;5;132;01m{\u001b[39;00mnot_found\u001b[38;5;132;01m}\u001b[39;00m\u001b[38;5;124m not in index\u001b[39m\u001b[38;5;124m\"\u001b[39m)\n",
      "\u001b[1;31mKeyError\u001b[0m: \"['HH Size (For FDQ)', 'Highest educational level attained_head', 'Total year of education completed_head', 'Highest educational level attained_median', 'Total year of education completed_median', 'No. of days stayed away from home during last 30 days_avg', 'No. of meals taken during last 30 days from school, balwadi etc._avg', 'No. of meals taken during last 30 days from employer as perquisites or part of wage_avg', 'No. of meals taken during last 30 days others_avg', 'No. of meals taken during last 30 days on payment_avg', 'No. of meals taken during last 30 days at home_avg', 'NSS-Region_82', 'NSS-Region_93', 'NSS-Region_101', 'NSS-Region_111', 'NSS-Region_121', 'NSS-Region_131', 'NSS-Region_151', 'NSS-Region_161', 'NSS-Region_171', 'NSS-Region_192', 'NSS-Region_222', 'NSS-Region_233', 'NSS-Region_235', 'NSS-Region_241', 'NSS-Region_271', 'NSS-Region_272', 'NSS-Region_273', 'NSS-Region_275', 'NSS-Region_293', 'NSS-Region_321', 'NSS-Region_334', 'Household Type_1', 'Household Type_2', 'Household Type_4', 'Household Type_9', 'Religion of the head of the household_1', 'Religion of the head of the household_3', 'Social Group of the head of the household_1', 'Social Group of the head of the household_2', 'Social Group of the head of the household_9', 'Marital Status_head_2', 'Whether used internet from any location during last 30 days_1', 'Whether used internet from any location during last 30 days_2'] not in index\""
     ]
    }
   ],
   "source": [
    "# Define features (X) and target variable (y)\n",
    "# target_column = \"TotalExpense\"  # Replace with actual target column name\n",
    "# X = d_train.drop(columns=[target_column])\n",
    "# y =log_test\n",
    "\n",
    "# Define X (features) and y (target)\n",
    "X_train = X_train[selected_columns]  # Use all features except TotalExpense\n",
    "y_train = log_train # Log-transformed target\n",
    "\n",
    "X_test = X_test[selected_columns]  # Use all features except TotalExpense\n",
    "y_test = log_test  # Log-transformed target\n",
    "\n",
    "# Initialize models\n",
    "models = {\n",
    "    \"XGBoost\": xgb.XGBRegressor(n_estimators=100, learning_rate=0.1, max_depth=6, random_state=42),\n",
    "    \"LightGBM\": lgb.LGBMRegressor(n_estimators=100, learning_rate=0.1, max_depth=6, random_state=42),\n",
    "    \"CatBoost\": cb.CatBoostRegressor(n_estimators=100, learning_rate=0.1, depth=6, verbose=0, random_state=42),\n",
    "    \"RandomForest\": RandomForestRegressor(n_estimators=100, max_depth=6, random_state=42),\n",
    "}\n",
    "\n",
    "# Train and evaluate models\n",
    "results = {}\n",
    "for name, model in models.items():\n",
    "    model.fit(X_train, y_train)\n",
    "    y_pred = model.predict(X_test)\n",
    "    rmse = mean_squared_error(y_test, y_pred, squared=False)\n",
    "    r2 = r2_score(y_test, y_pred)\n",
    "    results[name] = {\"RMSE\": rmse, \"R² Score\": r2}\n",
    "    print(f\"{name} → RMSE: {rmse:.4f}, R² Score: {r2:.4f}\")\n",
    "\n",
    "# Stacking Model (Combining all models)\n",
    "stacking = StackingRegressor(\n",
    "    estimators=[(name, models[name]) for name in models],\n",
    "    final_estimator=Ridge(alpha=1.0)\n",
    ")\n",
    "stacking.fit(X_train, y_train)\n",
    "y_pred_stacking = stacking.predict(X_test)\n",
    "rmse_stacking = mean_squared_error(y_test, y_pred_stacking, squared=False)\n",
    "r2_stacking = r2_score(y_test, y_pred_stacking)\n",
    "\n",
    "print(f\"Stacking Model → RMSE: {rmse_stacking:.4f}, R² Score: {r2_stacking:.4f}\")"
   ]
  },
  {
   "cell_type": "code",
   "execution_count": 35,
   "id": "4cb7eb19-7fb5-4fe6-bf64-9155bab29a95",
   "metadata": {},
   "outputs": [],
   "source": [
    "# Fix column names for LightGBM (replace special characters with \"_\")\n",
    "X_train.columns = X_train.columns.str.replace('[^a-zA-Z0-9]', '_', regex=True)\n",
    "X_test.columns = X_test.columns.str.replace('[^a-zA-Z0-9]', '_', regex=True)\n"
   ]
  },
  {
   "cell_type": "code",
   "execution_count": 37,
   "id": "1fc72b5e-dd1b-463f-9172-68dd05c13a2e",
   "metadata": {},
   "outputs": [],
   "source": [
    "# Clean column names by replacing special characters\n",
    "d_train.columns = d_train.columns.str.replace('[^a-zA-Z0-9]', '_', regex=True)\n",
    "# Clean column names by replacing special characters\n",
    "d_test.columns = d_test.columns.str.replace('[^a-zA-Z0-9]', '_', regex=True)\n"
   ]
  },
  {
   "cell_type": "code",
   "execution_count": null,
   "id": "837ee579-985b-45c5-b0e8-c08616c8b4af",
   "metadata": {},
   "outputs": [],
   "source": []
  }
 ],
 "metadata": {
  "kernelspec": {
   "display_name": "Python 3 (ipykernel)",
   "language": "python",
   "name": "python3"
  },
  "language_info": {
   "codemirror_mode": {
    "name": "ipython",
    "version": 3
   },
   "file_extension": ".py",
   "mimetype": "text/x-python",
   "name": "python",
   "nbconvert_exporter": "python",
   "pygments_lexer": "ipython3",
   "version": "3.12.4"
  }
 },
 "nbformat": 4,
 "nbformat_minor": 5
}
