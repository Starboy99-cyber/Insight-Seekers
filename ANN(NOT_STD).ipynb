{
 "cells": [
  {
   "cell_type": "code",
   "execution_count": 3,
   "metadata": {
    "colab": {
     "base_uri": "https://localhost:8080/"
    },
    "id": "sSz-PLmgucIi",
    "outputId": "367a9165-b560-4f32-feb1-f7f1547ed1b4"
   },
   "outputs": [
    {
     "name": "stdout",
     "output_type": "stream",
     "text": [
      "HH Size (For FDQ)         0\n",
      "Male_Count                0\n",
      "Female_Count              0\n",
      "Other_Count               0\n",
      "Age_0_18                  0\n",
      "                      ...  \n",
      "Unnamed: 408         209396\n",
      "Unnamed: 409         209396\n",
      "Unnamed: 410         209396\n",
      "Unnamed: 411         209396\n",
      "log_TotalExpense          0\n",
      "Length: 413, dtype: int64\n",
      "0\n"
     ]
    }
   ],
   "source": [
    "import pandas as pd\n",
    "import numpy as np\n",
    "import tensorflow as tf\n",
    "from tensorflow import keras\n",
    "from sklearn.metrics import r2_score, mean_squared_error, mean_absolute_percentage_error\n",
    "\n",
    "# Load train & test feature datasets\n",
    "train_features = pd.read_csv(\"/content/final_train1.csv\")\n",
    "test_features = pd.read_csv(\"/content/final_test1.csv\")\n",
    "\n",
    "# Load target variables\n",
    "train_target = pd.read_excel(\"/content/Target_train.xlsx\")\n",
    "test_target = pd.read_excel(\"/content/Target_test.xlsx\") # Fixed path from // to /\n",
    "\n",
    "# Merge target with feature datasets\n",
    "final_train = train_features.copy()\n",
    "final_train[\"log_TotalExpense\"] = train_target[\"log_TotalExpense\"]\n",
    "\n",
    "final_test = test_features.copy()\n",
    "final_test[\"log_totalexpense\"] = test_target[\"log_totalexpense\"]\n",
    "\n",
    "# Separate Features (X) and Target Variable (y)\n",
    "X_train = final_train\n",
    "y_train = final_train[\"log_TotalExpense\"]\n",
    "\n",
    "X_test = final_test\n",
    "y_test = final_test[\"log_totalexpense\"]\n",
    "\n",
    "print(X_train.isnull().sum())  # Shows missing values per column\n",
    "print(y_train.isnull().sum())  # Shows missing values in the target variable\n"
   ]
  },
  {
   "cell_type": "code",
   "execution_count": 4,
   "metadata": {
    "colab": {
     "base_uri": "https://localhost:8080/"
    },
    "id": "Zs3DLXGDL9Ku",
    "outputId": "611dfed3-4cd2-4f59-c263-740737af0ea9"
   },
   "outputs": [
    {
     "data": {
      "text/plain": [
       "Index(['HH Size (For FDQ)', 'Male_Count', 'Female_Count', 'Other_Count',\n",
       "       'Age_0_18', 'Age_18_60', 'Age_60_above',\n",
       "       'Highest educational level attained_head',\n",
       "       'Total year of education completed_head',\n",
       "       'Highest educational level attained_median',\n",
       "       ...\n",
       "       'Marital Status_head_3', 'Marital Status_head_4',\n",
       "       'Whether used internet from any location during last 30 days_1',\n",
       "       'Whether used internet from any location during last 30 days_2',\n",
       "       'Unnamed: 407', 'Unnamed: 408', 'Unnamed: 409', 'Unnamed: 410',\n",
       "       'Unnamed: 411', 'log_TotalExpense'],\n",
       "      dtype='object', length=413)"
      ]
     },
     "execution_count": 4,
     "metadata": {},
     "output_type": "execute_result"
    }
   ],
   "source": [
    "X_train.columns"
   ]
  },
  {
   "cell_type": "code",
   "execution_count": 5,
   "metadata": {
    "id": "bkcUnl7OP2WN"
   },
   "outputs": [],
   "source": [
    "# List of columns to drop\n",
    "columns_to_drop = ['Unnamed: 407', 'Unnamed: 408', 'Unnamed: 409', 'Unnamed: 410', 'Unnamed: 411', 'log_TotalExpense']\n",
    "\n",
    "# Drop from both train and test sets (if they exist)\n",
    "X_train.drop(columns=[col for col in columns_to_drop if col in X_train.columns], inplace=True)\n",
    "X_test.drop(columns=[col for col in columns_to_drop if col in X_test.columns], inplace=True)"
   ]
  },
  {
   "cell_type": "code",
   "execution_count": 10,
   "metadata": {
    "colab": {
     "base_uri": "https://localhost:8080/"
    },
    "id": "T-7BLGGNP2bd",
    "outputId": "a5eebe2a-0672-44dd-c26c-de08f8025eab"
   },
   "outputs": [
    {
     "name": "stderr",
     "output_type": "stream",
     "text": [
      "/usr/local/lib/python3.11/dist-packages/keras/src/layers/core/dense.py:87: UserWarning: Do not pass an `input_shape`/`input_dim` argument to a layer. When using Sequential models, prefer using an `Input(shape)` object as the first layer in the model instead.\n",
      "  super().__init__(activity_regularizer=activity_regularizer, **kwargs)\n"
     ]
    },
    {
     "name": "stdout",
     "output_type": "stream",
     "text": [
      "Epoch 1/50\n",
      "\u001b[1m6544/6544\u001b[0m \u001b[32m━━━━━━━━━━━━━━━━━━━━\u001b[0m\u001b[37m\u001b[0m \u001b[1m30s\u001b[0m 4ms/step - loss: 1.0380 - val_loss: 0.1283\n",
      "Epoch 2/50\n",
      "\u001b[1m6544/6544\u001b[0m \u001b[32m━━━━━━━━━━━━━━━━━━━━\u001b[0m\u001b[37m\u001b[0m \u001b[1m26s\u001b[0m 4ms/step - loss: 0.1211 - val_loss: 0.1138\n",
      "Epoch 3/50\n",
      "\u001b[1m6544/6544\u001b[0m \u001b[32m━━━━━━━━━━━━━━━━━━━━\u001b[0m\u001b[37m\u001b[0m \u001b[1m39s\u001b[0m 4ms/step - loss: 0.1129 - val_loss: 0.1130\n",
      "Epoch 4/50\n",
      "\u001b[1m6544/6544\u001b[0m \u001b[32m━━━━━━━━━━━━━━━━━━━━\u001b[0m\u001b[37m\u001b[0m \u001b[1m25s\u001b[0m 4ms/step - loss: 0.1103 - val_loss: 0.1293\n",
      "Epoch 5/50\n",
      "\u001b[1m6544/6544\u001b[0m \u001b[32m━━━━━━━━━━━━━━━━━━━━\u001b[0m\u001b[37m\u001b[0m \u001b[1m25s\u001b[0m 4ms/step - loss: 0.1067 - val_loss: 0.1103\n",
      "Epoch 6/50\n",
      "\u001b[1m6544/6544\u001b[0m \u001b[32m━━━━━━━━━━━━━━━━━━━━\u001b[0m\u001b[37m\u001b[0m \u001b[1m40s\u001b[0m 4ms/step - loss: 0.1035 - val_loss: 0.1125\n",
      "Epoch 7/50\n",
      "\u001b[1m6544/6544\u001b[0m \u001b[32m━━━━━━━━━━━━━━━━━━━━\u001b[0m\u001b[37m\u001b[0m \u001b[1m24s\u001b[0m 4ms/step - loss: 0.1015 - val_loss: 0.1040\n",
      "Epoch 8/50\n",
      "\u001b[1m6544/6544\u001b[0m \u001b[32m━━━━━━━━━━━━━━━━━━━━\u001b[0m\u001b[37m\u001b[0m \u001b[1m41s\u001b[0m 4ms/step - loss: 0.1017 - val_loss: 0.1008\n",
      "Epoch 9/50\n",
      "\u001b[1m6544/6544\u001b[0m \u001b[32m━━━━━━━━━━━━━━━━━━━━\u001b[0m\u001b[37m\u001b[0m \u001b[1m41s\u001b[0m 4ms/step - loss: 0.1013 - val_loss: 0.0977\n",
      "Epoch 10/50\n",
      "\u001b[1m6544/6544\u001b[0m \u001b[32m━━━━━━━━━━━━━━━━━━━━\u001b[0m\u001b[37m\u001b[0m \u001b[1m40s\u001b[0m 4ms/step - loss: 0.0984 - val_loss: 0.1046\n",
      "Epoch 11/50\n",
      "\u001b[1m6544/6544\u001b[0m \u001b[32m━━━━━━━━━━━━━━━━━━━━\u001b[0m\u001b[37m\u001b[0m \u001b[1m43s\u001b[0m 4ms/step - loss: 0.0978 - val_loss: 0.1280\n",
      "Epoch 12/50\n",
      "\u001b[1m6544/6544\u001b[0m \u001b[32m━━━━━━━━━━━━━━━━━━━━\u001b[0m\u001b[37m\u001b[0m \u001b[1m23s\u001b[0m 4ms/step - loss: 0.0974 - val_loss: 0.1020\n",
      "Epoch 13/50\n",
      "\u001b[1m6544/6544\u001b[0m \u001b[32m━━━━━━━━━━━━━━━━━━━━\u001b[0m\u001b[37m\u001b[0m \u001b[1m42s\u001b[0m 4ms/step - loss: 0.0965 - val_loss: 0.0969\n",
      "Epoch 14/50\n",
      "\u001b[1m6544/6544\u001b[0m \u001b[32m━━━━━━━━━━━━━━━━━━━━\u001b[0m\u001b[37m\u001b[0m \u001b[1m41s\u001b[0m 4ms/step - loss: 0.0962 - val_loss: 0.0980\n",
      "Epoch 15/50\n",
      "\u001b[1m6544/6544\u001b[0m \u001b[32m━━━━━━━━━━━━━━━━━━━━\u001b[0m\u001b[37m\u001b[0m \u001b[1m41s\u001b[0m 4ms/step - loss: 0.0954 - val_loss: 0.1026\n",
      "Epoch 16/50\n",
      "\u001b[1m6544/6544\u001b[0m \u001b[32m━━━━━━━━━━━━━━━━━━━━\u001b[0m\u001b[37m\u001b[0m \u001b[1m43s\u001b[0m 4ms/step - loss: 0.0953 - val_loss: 0.0990\n",
      "Epoch 17/50\n",
      "\u001b[1m6544/6544\u001b[0m \u001b[32m━━━━━━━━━━━━━━━━━━━━\u001b[0m\u001b[37m\u001b[0m \u001b[1m25s\u001b[0m 4ms/step - loss: 0.0943 - val_loss: 0.1026\n",
      "Epoch 18/50\n",
      "\u001b[1m6544/6544\u001b[0m \u001b[32m━━━━━━━━━━━━━━━━━━━━\u001b[0m\u001b[37m\u001b[0m \u001b[1m27s\u001b[0m 4ms/step - loss: 0.0942 - val_loss: 0.1017\n",
      "Epoch 19/50\n",
      "\u001b[1m6544/6544\u001b[0m \u001b[32m━━━━━━━━━━━━━━━━━━━━\u001b[0m\u001b[37m\u001b[0m \u001b[1m25s\u001b[0m 4ms/step - loss: 0.0942 - val_loss: 0.1062\n",
      "Epoch 20/50\n",
      "\u001b[1m6544/6544\u001b[0m \u001b[32m━━━━━━━━━━━━━━━━━━━━\u001b[0m\u001b[37m\u001b[0m \u001b[1m25s\u001b[0m 4ms/step - loss: 0.0934 - val_loss: 0.0968\n",
      "Epoch 21/50\n",
      "\u001b[1m6544/6544\u001b[0m \u001b[32m━━━━━━━━━━━━━━━━━━━━\u001b[0m\u001b[37m\u001b[0m \u001b[1m22s\u001b[0m 3ms/step - loss: 0.0932 - val_loss: 0.1002\n",
      "Epoch 22/50\n",
      "\u001b[1m6544/6544\u001b[0m \u001b[32m━━━━━━━━━━━━━━━━━━━━\u001b[0m\u001b[37m\u001b[0m \u001b[1m24s\u001b[0m 4ms/step - loss: 0.0925 - val_loss: 0.0962\n",
      "Epoch 23/50\n",
      "\u001b[1m6544/6544\u001b[0m \u001b[32m━━━━━━━━━━━━━━━━━━━━\u001b[0m\u001b[37m\u001b[0m \u001b[1m24s\u001b[0m 4ms/step - loss: 0.0928 - val_loss: 0.0976\n",
      "Epoch 24/50\n",
      "\u001b[1m6544/6544\u001b[0m \u001b[32m━━━━━━━━━━━━━━━━━━━━\u001b[0m\u001b[37m\u001b[0m \u001b[1m24s\u001b[0m 4ms/step - loss: 0.0925 - val_loss: 0.1026\n",
      "Epoch 25/50\n",
      "\u001b[1m6544/6544\u001b[0m \u001b[32m━━━━━━━━━━━━━━━━━━━━\u001b[0m\u001b[37m\u001b[0m \u001b[1m25s\u001b[0m 4ms/step - loss: 0.0916 - val_loss: 0.1138\n",
      "Epoch 26/50\n",
      "\u001b[1m6544/6544\u001b[0m \u001b[32m━━━━━━━━━━━━━━━━━━━━\u001b[0m\u001b[37m\u001b[0m \u001b[1m22s\u001b[0m 3ms/step - loss: 0.0910 - val_loss: 0.0963\n",
      "Epoch 27/50\n",
      "\u001b[1m6544/6544\u001b[0m \u001b[32m━━━━━━━━━━━━━━━━━━━━\u001b[0m\u001b[37m\u001b[0m \u001b[1m43s\u001b[0m 4ms/step - loss: 0.0912 - val_loss: 0.0961\n",
      "Epoch 28/50\n",
      "\u001b[1m6544/6544\u001b[0m \u001b[32m━━━━━━━━━━━━━━━━━━━━\u001b[0m\u001b[37m\u001b[0m \u001b[1m25s\u001b[0m 4ms/step - loss: 0.0914 - val_loss: 0.0958\n",
      "Epoch 29/50\n",
      "\u001b[1m6544/6544\u001b[0m \u001b[32m━━━━━━━━━━━━━━━━━━━━\u001b[0m\u001b[37m\u001b[0m \u001b[1m25s\u001b[0m 4ms/step - loss: 0.0910 - val_loss: 0.0974\n",
      "Epoch 30/50\n",
      "\u001b[1m6544/6544\u001b[0m \u001b[32m━━━━━━━━━━━━━━━━━━━━\u001b[0m\u001b[37m\u001b[0m \u001b[1m39s\u001b[0m 4ms/step - loss: 0.0903 - val_loss: 0.0985\n",
      "Epoch 31/50\n",
      "\u001b[1m6544/6544\u001b[0m \u001b[32m━━━━━━━━━━━━━━━━━━━━\u001b[0m\u001b[37m\u001b[0m \u001b[1m25s\u001b[0m 4ms/step - loss: 0.0907 - val_loss: 0.1042\n",
      "Epoch 32/50\n",
      "\u001b[1m6544/6544\u001b[0m \u001b[32m━━━━━━━━━━━━━━━━━━━━\u001b[0m\u001b[37m\u001b[0m \u001b[1m25s\u001b[0m 4ms/step - loss: 0.0906 - val_loss: 0.1002\n",
      "Epoch 33/50\n",
      "\u001b[1m6544/6544\u001b[0m \u001b[32m━━━━━━━━━━━━━━━━━━━━\u001b[0m\u001b[37m\u001b[0m \u001b[1m22s\u001b[0m 3ms/step - loss: 0.0900 - val_loss: 0.0963\n",
      "Epoch 34/50\n",
      "\u001b[1m6544/6544\u001b[0m \u001b[32m━━━━━━━━━━━━━━━━━━━━\u001b[0m\u001b[37m\u001b[0m \u001b[1m24s\u001b[0m 4ms/step - loss: 0.0899 - val_loss: 0.0953\n",
      "Epoch 35/50\n",
      "\u001b[1m6544/6544\u001b[0m \u001b[32m━━━━━━━━━━━━━━━━━━━━\u001b[0m\u001b[37m\u001b[0m \u001b[1m24s\u001b[0m 4ms/step - loss: 0.0900 - val_loss: 0.0988\n",
      "Epoch 36/50\n",
      "\u001b[1m6544/6544\u001b[0m \u001b[32m━━━━━━━━━━━━━━━━━━━━\u001b[0m\u001b[37m\u001b[0m \u001b[1m24s\u001b[0m 4ms/step - loss: 0.0896 - val_loss: 0.0988\n",
      "Epoch 37/50\n",
      "\u001b[1m6544/6544\u001b[0m \u001b[32m━━━━━━━━━━━━━━━━━━━━\u001b[0m\u001b[37m\u001b[0m \u001b[1m25s\u001b[0m 4ms/step - loss: 0.0892 - val_loss: 0.0956\n",
      "Epoch 38/50\n",
      "\u001b[1m6544/6544\u001b[0m \u001b[32m━━━━━━━━━━━━━━━━━━━━\u001b[0m\u001b[37m\u001b[0m \u001b[1m26s\u001b[0m 4ms/step - loss: 0.0898 - val_loss: 0.1023\n",
      "Epoch 39/50\n",
      "\u001b[1m6544/6544\u001b[0m \u001b[32m━━━━━━━━━━━━━━━━━━━━\u001b[0m\u001b[37m\u001b[0m \u001b[1m40s\u001b[0m 4ms/step - loss: 0.0897 - val_loss: 0.0964\n",
      "Epoch 40/50\n",
      "\u001b[1m6544/6544\u001b[0m \u001b[32m━━━━━━━━━━━━━━━━━━━━\u001b[0m\u001b[37m\u001b[0m \u001b[1m25s\u001b[0m 4ms/step - loss: 0.0900 - val_loss: 0.0965\n",
      "Epoch 41/50\n",
      "\u001b[1m6544/6544\u001b[0m \u001b[32m━━━━━━━━━━━━━━━━━━━━\u001b[0m\u001b[37m\u001b[0m \u001b[1m40s\u001b[0m 4ms/step - loss: 0.0884 - val_loss: 0.1192\n",
      "Epoch 42/50\n",
      "\u001b[1m6544/6544\u001b[0m \u001b[32m━━━━━━━━━━━━━━━━━━━━\u001b[0m\u001b[37m\u001b[0m \u001b[1m24s\u001b[0m 4ms/step - loss: 0.0888 - val_loss: 0.0953\n",
      "Epoch 43/50\n",
      "\u001b[1m6544/6544\u001b[0m \u001b[32m━━━━━━━━━━━━━━━━━━━━\u001b[0m\u001b[37m\u001b[0m \u001b[1m24s\u001b[0m 4ms/step - loss: 0.0885 - val_loss: 0.0960\n",
      "Epoch 44/50\n",
      "\u001b[1m6544/6544\u001b[0m \u001b[32m━━━━━━━━━━━━━━━━━━━━\u001b[0m\u001b[37m\u001b[0m \u001b[1m40s\u001b[0m 4ms/step - loss: 0.0873 - val_loss: 0.0958\n",
      "Epoch 45/50\n",
      "\u001b[1m6544/6544\u001b[0m \u001b[32m━━━━━━━━━━━━━━━━━━━━\u001b[0m\u001b[37m\u001b[0m \u001b[1m41s\u001b[0m 4ms/step - loss: 0.0886 - val_loss: 0.0962\n",
      "Epoch 46/50\n",
      "\u001b[1m6544/6544\u001b[0m \u001b[32m━━━━━━━━━━━━━━━━━━━━\u001b[0m\u001b[37m\u001b[0m \u001b[1m40s\u001b[0m 3ms/step - loss: 0.0881 - val_loss: 0.1060\n",
      "Epoch 47/50\n",
      "\u001b[1m6544/6544\u001b[0m \u001b[32m━━━━━━━━━━━━━━━━━━━━\u001b[0m\u001b[37m\u001b[0m \u001b[1m23s\u001b[0m 4ms/step - loss: 0.0877 - val_loss: 0.0972\n",
      "Epoch 48/50\n",
      "\u001b[1m6544/6544\u001b[0m \u001b[32m━━━━━━━━━━━━━━━━━━━━\u001b[0m\u001b[37m\u001b[0m \u001b[1m24s\u001b[0m 4ms/step - loss: 0.0884 - val_loss: 0.1035\n",
      "Epoch 49/50\n",
      "\u001b[1m6544/6544\u001b[0m \u001b[32m━━━━━━━━━━━━━━━━━━━━\u001b[0m\u001b[37m\u001b[0m \u001b[1m26s\u001b[0m 4ms/step - loss: 0.0883 - val_loss: 0.1041\n",
      "Epoch 50/50\n",
      "\u001b[1m6544/6544\u001b[0m \u001b[32m━━━━━━━━━━━━━━━━━━━━\u001b[0m\u001b[37m\u001b[0m \u001b[1m39s\u001b[0m 4ms/step - loss: 0.0881 - val_loss: 0.0948\n"
     ]
    }
   ],
   "source": [
    "# Ensure Train & Test Have the Same Features\n",
    "X_train, X_test = X_train.align(X_test, join=\"inner\", axis=1)\n",
    "\n",
    "# Build the ANN Model\n",
    "model = keras.Sequential([\n",
    "    keras.layers.Dense(128, activation='relu', input_shape=(X_train.shape[1],)),  # Input Layer\n",
    "    keras.layers.Dense(64, activation='relu'),  # Hidden Layer 1\n",
    "    keras.layers.Dense(32, activation='relu'),  # Hidden Layer 2\n",
    "    keras.layers.Dense(1)  # Output Layer (Regression)\n",
    "])\n",
    "\n",
    "# Compile the Model\n",
    "model.compile(optimizer='adam', loss='mse')\n",
    "\n",
    "# Train the Model\n",
    "history = model.fit(X_train, y_train, validation_data=(X_test, y_test), epochs=50, batch_size=32, verbose=1)"
   ]
  },
  {
   "cell_type": "code",
   "execution_count": 7,
   "metadata": {
    "colab": {
     "base_uri": "https://localhost:8080/"
    },
    "id": "n7W6LKvHcIF8",
    "outputId": "56bfdbed-a983-48be-e12f-0e6039814644"
   },
   "outputs": [
    {
     "name": "stdout",
     "output_type": "stream",
     "text": [
      "\u001b[1m1636/1636\u001b[0m \u001b[32m━━━━━━━━━━━━━━━━━━━━\u001b[0m\u001b[37m\u001b[0m \u001b[1m3s\u001b[0m 2ms/step\n",
      "ANN R² Score: 0.7258\n",
      "ANN RMSE: 0.31\n",
      "ANN MAPE : 0.023968\n"
     ]
    }
   ],
   "source": [
    "# Make Predictions\n",
    "y_pred = model.predict(X_test).flatten()\n",
    "\n",
    "import numpy as np\n",
    "from sklearn.metrics import r2_score, mean_squared_error\n",
    "\n",
    "# Calculate R² Score (Higher is better)\n",
    "r2 = r2_score(y_test, y_pred)\n",
    "\n",
    "# Calculate RMSE (Lower is better)\n",
    "rmse = np.sqrt(mean_squared_error(y_test, y_pred))\n",
    "mape = mean_absolute_percentage_error(y_test, y_pred)\n",
    "\n",
    "# Print Accuracy Metrics\n",
    "print(f\"ANN R² Score: {r2:.4f}\")\n",
    "print(f\"ANN RMSE: {rmse:.2f}\")\n",
    "print(f\"ANN MAPE : {mape:4f}\")\n"
   ]
  },
  {
   "cell_type": "code",
   "execution_count": 8,
   "metadata": {
    "colab": {
     "base_uri": "https://localhost:8080/"
    },
    "id": "vFBtxs4zVdMa",
    "outputId": "b259a316-d8a7-4f49-8304-4d4b021114b5"
   },
   "outputs": [
    {
     "name": "stdout",
     "output_type": "stream",
     "text": [
      "\u001b[1m6544/6544\u001b[0m \u001b[32m━━━━━━━━━━━━━━━━━━━━\u001b[0m\u001b[37m\u001b[0m \u001b[1m10s\u001b[0m 2ms/step\n"
     ]
    }
   ],
   "source": [
    "# Make Predictions\n",
    "y_pred = model.predict(X_train).flatten()"
   ]
  },
  {
   "cell_type": "code",
   "execution_count": 9,
   "metadata": {
    "colab": {
     "base_uri": "https://localhost:8080/"
    },
    "id": "nLiWr5nAVuuV",
    "outputId": "9a1557b0-a990-483d-ef8d-49f7f9b64231"
   },
   "outputs": [
    {
     "name": "stdout",
     "output_type": "stream",
     "text": [
      "ANN R² Score: 0.7509\n",
      "ANN RMSE: 0.29\n",
      "ANN MAPE : 0.022829\n"
     ]
    }
   ],
   "source": [
    "# Calculate R² Score (Higher is better)\n",
    "r2 = r2_score(y_train, y_pred)\n",
    "\n",
    "# Calculate RMSE (Lower is better)\n",
    "rmse = np.sqrt(mean_squared_error(y_train, y_pred))\n",
    "mape = mean_absolute_percentage_error(y_train, y_pred)\n",
    "\n",
    "# Print Accuracy Metrics\n",
    "print(f\"ANN R² Score: {r2:.4f}\")\n",
    "print(f\"ANN RMSE: {rmse:.2f}\")\n",
    "print(f\"ANN MAPE : {mape:4f}\")"
   ]
  },
  {
   "cell_type": "code",
   "execution_count": null,
   "metadata": {
    "id": "aI6ZlCyBiV63"
   },
   "outputs": [],
   "source": []
  }
 ],
 "metadata": {
  "accelerator": "GPU",
  "colab": {
   "gpuType": "T4",
   "provenance": []
  },
  "kernelspec": {
   "display_name": "Python 3 (ipykernel)",
   "language": "python",
   "name": "python3"
  },
  "language_info": {
   "codemirror_mode": {
    "name": "ipython",
    "version": 3
   },
   "file_extension": ".py",
   "mimetype": "text/x-python",
   "name": "python",
   "nbconvert_exporter": "python",
   "pygments_lexer": "ipython3",
   "version": "3.9.13"
  }
 },
 "nbformat": 4,
 "nbformat_minor": 1
}
