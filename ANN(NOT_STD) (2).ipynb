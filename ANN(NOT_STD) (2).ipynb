{
  "nbformat": 4,
  "nbformat_minor": 0,
  "metadata": {
    "colab": {
      "provenance": []
    },
    "kernelspec": {
      "name": "python3",
      "display_name": "Python 3"
    },
    "language_info": {
      "name": "python"
    }
  },
  "cells": [
    {
      "cell_type": "code",
      "execution_count": null,
      "metadata": {
        "id": "sSz-PLmgucIi",
        "colab": {
          "base_uri": "https://localhost:8080/"
        },
        "outputId": "e2e45623-282a-46b0-dc8d-308448d50856"
      },
      "outputs": [
        {
          "output_type": "stream",
          "name": "stdout",
          "text": [
            "HH Size (For FDQ)                                                0\n",
            "Male_Count                                                       0\n",
            "Female_Count                                                     0\n",
            "Other_Count                                                      0\n",
            "Age_0_18                                                         0\n",
            "                                                                ..\n",
            "Marital Status_head_3                                            0\n",
            "Marital Status_head_4                                            0\n",
            "Whether used internet from any location during last 30 days_1    0\n",
            "Whether used internet from any location during last 30 days_2    0\n",
            "log_TotalExpense                                                 0\n",
            "Length: 250, dtype: int64\n",
            "0\n"
          ]
        }
      ],
      "source": [
        "import pandas as pd\n",
        "import numpy as np\n",
        "import tensorflow as tf\n",
        "from tensorflow import keras\n",
        "from sklearn.metrics import r2_score, mean_squared_error, mean_absolute_percentage_error\n",
        "\n",
        "# Load train & test feature datasets\n",
        "train_features = pd.read_csv(\"/content/final_train1.csv\")\n",
        "test_features = pd.read_csv(\"/content/final_test1.csv\")\n",
        "\n",
        "# Load target variables\n",
        "train_target = pd.read_excel(\"/content/Target_train.xlsx\")\n",
        "test_target = pd.read_excel(\"/content/Target_test.xlsx\") # Fixed path from // to /\n",
        "\n",
        "# Merge target with feature datasets\n",
        "final_train = train_features.copy()\n",
        "final_train[\"log_TotalExpense\"] = train_target[\"log_TotalExpense\"]\n",
        "\n",
        "final_test = test_features.copy()\n",
        "final_test[\"log_totalexpense\"] = test_target[\"log_totalexpense\"]\n",
        "\n",
        "# Assuming your DataFrame is named 'df'\n",
        "def delete_unnamed_columns(df):\n",
        "  \"\"\"Deletes all columns with 'Unnamed' in their name from a DataFrame.\n",
        "\n",
        "  Args:\n",
        "    df: The pandas DataFrame to modify.\n",
        "\n",
        "  Returns:\n",
        "    The DataFrame with 'Unnamed' columns removed.\n",
        "  \"\"\"\n",
        "  df = df.loc[:, ~df.columns.str.contains('^Unnamed:')]\n",
        "  return df\n",
        "\n",
        "# Example usage:\n",
        "final_train = delete_unnamed_columns(final_train)\n",
        "final_test = delete_unnamed_columns(final_test)\n",
        "\n",
        "# Separate Features (X) and Target Variable (y)\n",
        "X_train = final_train\n",
        "y_train = final_train[\"log_TotalExpense\"]\n",
        "\n",
        "X_test = final_test\n",
        "y_test = final_test[\"log_totalexpense\"]\n",
        "\n",
        "# Drop the log_totalexpense column if it exists\n",
        "X_train = X_train.drop(columns=['log_totalexpense'], errors='ignore')\n",
        "X_test = X_test.drop(columns=['log_totalexpense'], errors='ignore')\n",
        "\n",
        "print(X_train.isnull().sum())  # Shows missing values per column\n",
        "print(y_train.isnull().sum())  # Shows missing values in the target variable\n"
      ]
    },
    {
      "cell_type": "code",
      "source": [
        "# Save X_train and X_test as CSV files\n",
        "X_train.to_csv(\"X_train_cleaned.csv\", index=False)\n",
        "X_test.to_csv(\"X_test_cleaned.csv\", index=False)\n",
        "\n",
        "print(\"CSV files saved successfully!\")\n"
      ],
      "metadata": {
        "colab": {
          "base_uri": "https://localhost:8080/"
        },
        "id": "-Rb5mLuNdbPz",
        "outputId": "91b84040-5d02-4606-9f41-a8c048f559b1"
      },
      "execution_count": null,
      "outputs": [
        {
          "output_type": "stream",
          "name": "stdout",
          "text": [
            "CSV files saved successfully!\n"
          ]
        }
      ]
    },
    {
      "cell_type": "code",
      "source": [
        "\n",
        "print(\"Final Train Shape:\", final_train.shape)\n",
        "print(\"Final Test Shape:\", final_test.shape)\n"
      ],
      "metadata": {
        "colab": {
          "base_uri": "https://localhost:8080/"
        },
        "id": "aBKOEZt3x31c",
        "outputId": "c4d1c827-eec5-44c7-fca7-d5bd0a4ef2aa"
      },
      "execution_count": null,
      "outputs": [
        {
          "output_type": "stream",
          "name": "stdout",
          "text": [
            "Final Train Shape: (209396, 250)\n",
            "Final Test Shape: (52350, 250)\n"
          ]
        }
      ]
    },
    {
      "cell_type": "code",
      "source": [],
      "metadata": {
        "id": "sBQKsDY8ewmI"
      },
      "execution_count": null,
      "outputs": []
    },
    {
      "cell_type": "code",
      "source": [],
      "metadata": {
        "id": "KKYdsj7ge4rK"
      },
      "execution_count": null,
      "outputs": []
    },
    {
      "cell_type": "code",
      "source": [],
      "metadata": {
        "id": "uzCJWn4ne4uW"
      },
      "execution_count": null,
      "outputs": []
    },
    {
      "cell_type": "code",
      "source": [],
      "metadata": {
        "id": "Fc93pEiRe4xn"
      },
      "execution_count": null,
      "outputs": []
    },
    {
      "cell_type": "code",
      "source": [],
      "metadata": {
        "id": "uTL5hCWDe41A"
      },
      "execution_count": null,
      "outputs": []
    },
    {
      "cell_type": "code",
      "source": [
        "X_train.shape"
      ],
      "metadata": {
        "colab": {
          "base_uri": "https://localhost:8080/"
        },
        "id": "Zs3DLXGDL9Ku",
        "outputId": "56a85146-1cff-418d-df4e-31f8928009a2"
      },
      "execution_count": null,
      "outputs": [
        {
          "output_type": "execute_result",
          "data": {
            "text/plain": [
              "(209396, 249)"
            ]
          },
          "metadata": {},
          "execution_count": 5
        }
      ]
    },
    {
      "cell_type": "code",
      "source": [
        "# Ensure Train & Test Have the Same Features\n",
        "X_train, X_test = X_train.align(X_test, join=\"inner\", axis=1)\n",
        "\n",
        "# Build the ANN Model\n",
        "model = keras.Sequential([\n",
        "    keras.layers.Dense(128, activation='relu', input_shape=(X_train.shape[1],)),  # Input Layer\n",
        "    keras.layers.Dense(64, activation='relu'),  # Hidden Layer 1\n",
        "    keras.layers.Dense(32, activation='relu'),  # Hidden Layer 2\n",
        "    keras.layers.Dense(1)  # Output Layer (Regression)\n",
        "])\n",
        "\n",
        "# Compile the Model\n",
        "model.compile(optimizer='adam', loss='mse')\n",
        "\n",
        "# Train the Model\n",
        "history = model.fit(X_train, y_train, validation_data=(X_test, y_test), epochs=50, batch_size=32, verbose=1)"
      ],
      "metadata": {
        "colab": {
          "base_uri": "https://localhost:8080/",
          "height": 463
        },
        "id": "T-7BLGGNP2bd",
        "outputId": "08447031-ecd4-434a-aa10-eb8124b76d7e"
      },
      "execution_count": null,
      "outputs": [
        {
          "output_type": "stream",
          "name": "stderr",
          "text": [
            "/usr/local/lib/python3.11/dist-packages/keras/src/layers/core/dense.py:87: UserWarning: Do not pass an `input_shape`/`input_dim` argument to a layer. When using Sequential models, prefer using an `Input(shape)` object as the first layer in the model instead.\n",
            "  super().__init__(activity_regularizer=activity_regularizer, **kwargs)\n"
          ]
        },
        {
          "output_type": "stream",
          "name": "stdout",
          "text": [
            "Epoch 1/50\n",
            "\u001b[1m6544/6544\u001b[0m \u001b[32m━━━━━━━━━━━━━━━━━━━━\u001b[0m\u001b[37m\u001b[0m \u001b[1m25s\u001b[0m 4ms/step - loss: 0.8685 - val_loss: 0.1251\n",
            "Epoch 2/50\n"
          ]
        },
        {
          "output_type": "error",
          "ename": "KeyboardInterrupt",
          "evalue": "",
          "traceback": [
            "\u001b[0;31m---------------------------------------------------------------------------\u001b[0m",
            "\u001b[0;31mKeyboardInterrupt\u001b[0m                         Traceback (most recent call last)",
            "\u001b[0;32m<ipython-input-4-83c0817b3d74>\u001b[0m in \u001b[0;36m<cell line: 0>\u001b[0;34m()\u001b[0m\n\u001b[1;32m     14\u001b[0m \u001b[0;34m\u001b[0m\u001b[0m\n\u001b[1;32m     15\u001b[0m \u001b[0;31m# Train the Model\u001b[0m\u001b[0;34m\u001b[0m\u001b[0;34m\u001b[0m\u001b[0m\n\u001b[0;32m---> 16\u001b[0;31m \u001b[0mhistory\u001b[0m \u001b[0;34m=\u001b[0m \u001b[0mmodel\u001b[0m\u001b[0;34m.\u001b[0m\u001b[0mfit\u001b[0m\u001b[0;34m(\u001b[0m\u001b[0mX_train\u001b[0m\u001b[0;34m,\u001b[0m \u001b[0my_train\u001b[0m\u001b[0;34m,\u001b[0m \u001b[0mvalidation_data\u001b[0m\u001b[0;34m=\u001b[0m\u001b[0;34m(\u001b[0m\u001b[0mX_test\u001b[0m\u001b[0;34m,\u001b[0m \u001b[0my_test\u001b[0m\u001b[0;34m)\u001b[0m\u001b[0;34m,\u001b[0m \u001b[0mepochs\u001b[0m\u001b[0;34m=\u001b[0m\u001b[0;36m50\u001b[0m\u001b[0;34m,\u001b[0m \u001b[0mbatch_size\u001b[0m\u001b[0;34m=\u001b[0m\u001b[0;36m32\u001b[0m\u001b[0;34m,\u001b[0m \u001b[0mverbose\u001b[0m\u001b[0;34m=\u001b[0m\u001b[0;36m1\u001b[0m\u001b[0;34m)\u001b[0m\u001b[0;34m\u001b[0m\u001b[0;34m\u001b[0m\u001b[0m\n\u001b[0m",
            "\u001b[0;32m/usr/local/lib/python3.11/dist-packages/keras/src/utils/traceback_utils.py\u001b[0m in \u001b[0;36merror_handler\u001b[0;34m(*args, **kwargs)\u001b[0m\n\u001b[1;32m    115\u001b[0m         \u001b[0mfiltered_tb\u001b[0m \u001b[0;34m=\u001b[0m \u001b[0;32mNone\u001b[0m\u001b[0;34m\u001b[0m\u001b[0;34m\u001b[0m\u001b[0m\n\u001b[1;32m    116\u001b[0m         \u001b[0;32mtry\u001b[0m\u001b[0;34m:\u001b[0m\u001b[0;34m\u001b[0m\u001b[0;34m\u001b[0m\u001b[0m\n\u001b[0;32m--> 117\u001b[0;31m             \u001b[0;32mreturn\u001b[0m \u001b[0mfn\u001b[0m\u001b[0;34m(\u001b[0m\u001b[0;34m*\u001b[0m\u001b[0margs\u001b[0m\u001b[0;34m,\u001b[0m \u001b[0;34m**\u001b[0m\u001b[0mkwargs\u001b[0m\u001b[0;34m)\u001b[0m\u001b[0;34m\u001b[0m\u001b[0;34m\u001b[0m\u001b[0m\n\u001b[0m\u001b[1;32m    118\u001b[0m         \u001b[0;32mexcept\u001b[0m \u001b[0mException\u001b[0m \u001b[0;32mas\u001b[0m \u001b[0me\u001b[0m\u001b[0;34m:\u001b[0m\u001b[0;34m\u001b[0m\u001b[0;34m\u001b[0m\u001b[0m\n\u001b[1;32m    119\u001b[0m             \u001b[0mfiltered_tb\u001b[0m \u001b[0;34m=\u001b[0m \u001b[0m_process_traceback_frames\u001b[0m\u001b[0;34m(\u001b[0m\u001b[0me\u001b[0m\u001b[0;34m.\u001b[0m\u001b[0m__traceback__\u001b[0m\u001b[0;34m)\u001b[0m\u001b[0;34m\u001b[0m\u001b[0;34m\u001b[0m\u001b[0m\n",
            "\u001b[0;32m/usr/local/lib/python3.11/dist-packages/keras/src/backend/tensorflow/trainer.py\u001b[0m in \u001b[0;36mfit\u001b[0;34m(self, x, y, batch_size, epochs, verbose, callbacks, validation_split, validation_data, shuffle, class_weight, sample_weight, initial_epoch, steps_per_epoch, validation_steps, validation_batch_size, validation_freq)\u001b[0m\n\u001b[1;32m    368\u001b[0m             \u001b[0;32mwith\u001b[0m \u001b[0mepoch_iterator\u001b[0m\u001b[0;34m.\u001b[0m\u001b[0mcatch_stop_iteration\u001b[0m\u001b[0;34m(\u001b[0m\u001b[0;34m)\u001b[0m\u001b[0;34m:\u001b[0m\u001b[0;34m\u001b[0m\u001b[0;34m\u001b[0m\u001b[0m\n\u001b[1;32m    369\u001b[0m                 \u001b[0;32mfor\u001b[0m \u001b[0mstep\u001b[0m\u001b[0;34m,\u001b[0m \u001b[0miterator\u001b[0m \u001b[0;32min\u001b[0m \u001b[0mepoch_iterator\u001b[0m\u001b[0;34m:\u001b[0m\u001b[0;34m\u001b[0m\u001b[0;34m\u001b[0m\u001b[0m\n\u001b[0;32m--> 370\u001b[0;31m                     \u001b[0mcallbacks\u001b[0m\u001b[0;34m.\u001b[0m\u001b[0mon_train_batch_begin\u001b[0m\u001b[0;34m(\u001b[0m\u001b[0mstep\u001b[0m\u001b[0;34m)\u001b[0m\u001b[0;34m\u001b[0m\u001b[0;34m\u001b[0m\u001b[0m\n\u001b[0m\u001b[1;32m    371\u001b[0m                     \u001b[0mlogs\u001b[0m \u001b[0;34m=\u001b[0m \u001b[0mself\u001b[0m\u001b[0;34m.\u001b[0m\u001b[0mtrain_function\u001b[0m\u001b[0;34m(\u001b[0m\u001b[0miterator\u001b[0m\u001b[0;34m)\u001b[0m\u001b[0;34m\u001b[0m\u001b[0;34m\u001b[0m\u001b[0m\n\u001b[1;32m    372\u001b[0m                     \u001b[0mcallbacks\u001b[0m\u001b[0;34m.\u001b[0m\u001b[0mon_train_batch_end\u001b[0m\u001b[0;34m(\u001b[0m\u001b[0mstep\u001b[0m\u001b[0;34m,\u001b[0m \u001b[0mlogs\u001b[0m\u001b[0;34m)\u001b[0m\u001b[0;34m\u001b[0m\u001b[0;34m\u001b[0m\u001b[0m\n",
            "\u001b[0;32m/usr/local/lib/python3.11/dist-packages/keras/src/callbacks/callback_list.py\u001b[0m in \u001b[0;36mon_train_batch_begin\u001b[0;34m(self, batch, logs)\u001b[0m\n\u001b[1;32m    145\u001b[0m             \u001b[0mcallback\u001b[0m\u001b[0;34m.\u001b[0m\u001b[0mon_epoch_end\u001b[0m\u001b[0;34m(\u001b[0m\u001b[0mepoch\u001b[0m\u001b[0;34m,\u001b[0m \u001b[0mlogs\u001b[0m\u001b[0;34m)\u001b[0m\u001b[0;34m\u001b[0m\u001b[0;34m\u001b[0m\u001b[0m\n\u001b[1;32m    146\u001b[0m \u001b[0;34m\u001b[0m\u001b[0m\n\u001b[0;32m--> 147\u001b[0;31m     \u001b[0;32mdef\u001b[0m \u001b[0mon_train_batch_begin\u001b[0m\u001b[0;34m(\u001b[0m\u001b[0mself\u001b[0m\u001b[0;34m,\u001b[0m \u001b[0mbatch\u001b[0m\u001b[0;34m,\u001b[0m \u001b[0mlogs\u001b[0m\u001b[0;34m=\u001b[0m\u001b[0;32mNone\u001b[0m\u001b[0;34m)\u001b[0m\u001b[0;34m:\u001b[0m\u001b[0;34m\u001b[0m\u001b[0;34m\u001b[0m\u001b[0m\n\u001b[0m\u001b[1;32m    148\u001b[0m         \u001b[0mlogs\u001b[0m \u001b[0;34m=\u001b[0m \u001b[0mpython_utils\u001b[0m\u001b[0;34m.\u001b[0m\u001b[0mpythonify_logs\u001b[0m\u001b[0;34m(\u001b[0m\u001b[0mlogs\u001b[0m\u001b[0;34m)\u001b[0m\u001b[0;34m\u001b[0m\u001b[0;34m\u001b[0m\u001b[0m\n\u001b[1;32m    149\u001b[0m         \u001b[0;32mfor\u001b[0m \u001b[0mcallback\u001b[0m \u001b[0;32min\u001b[0m \u001b[0mself\u001b[0m\u001b[0;34m.\u001b[0m\u001b[0mcallbacks\u001b[0m\u001b[0;34m:\u001b[0m\u001b[0;34m\u001b[0m\u001b[0;34m\u001b[0m\u001b[0m\n",
            "\u001b[0;31mKeyboardInterrupt\u001b[0m: "
          ]
        }
      ]
    },
    {
      "cell_type": "code",
      "source": [
        "# Make Predictions\n",
        "y_pred = model.predict(X_test).flatten()\n",
        "\n",
        "import numpy as np\n",
        "from sklearn.metrics import r2_score, mean_squared_error\n",
        "\n",
        "# Calculate R² Score (Higher is better)\n",
        "r2 = r2_score(y_test, y_pred)\n",
        "\n",
        "# Calculate RMSE (Lower is better)\n",
        "rmse = np.sqrt(mean_squared_error(y_test, y_pred))\n",
        "mape = mean_absolute_percentage_error(y_test, y_pred)\n",
        "\n",
        "# Print Accuracy Metrics\n",
        "print(f\"ANN R² Score: {r2:.4f}\")\n",
        "print(f\"ANN RMSE: {rmse:.2f}\")\n",
        "print(f\"ANN MAPE : {mape:4f}\")\n"
      ],
      "metadata": {
        "colab": {
          "base_uri": "https://localhost:8080/"
        },
        "id": "n7W6LKvHcIF8",
        "outputId": "de9fd40f-512a-48ce-e3d5-152bdd062e90"
      },
      "execution_count": null,
      "outputs": [
        {
          "output_type": "stream",
          "name": "stdout",
          "text": [
            "\u001b[1m1636/1636\u001b[0m \u001b[32m━━━━━━━━━━━━━━━━━━━━\u001b[0m\u001b[37m\u001b[0m \u001b[1m2s\u001b[0m 1ms/step\n",
            "ANN R² Score: 0.6893\n",
            "ANN RMSE: 0.33\n",
            "ANN MAPE : 0.026011\n"
          ]
        }
      ]
    },
    {
      "cell_type": "code",
      "source": [
        "# Make Predictions\n",
        "y_pred = model.predict(X_train).flatten()"
      ],
      "metadata": {
        "colab": {
          "base_uri": "https://localhost:8080/"
        },
        "id": "vFBtxs4zVdMa",
        "outputId": "e21bd409-705b-4519-d945-e70ac217e7a8"
      },
      "execution_count": null,
      "outputs": [
        {
          "output_type": "stream",
          "name": "stdout",
          "text": [
            "\u001b[1m6544/6544\u001b[0m \u001b[32m━━━━━━━━━━━━━━━━━━━━\u001b[0m\u001b[37m\u001b[0m \u001b[1m8s\u001b[0m 1ms/step\n"
          ]
        }
      ]
    },
    {
      "cell_type": "code",
      "source": [
        "# Calculate R² Score (Higher is better)\n",
        "r2 = r2_score(y_train, y_pred)\n",
        "\n",
        "# Calculate RMSE (Lower is better)\n",
        "rmse = np.sqrt(mean_squared_error(y_train, y_pred))\n",
        "mape = mean_absolute_percentage_error(y_train, y_pred)\n",
        "\n",
        "# Print Accuracy Metrics\n",
        "print(f\"ANN R² Score: {r2:.4f}\")\n",
        "print(f\"ANN RMSE: {rmse:.2f}\")\n",
        "print(f\"ANN MAPE : {mape:4f}\")"
      ],
      "metadata": {
        "colab": {
          "base_uri": "https://localhost:8080/"
        },
        "id": "nLiWr5nAVuuV",
        "outputId": "7dd1ebf6-2bbb-4196-fefe-57b30dbf85ef"
      },
      "execution_count": null,
      "outputs": [
        {
          "output_type": "stream",
          "name": "stdout",
          "text": [
            "ANN R² Score: 0.7093\n",
            "ANN RMSE: 0.32\n",
            "ANN MAPE : 0.025184\n"
          ]
        }
      ]
    },
    {
      "cell_type": "code",
      "source": [],
      "metadata": {
        "id": "aI6ZlCyBiV63"
      },
      "execution_count": null,
      "outputs": []
    },
    {
      "cell_type": "code",
      "source": [],
      "metadata": {
        "id": "DuGJY1t_7ZyV"
      },
      "execution_count": null,
      "outputs": []
    },
    {
      "cell_type": "code",
      "source": [],
      "metadata": {
        "id": "12mhpXgB7Z00"
      },
      "execution_count": null,
      "outputs": []
    },
    {
      "cell_type": "code",
      "source": [
        "X_train = X_train[[\n",
        "    \"State_22\",\n",
        "    \"State_11\",\n",
        "    \"State_21\",\n",
        "    \"State_16\",\n",
        "    \"State_12\",\n",
        "    \"State_20\",\n",
        "    \"State_19\",\n",
        "    \"State_23\",\n",
        "    \"Is_HH_Have_Mobile_handset_0\",\n",
        "    \"Is_HH_Have_Motorcar_jeep_van_0\",\n",
        "    \"Is_HH_Have_Refrigerator_0\",\n",
        "    \"Whether used internet from any location during last 30 days_1\",\n",
        "    \"Is_HH_Have_Motorcycle_scooter_0\",\n",
        "    \"Is_HH_Have_Washing_machine_0\",\n",
        "    \"Sector_1\",\n",
        "    \"Is_online_Clothing_Purchased_Last365_0\",\n",
        "    \"Marital Status_head_2\",\n",
        "    \"HH Size (For FDQ)\",\n",
        "    \"Is_HH_Have_Television_0\",\n",
        "    \"Is_online_Mobile_Handset_Purchased_Last365_0\",\n",
        "    \"Is_online_Personal_Goods_Purchased_Last365_0\",\n",
        "    \"State_13\",\n",
        "    \"Household Type_9\"\n",
        "]]"
      ],
      "metadata": {
        "id": "1A7qRuhH7Z4C"
      },
      "execution_count": null,
      "outputs": []
    },
    {
      "cell_type": "code",
      "source": [
        "X_test = X_test[[\n",
        "    \"State_22\",\n",
        "    \"State_11\",\n",
        "    \"State_21\",\n",
        "    \"State_16\",\n",
        "    \"State_12\",\n",
        "    \"State_20\",\n",
        "    \"State_19\",\n",
        "    \"State_23\",\n",
        "    \"Is_HH_Have_Mobile_handset_0\",\n",
        "    \"Is_HH_Have_Motorcar_jeep_van_0\",\n",
        "    \"Is_HH_Have_Refrigerator_0\",\n",
        "    \"Whether used internet from any location during last 30 days_1\",\n",
        "    \"Is_HH_Have_Motorcycle_scooter_0\",\n",
        "    \"Is_HH_Have_Washing_machine_0\",\n",
        "    \"Sector_1\",\n",
        "    \"Is_online_Clothing_Purchased_Last365_0\",\n",
        "    \"Marital Status_head_2\",\n",
        "    \"HH Size (For FDQ)\",\n",
        "    \"Is_HH_Have_Television_0\",\n",
        "    \"Is_online_Mobile_Handset_Purchased_Last365_0\",\n",
        "    \"Is_online_Personal_Goods_Purchased_Last365_0\",\n",
        "    \"State_13\",\n",
        "    \"Household Type_9\"\n",
        "]]"
      ],
      "metadata": {
        "id": "JlitbMaB7rlv"
      },
      "execution_count": null,
      "outputs": []
    },
    {
      "cell_type": "code",
      "source": [
        "# Ensure Train & Test Have the Same Features\n",
        "X_train, X_test = X_train.align(X_test, join=\"inner\", axis=1)\n",
        "\n",
        "# Build the ANN Model\n",
        "model = keras.Sequential([\n",
        "    keras.layers.Dense(128, activation='relu', input_shape=(X_train.shape[1],)),  # Input Layer\n",
        "    keras.layers.Dense(64, activation='relu'),  # Hidden Layer 1\n",
        "    keras.layers.Dense(32, activation='relu'),  # Hidden Layer 2\n",
        "    keras.layers.Dense(1)  # Output Layer (Regression)\n",
        "])\n",
        "\n",
        "# Compile the Model\n",
        "model.compile(optimizer='adam', loss='mse')\n",
        "\n",
        "# Train the Model\n",
        "history = model.fit(X_train, y_train, validation_data=(X_test, y_test), epochs=50, batch_size=32, verbose=1)"
      ],
      "metadata": {
        "colab": {
          "base_uri": "https://localhost:8080/"
        },
        "id": "nCsjYud28B_6",
        "outputId": "b731aec5-2437-4504-f5d8-ef49c214c194"
      },
      "execution_count": null,
      "outputs": [
        {
          "output_type": "stream",
          "name": "stdout",
          "text": [
            "Epoch 1/50\n"
          ]
        },
        {
          "output_type": "stream",
          "name": "stderr",
          "text": [
            "/usr/local/lib/python3.11/dist-packages/keras/src/layers/core/dense.py:87: UserWarning: Do not pass an `input_shape`/`input_dim` argument to a layer. When using Sequential models, prefer using an `Input(shape)` object as the first layer in the model instead.\n",
            "  super().__init__(activity_regularizer=activity_regularizer, **kwargs)\n"
          ]
        },
        {
          "output_type": "stream",
          "name": "stdout",
          "text": [
            "\u001b[1m6544/6544\u001b[0m \u001b[32m━━━━━━━━━━━━━━━━━━━━\u001b[0m\u001b[37m\u001b[0m \u001b[1m18s\u001b[0m 2ms/step - loss: 2.2615 - val_loss: 0.1532\n",
            "Epoch 2/50\n",
            "\u001b[1m6544/6544\u001b[0m \u001b[32m━━━━━━━━━━━━━━━━━━━━\u001b[0m\u001b[37m\u001b[0m \u001b[1m20s\u001b[0m 2ms/step - loss: 0.1414 - val_loss: 0.1444\n",
            "Epoch 3/50\n",
            "\u001b[1m6544/6544\u001b[0m \u001b[32m━━━━━━━━━━━━━━━━━━━━\u001b[0m\u001b[37m\u001b[0m \u001b[1m21s\u001b[0m 2ms/step - loss: 0.1394 - val_loss: 0.1418\n",
            "Epoch 4/50\n",
            "\u001b[1m6544/6544\u001b[0m \u001b[32m━━━━━━━━━━━━━━━━━━━━\u001b[0m\u001b[37m\u001b[0m \u001b[1m23s\u001b[0m 3ms/step - loss: 0.1366 - val_loss: 0.1318\n",
            "Epoch 5/50\n",
            "\u001b[1m6544/6544\u001b[0m \u001b[32m━━━━━━━━━━━━━━━━━━━━\u001b[0m\u001b[37m\u001b[0m \u001b[1m17s\u001b[0m 2ms/step - loss: 0.1340 - val_loss: 0.1313\n",
            "Epoch 6/50\n",
            "\u001b[1m6544/6544\u001b[0m \u001b[32m━━━━━━━━━━━━━━━━━━━━\u001b[0m\u001b[37m\u001b[0m \u001b[1m20s\u001b[0m 2ms/step - loss: 0.1333 - val_loss: 0.1329\n",
            "Epoch 7/50\n",
            "\u001b[1m6544/6544\u001b[0m \u001b[32m━━━━━━━━━━━━━━━━━━━━\u001b[0m\u001b[37m\u001b[0m \u001b[1m15s\u001b[0m 2ms/step - loss: 0.1319 - val_loss: 0.1318\n",
            "Epoch 8/50\n",
            "\u001b[1m6544/6544\u001b[0m \u001b[32m━━━━━━━━━━━━━━━━━━━━\u001b[0m\u001b[37m\u001b[0m \u001b[1m16s\u001b[0m 2ms/step - loss: 0.1333 - val_loss: 0.1300\n",
            "Epoch 9/50\n",
            "\u001b[1m6544/6544\u001b[0m \u001b[32m━━━━━━━━━━━━━━━━━━━━\u001b[0m\u001b[37m\u001b[0m \u001b[1m18s\u001b[0m 3ms/step - loss: 0.1305 - val_loss: 0.1430\n",
            "Epoch 10/50\n",
            "\u001b[1m6544/6544\u001b[0m \u001b[32m━━━━━━━━━━━━━━━━━━━━\u001b[0m\u001b[37m\u001b[0m \u001b[1m18s\u001b[0m 2ms/step - loss: 0.1314 - val_loss: 0.1320\n",
            "Epoch 11/50\n",
            "\u001b[1m6544/6544\u001b[0m \u001b[32m━━━━━━━━━━━━━━━━━━━━\u001b[0m\u001b[37m\u001b[0m \u001b[1m23s\u001b[0m 3ms/step - loss: 0.1303 - val_loss: 0.1375\n",
            "Epoch 12/50\n",
            "\u001b[1m6544/6544\u001b[0m \u001b[32m━━━━━━━━━━━━━━━━━━━━\u001b[0m\u001b[37m\u001b[0m \u001b[1m18s\u001b[0m 2ms/step - loss: 0.1303 - val_loss: 0.1563\n",
            "Epoch 13/50\n",
            "\u001b[1m6544/6544\u001b[0m \u001b[32m━━━━━━━━━━━━━━━━━━━━\u001b[0m\u001b[37m\u001b[0m \u001b[1m18s\u001b[0m 3ms/step - loss: 0.1296 - val_loss: 0.1306\n",
            "Epoch 14/50\n",
            "\u001b[1m6544/6544\u001b[0m \u001b[32m━━━━━━━━━━━━━━━━━━━━\u001b[0m\u001b[37m\u001b[0m \u001b[1m18s\u001b[0m 2ms/step - loss: 0.1297 - val_loss: 0.1276\n",
            "Epoch 15/50\n",
            "\u001b[1m6544/6544\u001b[0m \u001b[32m━━━━━━━━━━━━━━━━━━━━\u001b[0m\u001b[37m\u001b[0m \u001b[1m15s\u001b[0m 2ms/step - loss: 0.1293 - val_loss: 0.1278\n",
            "Epoch 16/50\n",
            "\u001b[1m6544/6544\u001b[0m \u001b[32m━━━━━━━━━━━━━━━━━━━━\u001b[0m\u001b[37m\u001b[0m \u001b[1m18s\u001b[0m 3ms/step - loss: 0.1296 - val_loss: 0.1285\n",
            "Epoch 17/50\n",
            "\u001b[1m6544/6544\u001b[0m \u001b[32m━━━━━━━━━━━━━━━━━━━━\u001b[0m\u001b[37m\u001b[0m \u001b[1m18s\u001b[0m 2ms/step - loss: 0.1290 - val_loss: 0.1276\n",
            "Epoch 18/50\n",
            "\u001b[1m6544/6544\u001b[0m \u001b[32m━━━━━━━━━━━━━━━━━━━━\u001b[0m\u001b[37m\u001b[0m \u001b[1m20s\u001b[0m 2ms/step - loss: 0.1283 - val_loss: 0.1290\n",
            "Epoch 19/50\n",
            "\u001b[1m6544/6544\u001b[0m \u001b[32m━━━━━━━━━━━━━━━━━━━━\u001b[0m\u001b[37m\u001b[0m \u001b[1m21s\u001b[0m 2ms/step - loss: 0.1276 - val_loss: 0.1329\n",
            "Epoch 20/50\n",
            "\u001b[1m6544/6544\u001b[0m \u001b[32m━━━━━━━━━━━━━━━━━━━━\u001b[0m\u001b[37m\u001b[0m \u001b[1m20s\u001b[0m 2ms/step - loss: 0.1292 - val_loss: 0.1279\n",
            "Epoch 21/50\n",
            "\u001b[1m6544/6544\u001b[0m \u001b[32m━━━━━━━━━━━━━━━━━━━━\u001b[0m\u001b[37m\u001b[0m \u001b[1m16s\u001b[0m 2ms/step - loss: 0.1291 - val_loss: 0.1273\n",
            "Epoch 22/50\n",
            "\u001b[1m6544/6544\u001b[0m \u001b[32m━━━━━━━━━━━━━━━━━━━━\u001b[0m\u001b[37m\u001b[0m \u001b[1m20s\u001b[0m 2ms/step - loss: 0.1280 - val_loss: 0.1281\n",
            "Epoch 23/50\n",
            "\u001b[1m6544/6544\u001b[0m \u001b[32m━━━━━━━━━━━━━━━━━━━━\u001b[0m\u001b[37m\u001b[0m \u001b[1m23s\u001b[0m 3ms/step - loss: 0.1285 - val_loss: 0.1296\n",
            "Epoch 24/50\n",
            "\u001b[1m6544/6544\u001b[0m \u001b[32m━━━━━━━━━━━━━━━━━━━━\u001b[0m\u001b[37m\u001b[0m \u001b[1m15s\u001b[0m 2ms/step - loss: 0.1286 - val_loss: 0.1280\n",
            "Epoch 25/50\n",
            "\u001b[1m6544/6544\u001b[0m \u001b[32m━━━━━━━━━━━━━━━━━━━━\u001b[0m\u001b[37m\u001b[0m \u001b[1m21s\u001b[0m 2ms/step - loss: 0.1283 - val_loss: 0.1283\n",
            "Epoch 26/50\n",
            "\u001b[1m6544/6544\u001b[0m \u001b[32m━━━━━━━━━━━━━━━━━━━━\u001b[0m\u001b[37m\u001b[0m \u001b[1m15s\u001b[0m 2ms/step - loss: 0.1274 - val_loss: 0.1288\n",
            "Epoch 27/50\n",
            "\u001b[1m6544/6544\u001b[0m \u001b[32m━━━━━━━━━━━━━━━━━━━━\u001b[0m\u001b[37m\u001b[0m \u001b[1m20s\u001b[0m 2ms/step - loss: 0.1277 - val_loss: 0.1302\n",
            "Epoch 28/50\n",
            "\u001b[1m6544/6544\u001b[0m \u001b[32m━━━━━━━━━━━━━━━━━━━━\u001b[0m\u001b[37m\u001b[0m \u001b[1m18s\u001b[0m 3ms/step - loss: 0.1277 - val_loss: 0.1271\n",
            "Epoch 29/50\n",
            "\u001b[1m6544/6544\u001b[0m \u001b[32m━━━━━━━━━━━━━━━━━━━━\u001b[0m\u001b[37m\u001b[0m \u001b[1m18s\u001b[0m 2ms/step - loss: 0.1261 - val_loss: 0.1281\n",
            "Epoch 30/50\n",
            "\u001b[1m6544/6544\u001b[0m \u001b[32m━━━━━━━━━━━━━━━━━━━━\u001b[0m\u001b[37m\u001b[0m \u001b[1m21s\u001b[0m 2ms/step - loss: 0.1290 - val_loss: 0.1282\n",
            "Epoch 31/50\n",
            "\u001b[1m6544/6544\u001b[0m \u001b[32m━━━━━━━━━━━━━━━━━━━━\u001b[0m\u001b[37m\u001b[0m \u001b[1m21s\u001b[0m 2ms/step - loss: 0.1280 - val_loss: 0.1282\n",
            "Epoch 32/50\n",
            "\u001b[1m6544/6544\u001b[0m \u001b[32m━━━━━━━━━━━━━━━━━━━━\u001b[0m\u001b[37m\u001b[0m \u001b[1m18s\u001b[0m 3ms/step - loss: 0.1269 - val_loss: 0.1280\n",
            "Epoch 33/50\n",
            "\u001b[1m6544/6544\u001b[0m \u001b[32m━━━━━━━━━━━━━━━━━━━━\u001b[0m\u001b[37m\u001b[0m \u001b[1m18s\u001b[0m 2ms/step - loss: 0.1279 - val_loss: 0.1284\n",
            "Epoch 34/50\n",
            "\u001b[1m6544/6544\u001b[0m \u001b[32m━━━━━━━━━━━━━━━━━━━━\u001b[0m\u001b[37m\u001b[0m \u001b[1m16s\u001b[0m 2ms/step - loss: 0.1263 - val_loss: 0.1304\n",
            "Epoch 35/50\n",
            "\u001b[1m6544/6544\u001b[0m \u001b[32m━━━━━━━━━━━━━━━━━━━━\u001b[0m\u001b[37m\u001b[0m \u001b[1m16s\u001b[0m 2ms/step - loss: 0.1270 - val_loss: 0.1280\n",
            "Epoch 36/50\n",
            "\u001b[1m6544/6544\u001b[0m \u001b[32m━━━━━━━━━━━━━━━━━━━━\u001b[0m\u001b[37m\u001b[0m \u001b[1m16s\u001b[0m 2ms/step - loss: 0.1265 - val_loss: 0.1289\n",
            "Epoch 37/50\n",
            "\u001b[1m6544/6544\u001b[0m \u001b[32m━━━━━━━━━━━━━━━━━━━━\u001b[0m\u001b[37m\u001b[0m \u001b[1m16s\u001b[0m 2ms/step - loss: 0.1275 - val_loss: 0.1339\n",
            "Epoch 38/50\n",
            "\u001b[1m6544/6544\u001b[0m \u001b[32m━━━━━━━━━━━━━━━━━━━━\u001b[0m\u001b[37m\u001b[0m \u001b[1m15s\u001b[0m 2ms/step - loss: 0.1281 - val_loss: 0.1278\n",
            "Epoch 39/50\n",
            "\u001b[1m6544/6544\u001b[0m \u001b[32m━━━━━━━━━━━━━━━━━━━━\u001b[0m\u001b[37m\u001b[0m \u001b[1m21s\u001b[0m 2ms/step - loss: 0.1268 - val_loss: 0.1317\n",
            "Epoch 40/50\n",
            "\u001b[1m6544/6544\u001b[0m \u001b[32m━━━━━━━━━━━━━━━━━━━━\u001b[0m\u001b[37m\u001b[0m \u001b[1m23s\u001b[0m 3ms/step - loss: 0.1269 - val_loss: 0.1332\n",
            "Epoch 41/50\n",
            "\u001b[1m6544/6544\u001b[0m \u001b[32m━━━━━━━━━━━━━━━━━━━━\u001b[0m\u001b[37m\u001b[0m \u001b[1m16s\u001b[0m 2ms/step - loss: 0.1276 - val_loss: 0.1272\n",
            "Epoch 42/50\n",
            "\u001b[1m6544/6544\u001b[0m \u001b[32m━━━━━━━━━━━━━━━━━━━━\u001b[0m\u001b[37m\u001b[0m \u001b[1m15s\u001b[0m 2ms/step - loss: 0.1268 - val_loss: 0.1277\n",
            "Epoch 43/50\n",
            "\u001b[1m6544/6544\u001b[0m \u001b[32m━━━━━━━━━━━━━━━━━━━━\u001b[0m\u001b[37m\u001b[0m \u001b[1m21s\u001b[0m 2ms/step - loss: 0.1268 - val_loss: 0.1307\n",
            "Epoch 44/50\n",
            "\u001b[1m6544/6544\u001b[0m \u001b[32m━━━━━━━━━━━━━━━━━━━━\u001b[0m\u001b[37m\u001b[0m \u001b[1m16s\u001b[0m 2ms/step - loss: 0.1267 - val_loss: 0.1278\n",
            "Epoch 45/50\n",
            "\u001b[1m6544/6544\u001b[0m \u001b[32m━━━━━━━━━━━━━━━━━━━━\u001b[0m\u001b[37m\u001b[0m \u001b[1m20s\u001b[0m 2ms/step - loss: 0.1261 - val_loss: 0.1276\n",
            "Epoch 46/50\n",
            "\u001b[1m6544/6544\u001b[0m \u001b[32m━━━━━━━━━━━━━━━━━━━━\u001b[0m\u001b[37m\u001b[0m \u001b[1m23s\u001b[0m 3ms/step - loss: 0.1265 - val_loss: 0.1272\n",
            "Epoch 47/50\n",
            "\u001b[1m6544/6544\u001b[0m \u001b[32m━━━━━━━━━━━━━━━━━━━━\u001b[0m\u001b[37m\u001b[0m \u001b[1m15s\u001b[0m 2ms/step - loss: 0.1263 - val_loss: 0.1292\n",
            "Epoch 48/50\n",
            "\u001b[1m6544/6544\u001b[0m \u001b[32m━━━━━━━━━━━━━━━━━━━━\u001b[0m\u001b[37m\u001b[0m \u001b[1m21s\u001b[0m 2ms/step - loss: 0.1273 - val_loss: 0.1288\n",
            "Epoch 49/50\n",
            "\u001b[1m6544/6544\u001b[0m \u001b[32m━━━━━━━━━━━━━━━━━━━━\u001b[0m\u001b[37m\u001b[0m \u001b[1m20s\u001b[0m 2ms/step - loss: 0.1261 - val_loss: 0.1291\n",
            "Epoch 50/50\n",
            "\u001b[1m6544/6544\u001b[0m \u001b[32m━━━━━━━━━━━━━━━━━━━━\u001b[0m\u001b[37m\u001b[0m \u001b[1m21s\u001b[0m 2ms/step - loss: 0.1261 - val_loss: 0.1273\n"
          ]
        }
      ]
    },
    {
      "cell_type": "code",
      "source": [
        "# Make Predictions\n",
        "y_pred = model.predict(X_test).flatten()\n",
        "\n",
        "import numpy as np\n",
        "from sklearn.metrics import r2_score, mean_squared_error\n",
        "\n",
        "# Calculate R² Score (Higher is better)\n",
        "r2 = r2_score(y_test, y_pred)\n",
        "\n",
        "# Calculate RMSE (Lower is better)\n",
        "rmse = np.sqrt(mean_squared_error(y_test, y_pred))\n",
        "mape = mean_absolute_percentage_error(y_test, y_pred)\n",
        "\n",
        "# Print Accuracy Metrics\n",
        "print(f\"ANN R² Score: {r2:.4f}\")\n",
        "print(f\"ANN RMSE: {rmse:.2f}\")\n",
        "print(f\"ANN MAPE : {mape:4f}\")\n"
      ],
      "metadata": {
        "colab": {
          "base_uri": "https://localhost:8080/"
        },
        "id": "Ixxdw-3_8Oyn",
        "outputId": "e20af1dd-c991-4443-d2dc-01d13f03ed5b"
      },
      "execution_count": null,
      "outputs": [
        {
          "output_type": "stream",
          "name": "stdout",
          "text": [
            "\u001b[1m1636/1636\u001b[0m \u001b[32m━━━━━━━━━━━━━━━━━━━━\u001b[0m\u001b[37m\u001b[0m \u001b[1m2s\u001b[0m 1ms/step\n",
            "ANN R² Score: 0.6353\n",
            "ANN RMSE: 0.36\n",
            "ANN MAPE : 0.028114\n"
          ]
        }
      ]
    },
    {
      "cell_type": "code",
      "source": [
        "# Make Predictions\n",
        "y_pred = model.predict(X_train).flatten()"
      ],
      "metadata": {
        "colab": {
          "base_uri": "https://localhost:8080/"
        },
        "id": "WIrMQ9z08b0l",
        "outputId": "00e83d0d-cbed-4776-d1b8-3dcf611851f3"
      },
      "execution_count": null,
      "outputs": [
        {
          "output_type": "stream",
          "name": "stdout",
          "text": [
            "\u001b[1m6544/6544\u001b[0m \u001b[32m━━━━━━━━━━━━━━━━━━━━\u001b[0m\u001b[37m\u001b[0m \u001b[1m8s\u001b[0m 1ms/step\n"
          ]
        }
      ]
    },
    {
      "cell_type": "code",
      "source": [
        "# Calculate R² Score (Higher is better)\n",
        "r2 = r2_score(y_train, y_pred)\n",
        "\n",
        "# Calculate RMSE (Lower is better)\n",
        "rmse = np.sqrt(mean_squared_error(y_train, y_pred))\n",
        "mape = mean_absolute_percentage_error(y_train, y_pred)\n",
        "\n",
        "# Print Accuracy Metrics\n",
        "print(f\"ANN R² Score: {r2:.4f}\")\n",
        "print(f\"ANN RMSE: {rmse:.2f}\")\n",
        "print(f\"ANN MAPE : {mape:4f}\")"
      ],
      "metadata": {
        "colab": {
          "base_uri": "https://localhost:8080/"
        },
        "id": "tfMUdiE88guz",
        "outputId": "346b3b2d-5511-46f8-95c1-c235b9017861"
      },
      "execution_count": null,
      "outputs": [
        {
          "output_type": "stream",
          "name": "stdout",
          "text": [
            "ANN R² Score: 0.6403\n",
            "ANN RMSE: 0.35\n",
            "ANN MAPE : 0.027826\n"
          ]
        }
      ]
    },
    {
      "cell_type": "code",
      "source": [],
      "metadata": {
        "id": "k4ADAcEsAFgA"
      },
      "execution_count": null,
      "outputs": []
    },
    {
      "cell_type": "code",
      "source": [],
      "metadata": {
        "id": "RkJWUI_re79P"
      },
      "execution_count": null,
      "outputs": []
    },
    {
      "cell_type": "code",
      "source": [
        "import numpy as np\n",
        "import pandas as pd\n",
        "from sklearn.ensemble import GradientBoostingRegressor\n",
        "from xgboost import XGBRegressor\n",
        "from sklearn.metrics import r2_score, mean_squared_error\n",
        "\n",
        "# Ensure Train & Test Have the Same Features\n",
        "X_train, X_test = X_train.align(X_test, join=\"inner\", axis=1)\n",
        "\n",
        "# Verify Columns Match\n",
        "print(\"Train Columns:\", X_train.columns.tolist())\n",
        "print(\"Test Columns:\", X_test.columns.tolist())\n",
        "\n",
        "# Train XGBoost Model\n",
        "xgb = XGBRegressor(n_estimators=100, learning_rate=0.1, max_depth=6, random_state=42)\n",
        "xgb.fit(X_train, y_train)\n",
        "y_pred_xgb = xgb.predict(X_test)\n",
        "\n",
        "# Train Gradient Boosting Model\n",
        "gbr = GradientBoostingRegressor(n_estimators=100, learning_rate=0.1, max_depth=6, random_state=42)\n",
        "gbr.fit(X_train, y_train)\n",
        "y_pred_gbr = gbr.predict(X_test)\n",
        "\n",
        "# Evaluate Performance\n",
        "def mean_absolute_percentage_error(y_true, y_pred):\n",
        "    return np.mean(np.abs((y_true - y_pred) / y_true)) * 100\n",
        "\n",
        "r2_xgb = r2_score(y_test, y_pred_xgb)\n",
        "rmse_xgb = mean_squared_error(y_test, y_pred_xgb) ** 0.5\n",
        "mape_xgb = mean_absolute_percentage_error(y_test, y_pred_xgb)\n",
        "\n",
        "# Print Results\n",
        "print(f\"XGBoost - R²: {r2_xgb:.4f}, RMSE: {rmse_xgb:.4f}, MAPE: {mape_xgb:.2f}%\")\n",
        "print(f\"Gradient Boosting - R²: {r2_gbr:.4f}, RMSE: {rmse_gbr:.4f}, MAPE: {mape_gbr:.2f}%\")"
      ],
      "metadata": {
        "colab": {
          "base_uri": "https://localhost:8080/"
        },
        "id": "Xs2VxUApe7_6",
        "outputId": "f4e80795-2203-40b4-bc31-856fd66847ad"
      },
      "execution_count": null,
      "outputs": [
        {
          "output_type": "stream",
          "name": "stdout",
          "text": [
            "Train Columns: ['HH Size (For FDQ)', 'Male_Count', 'Female_Count', 'Other_Count', 'Age_0_18', 'Age_18_60', 'Age_60_above', 'Highest educational level attained_head', 'Total year of education completed_head', 'Highest educational level attained_median', 'Total year of education completed_median', 'No. of days stayed away from home during last 30 days_avg', 'No. of meals usually taken in a day_avg', 'No. of meals taken during last 30 days from school, balwadi etc._avg', 'No. of meals taken during last 30 days from employer as perquisites or part of wage_avg', 'No. of meals taken during last 30 days others_avg', 'No. of meals taken during last 30 days on payment_avg', 'No. of meals taken during last 30 days at home_avg', 'Sector_1', 'Sector_2', 'State_1', 'State_2', 'State_3', 'State_4', 'State_5', 'State_6', 'State_7', 'State_8', 'State_9', 'State_10', 'State_11', 'State_12', 'State_13', 'State_14', 'State_15', 'State_16', 'State_17', 'State_18', 'State_19', 'State_20', 'State_21', 'State_22', 'State_23', 'State_24', 'State_25', 'State_27', 'State_28', 'State_29', 'State_30', 'State_31', 'State_32', 'State_33', 'State_34', 'State_35', 'State_36', 'State_37', 'Household Type_1', 'Household Type_2', 'Household Type_3', 'Household Type_4', 'Household Type_5', 'Household Type_6', 'Household Type_9', 'NCO_2D_11', 'NCO_2D_12', 'NCO_2D_13', 'NCO_2D_14', 'NCO_2D_21', 'NCO_2D_22', 'NCO_2D_23', 'NCO_2D_24', 'NCO_2D_25', 'NCO_2D_26', 'NCO_2D_31', 'NCO_2D_32', 'NCO_2D_33', 'NCO_2D_34', 'NCO_2D_35', 'NCO_2D_41', 'NCO_2D_42', 'NCO_2D_43', 'NCO_2D_44', 'NCO_2D_51', 'NCO_2D_52', 'NCO_2D_53', 'NCO_2D_54', 'NCO_2D_61', 'NCO_2D_62', 'NCO_2D_63', 'NCO_2D_71', 'NCO_2D_72', 'NCO_2D_73', 'NCO_2D_74', 'NCO_2D_75', 'NCO_2D_81', 'NCO_2D_82', 'NCO_2D_83', 'NCO_2D_91', 'NCO_2D_92', 'NCO_2D_93', 'NCO_2D_94', 'NCO_2D_95', 'NCO_2D_96', 'NIC_2D_10', 'NIC_2D_11', 'NIC_2D_12', 'NIC_2D_13', 'NIC_2D_14', 'NIC_2D_15', 'NIC_2D_16', 'NIC_2D_17', 'NIC_2D_18', 'NIC_2D_19', 'NIC_2D_20', 'NIC_2D_21', 'NIC_2D_22', 'NIC_2D_23', 'NIC_2D_24', 'NIC_2D_25', 'NIC_2D_26', 'NIC_2D_27', 'NIC_2D_28', 'NIC_2D_29', 'NIC_2D_30', 'NIC_2D_31', 'NIC_2D_32', 'NIC_2D_33', 'NIC_2D_35', 'NIC_2D_36', 'NIC_2D_37', 'NIC_2D_38', 'NIC_2D_39', 'NIC_2D_41', 'NIC_2D_42', 'NIC_2D_43', 'NIC_2D_45', 'NIC_2D_46', 'NIC_2D_47', 'NIC_2D_49', 'NIC_2D_50', 'NIC_2D_51', 'NIC_2D_52', 'NIC_2D_53', 'NIC_2D_55', 'NIC_2D_56', 'NIC_2D_58', 'NIC_2D_59', 'NIC_2D_60', 'NIC_2D_61', 'NIC_2D_62', 'NIC_2D_63', 'NIC_2D_64', 'NIC_2D_65', 'NIC_2D_66', 'NIC_2D_68', 'NIC_2D_69', 'NIC_2D_70', 'NIC_2D_71', 'NIC_2D_72', 'NIC_2D_73', 'NIC_2D_74', 'NIC_2D_75', 'NIC_2D_77', 'NIC_2D_78', 'NIC_2D_79', 'NIC_2D_80', 'NIC_2D_81', 'NIC_2D_82', 'NIC_2D_84', 'NIC_2D_85', 'NIC_2D_86', 'NIC_2D_87', 'NIC_2D_88', 'NIC_2D_89', 'NIC_2D_90', 'NIC_2D_91', 'NIC_2D_92', 'NIC_2D_93', 'NIC_2D_94', 'NIC_2D_95', 'NIC_2D_96', 'NIC_2D_97', 'NIC_2D_99', 'Religion of the head of the household_0', 'Religion of the head of the household_1', 'Religion of the head of the household_2', 'Religion of the head of the household_3', 'Religion of the head of the household_4', 'Religion of the head of the household_5', 'Religion of the head of the household_6', 'Religion of the head of the household_7', 'Religion of the head of the household_9', 'Social Group of the head of the household_0', 'Social Group of the head of the household_1', 'Social Group of the head of the household_2', 'Social Group of the head of the household_3', 'Social Group of the head of the household_9', 'Is_online_Clothing_Purchased_Last365_0', 'Is_online_Clothing_Purchased_Last365_1', 'Is_online_Footwear_Purchased_Last365_0', 'Is_online_Footwear_Purchased_Last365_1', 'Is_online_Furniture_fixturesPurchased_Last365_0', 'Is_online_Furniture_fixturesPurchased_Last365_1', 'Is_online_Mobile_Handset_Purchased_Last365_0', 'Is_online_Mobile_Handset_Purchased_Last365_1', 'Is_online_Personal_Goods_Purchased_Last365_0', 'Is_online_Personal_Goods_Purchased_Last365_1', 'Is_online_Recreation_Goods_Purchased_Last365_0', 'Is_online_Recreation_Goods_Purchased_Last365_1', 'Is_online_Household_Appliances_Purchased_Last365_0', 'Is_online_Household_Appliances_Purchased_Last365_1', 'Is_online_Crockery_Utensils_Purchased_Last365_0', 'Is_online_Crockery_Utensils_Purchased_Last365_1', 'Is_online_Sports_Goods_Purchased_Last365_0', 'Is_online_Sports_Goods_Purchased_Last365_1', 'Is_online_Medical_Equipment_Purchased_Last365_0', 'Is_online_Medical_Equipment_Purchased_Last365_1', 'Is_online_Bedding_Purchased_Last365_0', 'Is_online_Bedding_Purchased_Last365_1', 'Is_HH_Have_Television_0', 'Is_HH_Have_Television_1', 'Is_HH_Have_Radio_0', 'Is_HH_Have_Radio_1', 'Is_HH_Have_Laptop_PC_0', 'Is_HH_Have_Laptop_PC_1', 'Is_HH_Have_Mobile_handset_0', 'Is_HH_Have_Mobile_handset_1', 'Is_HH_Have_Bicycle_0', 'Is_HH_Have_Bicycle_1', 'Is_HH_Have_Motorcycle_scooter_0', 'Is_HH_Have_Motorcycle_scooter_1', 'Is_HH_Have_Motorcar_jeep_van_0', 'Is_HH_Have_Motorcar_jeep_van_1', 'Is_HH_Have_Trucks_0', 'Is_HH_Have_Trucks_1', 'Is_HH_Have_Animal_cart_0', 'Is_HH_Have_Animal_cart_1', 'Is_HH_Have_Refrigerator_0', 'Is_HH_Have_Refrigerator_1', 'Is_HH_Have_Washing_machine_0', 'Is_HH_Have_Washing_machine_1', 'Is_HH_Have_Airconditioner_aircooler_0', 'Is_HH_Have_Airconditioner_aircooler_1', 'Marital Status_head_1', 'Marital Status_head_2', 'Marital Status_head_3', 'Marital Status_head_4', 'Whether used internet from any location during last 30 days_1', 'Whether used internet from any location during last 30 days_2']\n",
            "Test Columns: ['HH Size (For FDQ)', 'Male_Count', 'Female_Count', 'Other_Count', 'Age_0_18', 'Age_18_60', 'Age_60_above', 'Highest educational level attained_head', 'Total year of education completed_head', 'Highest educational level attained_median', 'Total year of education completed_median', 'No. of days stayed away from home during last 30 days_avg', 'No. of meals usually taken in a day_avg', 'No. of meals taken during last 30 days from school, balwadi etc._avg', 'No. of meals taken during last 30 days from employer as perquisites or part of wage_avg', 'No. of meals taken during last 30 days others_avg', 'No. of meals taken during last 30 days on payment_avg', 'No. of meals taken during last 30 days at home_avg', 'Sector_1', 'Sector_2', 'State_1', 'State_2', 'State_3', 'State_4', 'State_5', 'State_6', 'State_7', 'State_8', 'State_9', 'State_10', 'State_11', 'State_12', 'State_13', 'State_14', 'State_15', 'State_16', 'State_17', 'State_18', 'State_19', 'State_20', 'State_21', 'State_22', 'State_23', 'State_24', 'State_25', 'State_27', 'State_28', 'State_29', 'State_30', 'State_31', 'State_32', 'State_33', 'State_34', 'State_35', 'State_36', 'State_37', 'Household Type_1', 'Household Type_2', 'Household Type_3', 'Household Type_4', 'Household Type_5', 'Household Type_6', 'Household Type_9', 'NCO_2D_11', 'NCO_2D_12', 'NCO_2D_13', 'NCO_2D_14', 'NCO_2D_21', 'NCO_2D_22', 'NCO_2D_23', 'NCO_2D_24', 'NCO_2D_25', 'NCO_2D_26', 'NCO_2D_31', 'NCO_2D_32', 'NCO_2D_33', 'NCO_2D_34', 'NCO_2D_35', 'NCO_2D_41', 'NCO_2D_42', 'NCO_2D_43', 'NCO_2D_44', 'NCO_2D_51', 'NCO_2D_52', 'NCO_2D_53', 'NCO_2D_54', 'NCO_2D_61', 'NCO_2D_62', 'NCO_2D_63', 'NCO_2D_71', 'NCO_2D_72', 'NCO_2D_73', 'NCO_2D_74', 'NCO_2D_75', 'NCO_2D_81', 'NCO_2D_82', 'NCO_2D_83', 'NCO_2D_91', 'NCO_2D_92', 'NCO_2D_93', 'NCO_2D_94', 'NCO_2D_95', 'NCO_2D_96', 'NIC_2D_10', 'NIC_2D_11', 'NIC_2D_12', 'NIC_2D_13', 'NIC_2D_14', 'NIC_2D_15', 'NIC_2D_16', 'NIC_2D_17', 'NIC_2D_18', 'NIC_2D_19', 'NIC_2D_20', 'NIC_2D_21', 'NIC_2D_22', 'NIC_2D_23', 'NIC_2D_24', 'NIC_2D_25', 'NIC_2D_26', 'NIC_2D_27', 'NIC_2D_28', 'NIC_2D_29', 'NIC_2D_30', 'NIC_2D_31', 'NIC_2D_32', 'NIC_2D_33', 'NIC_2D_35', 'NIC_2D_36', 'NIC_2D_37', 'NIC_2D_38', 'NIC_2D_39', 'NIC_2D_41', 'NIC_2D_42', 'NIC_2D_43', 'NIC_2D_45', 'NIC_2D_46', 'NIC_2D_47', 'NIC_2D_49', 'NIC_2D_50', 'NIC_2D_51', 'NIC_2D_52', 'NIC_2D_53', 'NIC_2D_55', 'NIC_2D_56', 'NIC_2D_58', 'NIC_2D_59', 'NIC_2D_60', 'NIC_2D_61', 'NIC_2D_62', 'NIC_2D_63', 'NIC_2D_64', 'NIC_2D_65', 'NIC_2D_66', 'NIC_2D_68', 'NIC_2D_69', 'NIC_2D_70', 'NIC_2D_71', 'NIC_2D_72', 'NIC_2D_73', 'NIC_2D_74', 'NIC_2D_75', 'NIC_2D_77', 'NIC_2D_78', 'NIC_2D_79', 'NIC_2D_80', 'NIC_2D_81', 'NIC_2D_82', 'NIC_2D_84', 'NIC_2D_85', 'NIC_2D_86', 'NIC_2D_87', 'NIC_2D_88', 'NIC_2D_89', 'NIC_2D_90', 'NIC_2D_91', 'NIC_2D_92', 'NIC_2D_93', 'NIC_2D_94', 'NIC_2D_95', 'NIC_2D_96', 'NIC_2D_97', 'NIC_2D_99', 'Religion of the head of the household_0', 'Religion of the head of the household_1', 'Religion of the head of the household_2', 'Religion of the head of the household_3', 'Religion of the head of the household_4', 'Religion of the head of the household_5', 'Religion of the head of the household_6', 'Religion of the head of the household_7', 'Religion of the head of the household_9', 'Social Group of the head of the household_0', 'Social Group of the head of the household_1', 'Social Group of the head of the household_2', 'Social Group of the head of the household_3', 'Social Group of the head of the household_9', 'Is_online_Clothing_Purchased_Last365_0', 'Is_online_Clothing_Purchased_Last365_1', 'Is_online_Footwear_Purchased_Last365_0', 'Is_online_Footwear_Purchased_Last365_1', 'Is_online_Furniture_fixturesPurchased_Last365_0', 'Is_online_Furniture_fixturesPurchased_Last365_1', 'Is_online_Mobile_Handset_Purchased_Last365_0', 'Is_online_Mobile_Handset_Purchased_Last365_1', 'Is_online_Personal_Goods_Purchased_Last365_0', 'Is_online_Personal_Goods_Purchased_Last365_1', 'Is_online_Recreation_Goods_Purchased_Last365_0', 'Is_online_Recreation_Goods_Purchased_Last365_1', 'Is_online_Household_Appliances_Purchased_Last365_0', 'Is_online_Household_Appliances_Purchased_Last365_1', 'Is_online_Crockery_Utensils_Purchased_Last365_0', 'Is_online_Crockery_Utensils_Purchased_Last365_1', 'Is_online_Sports_Goods_Purchased_Last365_0', 'Is_online_Sports_Goods_Purchased_Last365_1', 'Is_online_Medical_Equipment_Purchased_Last365_0', 'Is_online_Medical_Equipment_Purchased_Last365_1', 'Is_online_Bedding_Purchased_Last365_0', 'Is_online_Bedding_Purchased_Last365_1', 'Is_HH_Have_Television_0', 'Is_HH_Have_Television_1', 'Is_HH_Have_Radio_0', 'Is_HH_Have_Radio_1', 'Is_HH_Have_Laptop_PC_0', 'Is_HH_Have_Laptop_PC_1', 'Is_HH_Have_Mobile_handset_0', 'Is_HH_Have_Mobile_handset_1', 'Is_HH_Have_Bicycle_0', 'Is_HH_Have_Bicycle_1', 'Is_HH_Have_Motorcycle_scooter_0', 'Is_HH_Have_Motorcycle_scooter_1', 'Is_HH_Have_Motorcar_jeep_van_0', 'Is_HH_Have_Motorcar_jeep_van_1', 'Is_HH_Have_Trucks_0', 'Is_HH_Have_Trucks_1', 'Is_HH_Have_Animal_cart_0', 'Is_HH_Have_Animal_cart_1', 'Is_HH_Have_Refrigerator_0', 'Is_HH_Have_Refrigerator_1', 'Is_HH_Have_Washing_machine_0', 'Is_HH_Have_Washing_machine_1', 'Is_HH_Have_Airconditioner_aircooler_0', 'Is_HH_Have_Airconditioner_aircooler_1', 'Marital Status_head_1', 'Marital Status_head_2', 'Marital Status_head_3', 'Marital Status_head_4', 'Whether used internet from any location during last 30 days_1', 'Whether used internet from any location during last 30 days_2']\n",
            "XGBoost - R²: 0.6870, RMSE: 0.3305, MAPE: 2.61%\n",
            "Gradient Boosting - R²: 0.7001, RMSE: 0.3221, MAPE: 2.55%\n"
          ]
        }
      ]
    },
    {
      "cell_type": "code",
      "source": [
        "y_pred_gbr = gbr.predict(X_train)"
      ],
      "metadata": {
        "id": "tKchdI3XgsEb"
      },
      "execution_count": null,
      "outputs": []
    },
    {
      "cell_type": "code",
      "source": [
        "# Evaluate Performance\n",
        "def mean_absolute_percentage_error(y_true, y_pred):\n",
        "    return np.mean(np.abs((y_true - y_pred) / y_true)) * 100\n",
        "\n",
        "r2_xgb = r2_score(y_train, y_pred_gbr)\n",
        "rmse_xgb = mean_squared_error(y_train, y_pred_gbr) ** 0.5\n",
        "mape_xgb = mean_absolute_percentage_error(y_train, y_pred_gbr)\n",
        "\n",
        "r2_gbr = r2_score(y_train, y_pred_gbr)\n",
        "rmse_gbr = mean_squared_error(y_train, y_pred_gbr) ** 0.5\n",
        "mape_gbr = mean_absolute_percentage_error(y_train, y_pred_gbr)\n",
        "\n",
        "# Print Results\n",
        "print(f\"XGBoost - R²: {r2_xgb:.4f}, RMSE: {rmse_xgb:.4f}, MAPE: {mape_xgb:.2f}%\")\n",
        "print(f\"Gradient Boosting - R²: {r2_gbr:.4f}, RMSE: {rmse_gbr:.4f}, MAPE: {mape_gbr:.2f}%\")"
      ],
      "metadata": {
        "colab": {
          "base_uri": "https://localhost:8080/"
        },
        "id": "_DFr4vGUgsH6",
        "outputId": "cf9d0019-6970-422f-bd52-705dff97198e"
      },
      "execution_count": null,
      "outputs": [
        {
          "output_type": "stream",
          "name": "stdout",
          "text": [
            "XGBoost - R²: 0.7001, RMSE: 0.3221, MAPE: 2.55%\n",
            "Gradient Boosting - R²: 0.7001, RMSE: 0.3221, MAPE: 2.55%\n"
          ]
        }
      ]
    },
    {
      "cell_type": "code",
      "source": [],
      "metadata": {
        "id": "hH3NIAsFkexm"
      },
      "execution_count": null,
      "outputs": []
    },
    {
      "cell_type": "code",
      "source": [],
      "metadata": {
        "id": "N9M7_d6alHei"
      },
      "execution_count": null,
      "outputs": []
    },
    {
      "cell_type": "code",
      "source": [
        "import numpy as np\n",
        "import pandas as pd\n",
        "from sklearn.linear_model import Ridge\n",
        "from sklearn.metrics import r2_score, mean_squared_error\n",
        "\n",
        "# Ensure Train & Test Have the Same Features\n",
        "X_train, X_test = X_train.align(X_test, join=\"inner\", axis=1)\n",
        "\n",
        "# Train Ridge Regression Model (L2 Regularization)\n",
        "ridge = Ridge(alpha=1.0)  # alpha controls regularization strength\n",
        "ridge.fit(X_train, y_train)\n",
        "y_pred_ridge = ridge.predict(X_test)\n",
        "\n",
        "# Define MAPE Function\n",
        "def mean_absolute_percentage_error(y_true, y_pred):\n",
        "    return np.mean(np.abs((y_true - y_pred) / y_true)) * 100\n",
        "\n",
        "# Evaluate Performance\n",
        "r2_ridge = r2_score(y_test, y_pred_ridge)\n",
        "rmse_ridge = mean_squared_error(y_test, y_pred_ridge) ** 0.5\n",
        "mape_ridge = mean_absolute_percentage_error(y_test, y_pred_ridge)\n",
        "\n",
        "# Print Results\n",
        "print(f\"Ridge Regression - R²: {r2_ridge:.4f}, RMSE: {rmse_ridge:.4f}, MAPE: {mape_ridge:.2f}%\")\n"
      ],
      "metadata": {
        "colab": {
          "base_uri": "https://localhost:8080/"
        },
        "id": "LTDb-fjklHhE",
        "outputId": "cce50b07-f9f4-4abc-92c1-a643a1d89d09"
      },
      "execution_count": null,
      "outputs": [
        {
          "output_type": "stream",
          "name": "stdout",
          "text": [
            "Ridge Regression - R²: 0.6510, RMSE: 0.3490, MAPE: 2.76%\n"
          ]
        }
      ]
    },
    {
      "cell_type": "code",
      "source": [
        "y_pred_ridge = ridge.predict(X_train)\n",
        "\n",
        "# Define MAPE Function\n",
        "def mean_absolute_percentage_error(y_true, y_pred):\n",
        "    return np.mean(np.abs((y_true - y_pred) / y_true)) * 100\n",
        "\n",
        "# Evaluate Performance\n",
        "r2_ridge = r2_score(y_train, y_pred_ridge)\n",
        "rmse_ridge = mean_squared_error(y_train, y_pred_ridge) ** 0.5\n",
        "mape_ridge = mean_absolute_percentage_error(y_train, y_pred_ridge)\n",
        "\n",
        "# Print Results\n",
        "print(f\"Ridge Regression - R²: {r2_ridge:.4f}, RMSE: {rmse_ridge:.4f}, MAPE: {mape_ridge:.2f}%\")\n"
      ],
      "metadata": {
        "colab": {
          "base_uri": "https://localhost:8080/"
        },
        "id": "dYO-GolzlHj4",
        "outputId": "00ee4ff5-86fe-4285-a630-e8093786b143"
      },
      "execution_count": null,
      "outputs": [
        {
          "output_type": "stream",
          "name": "stdout",
          "text": [
            "Ridge Regression - R²: 0.6541, RMSE: 0.3460, MAPE: 2.74%\n"
          ]
        }
      ]
    },
    {
      "cell_type": "code",
      "source": [],
      "metadata": {
        "id": "aa9dhrtgmNBQ"
      },
      "execution_count": null,
      "outputs": []
    },
    {
      "cell_type": "code",
      "source": [],
      "metadata": {
        "id": "qNMZ3qMomh5Q"
      },
      "execution_count": null,
      "outputs": []
    },
    {
      "cell_type": "code",
      "source": [],
      "metadata": {
        "id": "1uIQHz_Emh7d"
      },
      "execution_count": null,
      "outputs": []
    },
    {
      "cell_type": "code",
      "source": [
        "import numpy as np\n",
        "import pandas as pd\n",
        "from sklearn.ensemble import RandomForestRegressor, GradientBoostingRegressor, StackingRegressor\n",
        "from sklearn.linear_model import Ridge\n",
        "from xgboost import XGBRegressor\n",
        "from sklearn.metrics import r2_score, mean_squared_error\n",
        "\n",
        "# Ensure Train & Test Have the Same Features\n",
        "X_train, X_test = X_train.align(X_test, join=\"inner\", axis=1)\n",
        "\n",
        "# Define Base Models\n",
        "base_models = [\n",
        "    ('RandomForest', RandomForestRegressor(n_estimators=100, random_state=42)),\n",
        "    ('GradientBoost', GradientBoostingRegressor(n_estimators=100, learning_rate=0.1, max_depth=6, random_state=42)),\n",
        "    ('XGBoost', XGBRegressor(n_estimators=100, learning_rate=0.1, max_depth=6, random_state=42))\n",
        "]\n",
        "\n",
        "# Define Meta-Model (Ridge Regression)\n",
        "meta_model = Ridge(alpha=1.0)\n",
        "\n",
        "# Create Stacking Regressor\n",
        "stacking_model = StackingRegressor(estimators=base_models, final_estimator=meta_model, cv=5)\n",
        "\n",
        "# Train Stacking Model\n",
        "stacking_model.fit(X_train, y_train)\n",
        "\n",
        "# Make Predictions\n",
        "y_pred_stack = stacking_model.predict(X_test)\n",
        "\n",
        "# Define MAPE Function\n",
        "def mean_absolute_percentage_error(y_true, y_pred):\n",
        "    return np.mean(np.abs((y_true - y_pred) / y_true)) * 100\n",
        "\n",
        "# Evaluate Performance\n",
        "r2_stack = r2_score(y_test, y_pred_stack)\n",
        "rmse_stack = mean_squared_error(y_test, y_pred_stack) ** 0.5\n",
        "mape_stack = mean_absolute_percentage_error(y_test, y_pred_stack)\n",
        "\n",
        "# Print Results\n",
        "print(f\"Stacking Regressor - R²: {r2_stack:.4f}, RMSE: {rmse_stack:.4f}, MAPE: {mape_stack:.2f}%\")\n"
      ],
      "metadata": {
        "id": "1Plk9cAlmh-o"
      },
      "execution_count": null,
      "outputs": []
    },
    {
      "cell_type": "code",
      "source": [],
      "metadata": {
        "id": "cpcfNvFlmiIJ"
      },
      "execution_count": null,
      "outputs": []
    }
  ]
}